{
 "cells": [
  {
   "cell_type": "markdown",
   "id": "ac4552b4",
   "metadata": {},
   "source": [
    "This function will take a list of dictionaries and convert that structure into an initial neural network with He weight initialization."
   ]
  },
  {
   "cell_type": "code",
   "execution_count": 3,
   "id": "3040e33c",
   "metadata": {},
   "outputs": [],
   "source": [
    "import numpy as np\n",
    "\n",
    "def init_layers(nn_architecture, seed = 42):\n",
    "    np.random.seed(seed)\n",
    "    params_values = {}\n",
    "\n",
    "    # Take the list of dictionaries and construct a NN with randomly assigned weights and bias vectors.\n",
    "    # Layers are given small random numbers as their inital state so as not to encounter the breaking symmetry problem if all given the same values and it provides a good enough starting point.\n",
    "    # Using small values increases the efficiency of the algorithm during the first iterations.\n",
    "    for i in range(1, len(nn_architecture)):\n",
    "        layer_input_size = nn_architecture[i-1][\"input_nodes\"]\n",
    "\n",
    "        if (i == len(nn_architecture)-1):\n",
    "            layer_output_size = 10\n",
    "        else:\n",
    "            layer_output_size = nn_architecture[i][\"input_nodes\"]\n",
    "        \n",
    "        # Initialize layer node's weights using He Weight Initialization. This is suitable as we are using ReLU activation functions.\n",
    "        # Source: https://datascience-enthusiast.com/DL/Improving-DeepNeural-Networks-Initialization.html\n",
    "        # This stage is important as incorrect weight initialization can lead to vanishing/exploding gradients.\n",
    "        params_values['W' + str(i)] = np.random.randn(\n",
    "            layer_output_size, layer_input_size) * np.sqrt(2.0 / layer_input_size)\n",
    "        \n",
    "        \n",
    "    return params_values"
   ]
  },
  {
   "cell_type": "code",
   "execution_count": 4,
   "id": "59484d2f",
   "metadata": {},
   "outputs": [
    {
     "name": "stderr",
     "output_type": "stream",
     "text": [
      "C:\\Users\\Emre\\AppData\\Local\\Temp/ipykernel_19656/1789563428.py:14: FutureWarning: In a future version of pandas all arguments of DataFrame.drop except for the argument 'labels' will be keyword-only\n",
      "  df_train = df_train.drop('label', 1)\n",
      "C:\\Users\\Emre\\AppData\\Local\\Temp/ipykernel_19656/1789563428.py:20: FutureWarning: In a future version of pandas all arguments of DataFrame.drop except for the argument 'labels' will be keyword-only\n",
      "  df_test = df_test.drop('label', 1)\n"
     ]
    }
   ],
   "source": [
    "# Setup the initialization array which outlines the architecture of the NN and will be passed into the program to generate the appropraite NN.\n",
    "nn_architecture = [\n",
    "    {\"input_nodes\": 784, \"activation\": \"relu\"},\n",
    "    {\"input_nodes\": 128, \"activation\": \"relu\"},\n",
    "    {\"input_nodes\": 10, \"activation\": \"softmax\"},\n",
    "]\n",
    "\n",
    "import pandas as pd\n",
    "\n",
    "df_test = pd.read_csv('./Dataset/fashion-mnist_test.csv')\n",
    "df_train = pd.read_csv('./Dataset/fashion-mnist_train.csv')\n",
    "\n",
    "y_train = np.array(df_train['label'].to_numpy())\n",
    "df_train = df_train.drop('label', 1)\n",
    "\n",
    "# Normalziing the pixel data\n",
    "X_train = np.array((df_train.to_numpy() / 255).astype('float32'))\n",
    "\n",
    "y_test = np.array(df_test['label'].to_numpy())\n",
    "df_test = df_test.drop('label', 1)\n",
    "\n",
    "# Normalziing the pixel data\n",
    "X_test = np.array((df_test.to_numpy() / 255).astype('float32'))\n",
    "\n",
    "# One Hot Encoding the labels\n",
    "y_train = np.eye(10)[y_train]\n",
    "y_test = np.eye(10)[y_test]\n",
    "\n",
    "# Create neural network based on specified architecture with initial weights.\n",
    "params_values = init_layers(nn_architecture, 42)\n",
    "print(params_values)"
   ]
  }
 ],
 "metadata": {
  "kernelspec": {
   "display_name": "Python 3",
   "language": "python",
   "name": "python3"
  },
  "language_info": {
   "codemirror_mode": {
    "name": "ipython",
    "version": 3
   },
   "file_extension": ".py",
   "mimetype": "text/x-python",
   "name": "python",
   "nbconvert_exporter": "python",
   "pygments_lexer": "ipython3",
   "version": "3.10.0"
  }
 },
 "nbformat": 4,
 "nbformat_minor": 5
}
