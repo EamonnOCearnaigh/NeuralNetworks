{
 "cells": [
  {
   "cell_type": "markdown",
   "metadata": {
    "id": "dGyYg5xVbENV"
   },
   "source": [
    "# Programming and Mathematics for AI: Task 4"
   ]
  },
  {
   "cell_type": "markdown",
   "metadata": {
    "id": "Ybt9PZvQbMj1"
   },
   "source": [
    "# Part 1: Implement a Neural Network (Baseline)"
   ]
  },
  {
   "cell_type": "markdown",
   "metadata": {
    "id": "ARnCgtMibVl_"
   },
   "source": [
    "Imports"
   ]
  },
  {
   "cell_type": "code",
   "execution_count": 1,
   "metadata": {
    "id": "1Xws79YNaQBV"
   },
   "outputs": [],
   "source": [
    "# NumPy\n",
    "import numpy as np\n",
    "\n",
    "# PyTorch - Open-source machine learning framework\n",
    "import torch\n",
    "import torch.nn as nn # Neural network\n",
    "import torch.nn.functional as F\n",
    "import torch.optim as optim\n",
    "from torch.utils.data.sampler import SubsetRandomSampler\n",
    "\n",
    "#Torchvision - Package consisting of popular datasets, model architectures, and common image transformations for computer vision\n",
    "import torchvision\n",
    "# from torchvision import datasets # Possibly remove\n",
    "import torchvision.transforms as transforms\n",
    "from torchvision.datasets import CIFAR10 # Dataset\n",
    "from torchvision.transforms import ToTensor\n",
    "from torchvision.utils import make_grid\n",
    "from torch.utils.data.dataloader import DataLoader\n",
    "from torch.utils.data import random_split\n",
    "\n",
    "# Matplotlib - Visualising data\n",
    "import matplotlib.pyplot as plt\n",
    "%matplotlib inline\n"
   ]
  },
  {
   "cell_type": "markdown",
   "metadata": {
    "id": "G1yH0z8Gbkmr"
   },
   "source": [
    "Downloading CIFAR-10 dataset, and examining its contents. 50,000 images are intended for training, and 10,000 for testing. We will split this further by including a validation set of 5,000 images from the training set."
   ]
  },
  {
   "cell_type": "code",
   "execution_count": 2,
   "metadata": {
    "colab": {
     "base_uri": "https://localhost:8080/",
     "height": 84,
     "referenced_widgets": [
      "30b934b3b34c4e7cb6c87416718c90aa",
      "b7822a7b83964e01a9b5a0eddd037baa",
      "9e0363575f2243ae970667a1c18e3f3b",
      "3198a63ecb0d444a858b229af37bb36f",
      "634a7a3be8cd44168e0ccfb05dc8ea39",
      "4374c0dee685498680ed3418f3df872c",
      "2472d440e1e44c1fa5d755c8fccce32c",
      "e8bbc929705248489bee2ca7edc75db5",
      "b645dd78adcb499c9e20442ad5e42173",
      "85a619d4ebf8429c9f9d55be3e51c217",
      "482c34cc32d447abbc6a2bfc5e71159e"
     ]
    },
    "id": "SX8vZjRhbo0N",
    "outputId": "ccb297c2-cd0b-4241-ff18-2a737ada83ca"
   },
   "outputs": [
    {
     "name": "stdout",
     "output_type": "stream",
     "text": [
      "Downloading https://www.cs.toronto.edu/~kriz/cifar-10-python.tar.gz to data/cifar-10-python.tar.gz\n"
     ]
    },
    {
     "data": {
      "application/vnd.jupyter.widget-view+json": {
       "model_id": "30b934b3b34c4e7cb6c87416718c90aa",
       "version_major": 2,
       "version_minor": 0
      },
      "text/plain": [
       "  0%|          | 0/170498071 [00:00<?, ?it/s]"
      ]
     },
     "metadata": {},
     "output_type": "display_data"
    },
    {
     "name": "stdout",
     "output_type": "stream",
     "text": [
      "Extracting data/cifar-10-python.tar.gz to data/\n"
     ]
    }
   ],
   "source": [
    "training_data = CIFAR10(root = 'data/', download = True, transform = ToTensor())\n",
    "\n",
    "testing_data = CIFAR10(root = 'data/', train = False, transform = ToTensor())"
   ]
  },
  {
   "cell_type": "code",
   "execution_count": 3,
   "metadata": {
    "colab": {
     "base_uri": "https://localhost:8080/"
    },
    "id": "jQveNALUbrNj",
    "outputId": "f58a674f-aef2-4652-994a-8f3e55ab9eff"
   },
   "outputs": [
    {
     "name": "stdout",
     "output_type": "stream",
     "text": [
      "['airplane', 'automobile', 'bird', 'cat', 'deer', 'dog', 'frog', 'horse', 'ship', 'truck']\n"
     ]
    }
   ],
   "source": [
    "classes = training_data.classes\n",
    "print(classes)"
   ]
  },
  {
   "cell_type": "code",
   "execution_count": 4,
   "metadata": {
    "colab": {
     "base_uri": "https://localhost:8080/"
    },
    "id": "EckRAdaRbrxU",
    "outputId": "0af963cc-b015-4014-eedb-b88b8aab1e09"
   },
   "outputs": [
    {
     "name": "stdout",
     "output_type": "stream",
     "text": [
      "50000\n"
     ]
    }
   ],
   "source": [
    "training_data_size = len(training_data)\n",
    "print(training_data_size)"
   ]
  },
  {
   "cell_type": "code",
   "execution_count": 5,
   "metadata": {
    "colab": {
     "base_uri": "https://localhost:8080/"
    },
    "id": "zpGC4ib0bxD9",
    "outputId": "2a374c19-b459-4687-b04f-e314eade9466"
   },
   "outputs": [
    {
     "name": "stdout",
     "output_type": "stream",
     "text": [
      "10000\n"
     ]
    }
   ],
   "source": [
    "testing_data_size = len(testing_data)\n",
    "print(testing_data_size)"
   ]
  },
  {
   "cell_type": "code",
   "execution_count": 6,
   "metadata": {
    "colab": {
     "base_uri": "https://localhost:8080/"
    },
    "id": "tjU9-Ht8b1g4",
    "outputId": "84686e65-9f5a-42f6-bbe1-23185f4daa9f"
   },
   "outputs": [
    {
     "name": "stdout",
     "output_type": "stream",
     "text": [
      "10\n"
     ]
    }
   ],
   "source": [
    "classes_count = len(training_data.classes)\n",
    "print(classes_count)"
   ]
  },
  {
   "cell_type": "code",
   "execution_count": 7,
   "metadata": {
    "colab": {
     "base_uri": "https://localhost:8080/"
    },
    "id": "FniE0VuEb5x_",
    "outputId": "b2d7d286-ff4d-43dd-c14f-df301778224c"
   },
   "outputs": [
    {
     "data": {
      "text/plain": [
       "torch.Size([3, 32, 32])"
      ]
     },
     "execution_count": 7,
     "metadata": {},
     "output_type": "execute_result"
    }
   ],
   "source": [
    "# Image shape\n",
    "image, label = training_data[0]\n",
    "image_shape = image.shape\n",
    "image_shape"
   ]
  },
  {
   "cell_type": "markdown",
   "metadata": {
    "id": "7mnswgS-cWLM"
   },
   "source": [
    "Further splitting data to get a validation set. Using a seed value to ensure the same validation set is always used."
   ]
  },
  {
   "cell_type": "code",
   "execution_count": 8,
   "metadata": {
    "colab": {
     "base_uri": "https://localhost:8080/"
    },
    "id": "-Zy17FjucEK0",
    "outputId": "0016a7c6-5a3c-489b-aa77-898cccc94f9d"
   },
   "outputs": [
    {
     "data": {
      "text/plain": [
       "<torch._C.Generator at 0x7fbd320fcab0>"
      ]
     },
     "execution_count": 8,
     "metadata": {},
     "output_type": "execute_result"
    }
   ],
   "source": [
    "# Validation data size\n",
    "validation_size = 5000\n",
    "# New training data size\n",
    "training_size = len(training_data) - validation_size\n",
    "# Random seed for reproducibility\n",
    "torch.manual_seed(25)"
   ]
  },
  {
   "cell_type": "markdown",
   "metadata": {
    "id": "TT-3fcxvcaSA"
   },
   "source": [
    "Using random split on training data to allocate 5,000 images to validation."
   ]
  },
  {
   "cell_type": "code",
   "execution_count": 9,
   "metadata": {
    "colab": {
     "base_uri": "https://localhost:8080/"
    },
    "id": "Kah-o5Y-caxQ",
    "outputId": "9f105272-192c-4f32-ad73-6d1cd7ed4cb5"
   },
   "outputs": [
    {
     "name": "stdout",
     "output_type": "stream",
     "text": [
      "45000\n",
      "5000\n",
      "10000\n"
     ]
    }
   ],
   "source": [
    "training_data, validation_data = random_split(training_data, [training_size, validation_size])\n",
    "\n",
    "# Final datasets\n",
    "print(len(training_data)) # Data used to fit the model\n",
    "print(len(validation_data)) # Data used to fine-tune the model hyperparameters\n",
    "print(len(testing_data)) # Data used to provide an unbiased evaluation of a final NN"
   ]
  },
  {
   "cell_type": "markdown",
   "metadata": {
    "id": "7ZTTzBdgcefX"
   },
   "source": [
    "Baseline Parameters"
   ]
  },
  {
   "cell_type": "markdown",
   "metadata": {
    "id": "FvZMubJWcgvs"
   },
   "source": [
    "Batch size defines the number of samples that will be propagated through the neural network, number of epochs determines training times, optimiser function has several options. Learning rate describes the rate at which the model optimises."
   ]
  },
  {
   "cell_type": "code",
   "execution_count": 10,
   "metadata": {
    "id": "3fnjldrfci7O"
   },
   "outputs": [],
   "source": [
    "batch_size = 128\n",
    "epochs = 10\n",
    "optimiser_function = torch.optim.SGD\n",
    "learning_rate = 1e-1"
   ]
  },
  {
   "cell_type": "markdown",
   "metadata": {
    "id": "iPTE2U1Vcuap"
   },
   "source": [
    "Data loaders for training, validation, testing sets.  We used shuffle for the training data loader so that batches are different per epoch during training.  This boosts generalisation. 2 workers are used, as recommended by colab."
   ]
  },
  {
   "cell_type": "code",
   "execution_count": 11,
   "metadata": {
    "id": "bLoJxjaOcxCy"
   },
   "outputs": [],
   "source": [
    "training_loader = DataLoader(training_data, batch_size, shuffle=True, num_workers=2, pin_memory=True)\n",
    "\n",
    "validation_loader = DataLoader(validation_data, batch_size*2, num_workers=2, pin_memory=True)\n",
    "\n",
    "testing_loader = DataLoader(testing_data, batch_size*2, num_workers=2, pin_memory=True)"
   ]
  },
  {
   "cell_type": "markdown",
   "metadata": {
    "id": "xoXQx7SuczBk"
   },
   "source": [
    "# Building the Neural Network"
   ]
  },
  {
   "cell_type": "markdown",
   "metadata": {
    "id": "kcf12fCYc2As"
   },
   "source": [
    "Function to determine model accuracy"
   ]
  },
  {
   "cell_type": "code",
   "execution_count": 12,
   "metadata": {
    "id": "vNJclSoPc0BH"
   },
   "outputs": [],
   "source": [
    "def determine_accuracy(outputs, labels):\n",
    "    \"\"\"Determine accuracy via predictions\"\"\"\n",
    "    _, preds = torch.max(outputs, dim=1)\n",
    "    return torch.tensor(torch.sum(preds == labels).item() / len(preds))"
   ]
  },
  {
   "cell_type": "code",
   "execution_count": 13,
   "metadata": {
    "id": "OWZOxXb9c63H"
   },
   "outputs": [],
   "source": [
    "class NeuralNetwork(nn.Module):\n",
    "\n",
    "    def train_batch(self, batch):\n",
    "        \"\"\"Training batch: making predictions and determining loss\"\"\"\n",
    "\n",
    "        batch_images, batch_labels = batch\n",
    "\n",
    "        # Make predictions\n",
    "        out = self(batch_images)\n",
    "\n",
    "        # Determine batch loss\n",
    "        batch_loss = F.cross_entropy(out, batch_labels)\n",
    "        return batch_loss\n",
    "    \n",
    "    def validate_batch(self, batch):\n",
    "        \"\"\"Validating batch: making predictions, determining loss and accuracy\"\"\"\n",
    "\n",
    "        batch_images, batch_labels = batch\n",
    "\n",
    "        # Make predictions\n",
    "        out = self(batch_images)\n",
    "\n",
    "        # Determine loss\n",
    "        batch_loss = F.cross_entropy(out, batch_labels)\n",
    "\n",
    "        # Calculate accuracy\n",
    "        accuracy = determine_accuracy(out, batch_labels)\n",
    "        return {'validation_loss': batch_loss.detach(), 'validation_accuracy': accuracy}\n",
    "        \n",
    "    def validate_epoch(self, outputs):\n",
    "        \"\"\"Validate batches at the end of epoch\"\"\"\n",
    "\n",
    "        # Losses across epochs\n",
    "        epoch_losses = [x['validation_loss'] for x in outputs]\n",
    "\n",
    "        # Combining losses using mean\n",
    "        combined_epoch_loss = torch.stack(epoch_losses).mean()\n",
    "\n",
    "        # Accuracies across epochs\n",
    "        epoch_accs = [x['validation_accuracy'] for x in outputs]\n",
    "\n",
    "        # Combining accuracies using mean\n",
    "        combined_epoch_acc = torch.stack(epoch_accs).mean()\n",
    "\n",
    "        return {'validation_loss': combined_epoch_loss.item(), 'validation_accuracy': combined_epoch_acc.item()}\n",
    "    \n",
    "    def print_epoch(self, epoch, result):\n",
    "        \"\"\"Print epoch number, validation loss and accuracy at the end of each epoch\"\"\"\n",
    "\n",
    "        print(\"Epoch {} | validation_loss: {:.4f} | validation_accuracy: {:.4f}\".format(epoch, result['validation_loss'], result['validation_accuracy']))"
   ]
  },
  {
   "cell_type": "markdown",
   "metadata": {
    "id": "jQI5LU4Ic6JA"
   },
   "source": [
    "Function to evaluate model using model's internal functions"
   ]
  },
  {
   "cell_type": "code",
   "execution_count": 14,
   "metadata": {
    "id": "McE1awGrdAqO"
   },
   "outputs": [],
   "source": [
    "def validate_model(model, validation_loader):\n",
    "    \"\"\"Model validation\"\"\"\n",
    "\n",
    "    outputs = [model.validate_batch(batch) for batch in validation_loader]\n",
    "    return model.validate_epoch(outputs)\n"
   ]
  },
  {
   "cell_type": "markdown",
   "metadata": {
    "id": "xZep7ZLCdAJU"
   },
   "source": [
    "Function to train model using evaluation function above, and model's internal training functions."
   ]
  },
  {
   "cell_type": "code",
   "execution_count": 15,
   "metadata": {
    "id": "uSiIvPf7dJsD"
   },
   "outputs": [],
   "source": [
    "def fit_model(epochs, learning_rate, model, training_loader, validation_loader, optimiser_function):\n",
    "    \"\"\"Model training and validation\"\"\"\n",
    "\n",
    "    # Model history\n",
    "    model_history = []\n",
    "\n",
    "    # Model optimiser\n",
    "    model_optimiser = optimiser_function(model.parameters(), learning_rate)\n",
    "\n",
    "    for epoch in range(epochs):\n",
    "\n",
    "        # Training\n",
    "        for batch in training_loader:\n",
    "\n",
    "            loss = model.train_batch(batch)\n",
    "            loss.backward()\n",
    "\n",
    "            model_optimiser.step()\n",
    "            model_optimiser.zero_grad()\n",
    "\n",
    "        # Validation\n",
    "        result = validate_model(model, validation_loader)\n",
    "        model.print_epoch(epoch, result)\n",
    "        model_history.append(result)\n",
    "\n",
    "    return model_history"
   ]
  },
  {
   "cell_type": "markdown",
   "metadata": {
    "id": "9JvDNBJmdGAr"
   },
   "source": [
    "Checking the use of a dedicated GPU: In our case we mostly used CPUs."
   ]
  },
  {
   "cell_type": "code",
   "execution_count": 16,
   "metadata": {
    "id": "BY1FpL_fdOKv"
   },
   "outputs": [],
   "source": [
    "def get_device():\n",
    "    \"\"\"Use dedicated GPU if available, else use CPU\"\"\"\n",
    "    if torch.cuda.is_available():\n",
    "        return torch.device('cuda')\n",
    "    else:\n",
    "        return torch.device('cpu')"
   ]
  },
  {
   "cell_type": "code",
   "execution_count": 17,
   "metadata": {
    "colab": {
     "base_uri": "https://localhost:8080/"
    },
    "id": "x2fnTKMidZKH",
    "outputId": "8d3e8536-0259-4f10-d453-4db00e6f750e"
   },
   "outputs": [
    {
     "name": "stdout",
     "output_type": "stream",
     "text": [
      "cpu\n"
     ]
    }
   ],
   "source": [
    "device = get_device()\n",
    "print(device)"
   ]
  },
  {
   "cell_type": "code",
   "execution_count": 18,
   "metadata": {
    "id": "1kQlKRXadT8o"
   },
   "outputs": [],
   "source": [
    "def move_to_device(data, device):\n",
    "    \"\"\"Move data to GPU/CPU\"\"\"\n",
    "    if isinstance(data, (list,tuple)):\n",
    "        # Using recursion if required\n",
    "        return [move_to_device(x, device) for x in data]\n",
    "\n",
    "    return data.to(device, non_blocking=True)\n"
   ]
  },
  {
   "cell_type": "markdown",
   "metadata": {
    "id": "UG8N0PIxdjOZ"
   },
   "source": [
    "Function to plot loss across model history."
   ]
  },
  {
   "cell_type": "code",
   "execution_count": 19,
   "metadata": {
    "id": "lT0EQ6d6dmI_"
   },
   "outputs": [],
   "source": [
    "def plot_losses(history):\n",
    "    \"\"\"Plot loss across model history\"\"\"\n",
    "\n",
    "    losses = [x['validation_loss'] for x in history]\n",
    "\n",
    "    # Plotting using pyplot\n",
    "    plt.plot(losses, '-x')\n",
    "    plt.xlabel('Epoch')\n",
    "    plt.ylabel('Loss')\n",
    "    plt.title('Loss against epochs');"
   ]
  },
  {
   "cell_type": "markdown",
   "metadata": {
    "id": "6odE9x0jdlnr"
   },
   "source": [
    "Function to plot accuracy across model history."
   ]
  },
  {
   "cell_type": "code",
   "execution_count": 20,
   "metadata": {
    "id": "GFhSiUAQduVR"
   },
   "outputs": [],
   "source": [
    "def plot_accuracies(history):\n",
    "    \"\"\"Plot accuracy across model history\"\"\"\n",
    "\n",
    "    accuracies = [x['validation_accuracy'] for x in history]\n",
    "\n",
    "    # Plotting using pyplot\n",
    "    plt.plot(accuracies, '-x')\n",
    "    plt.xlabel('Epoch')\n",
    "    plt.ylabel('Accuracy')\n",
    "    plt.title('Accuracy against epochs');"
   ]
  },
  {
   "cell_type": "markdown",
   "metadata": {
    "id": "-35kjxN3dwKG"
   },
   "source": [
    "Data Loaders"
   ]
  },
  {
   "cell_type": "code",
   "execution_count": 21,
   "metadata": {
    "id": "qxSUdGvMdySZ"
   },
   "outputs": [],
   "source": [
    "\n",
    "class DeviceDataLoader():\n",
    "    \"\"\"Move data to a device\"\"\"\n",
    "\n",
    "    def __init__(self, data_loader, device):\n",
    "        self.data_loader = data_loader\n",
    "        self.device = device\n",
    "      \n",
    "    def __len__(self):\n",
    "        \"\"\"Batch count\"\"\"\n",
    "\n",
    "        return len(self.data_loader)\n",
    "        \n",
    "    def __iter__(self):\n",
    "        \"\"\"Yield a batch of data after moving it to device\"\"\"\n",
    "        \n",
    "        for b in self.data_loader: \n",
    "            yield move_to_device(b, self.device)\n",
    "\n",
    "    "
   ]
  },
  {
   "cell_type": "code",
   "execution_count": 22,
   "metadata": {
    "id": "xTHPdNwOd0xK"
   },
   "outputs": [],
   "source": [
    "training_loader = DeviceDataLoader(training_loader, device)\n",
    "validation_loader = DeviceDataLoader(validation_loader, device)\n",
    "testing_loader = DeviceDataLoader(testing_loader, device)"
   ]
  },
  {
   "cell_type": "markdown",
   "metadata": {
    "id": "OdXn5myJd29_"
   },
   "source": [
    "# Training the Neural Network"
   ]
  },
  {
   "cell_type": "code",
   "execution_count": 23,
   "metadata": {
    "id": "uAjDhTdmd4-Q"
   },
   "outputs": [],
   "source": [
    "# Input and output\n",
    "\n",
    "input_size = 3*32*32\n",
    "\n",
    "output_size = 10"
   ]
  },
  {
   "cell_type": "code",
   "execution_count": 24,
   "metadata": {
    "id": "kOEB8XUVd7cT"
   },
   "outputs": [],
   "source": [
    "class Model_1(NeuralNetwork):\n",
    "    def __init__(self):\n",
    "\n",
    "        super().__init__()\n",
    "        self.linear1 = nn.Linear(input_size, 256)\n",
    "        self.linear2 = nn.Linear(256, 128)\n",
    "        self.linear3 = nn.Linear(128, output_size)\n",
    "        \n",
    "    def forward(self, xb):\n",
    "\n",
    "        # Flatten images into vectors\n",
    "        out = xb.view(xb.size(0), -1)\n",
    "\n",
    "        # Apply layers & activation functions\n",
    "        out = self.linear1(out)\n",
    "        out = F.relu(out)\n",
    "        out = self.linear2(out)\n",
    "        out = F.relu(out)\n",
    "        out = self.linear3(out)\n",
    "        \n",
    "        return out"
   ]
  },
  {
   "cell_type": "markdown",
   "metadata": {
    "id": "lgTjMZTBd9Ab"
   },
   "source": [
    "Move model to device"
   ]
  },
  {
   "cell_type": "code",
   "execution_count": 25,
   "metadata": {
    "id": "mQv2mv0Fd--6"
   },
   "outputs": [],
   "source": [
    "model = move_to_device(Model_1(), device)"
   ]
  },
  {
   "cell_type": "code",
   "execution_count": 26,
   "metadata": {
    "colab": {
     "base_uri": "https://localhost:8080/"
    },
    "id": "9P2fe3R6eC7u",
    "outputId": "85eec90e-0e23-41bd-e0b9-9fdcce421bac"
   },
   "outputs": [
    {
     "name": "stdout",
     "output_type": "stream",
     "text": [
      "[{'validation_loss': 2.3048882484436035, 'validation_accuracy': 0.12968750298023224}]\n"
     ]
    }
   ],
   "source": [
    "history = [validate_model(model, validation_loader)]\n",
    "print(history)"
   ]
  },
  {
   "cell_type": "code",
   "execution_count": 27,
   "metadata": {
    "colab": {
     "base_uri": "https://localhost:8080/"
    },
    "id": "A7j0A73seFoG",
    "outputId": "4449ba6f-d843-4e12-dd52-9401cf9aeafb"
   },
   "outputs": [
    {
     "name": "stdout",
     "output_type": "stream",
     "text": [
      "Epoch 0 | validation_loss: 1.9060 | validation_accuracy: 0.3269\n",
      "Epoch 1 | validation_loss: 1.7613 | validation_accuracy: 0.3617\n",
      "Epoch 2 | validation_loss: 1.6790 | validation_accuracy: 0.4010\n",
      "Epoch 3 | validation_loss: 1.7584 | validation_accuracy: 0.3766\n",
      "Epoch 4 | validation_loss: 1.6137 | validation_accuracy: 0.4334\n",
      "Epoch 5 | validation_loss: 1.6461 | validation_accuracy: 0.4124\n",
      "Epoch 6 | validation_loss: 1.5641 | validation_accuracy: 0.4304\n",
      "Epoch 7 | validation_loss: 1.5428 | validation_accuracy: 0.4529\n",
      "Epoch 8 | validation_loss: 1.5043 | validation_accuracy: 0.4636\n",
      "Epoch 9 | validation_loss: 1.4778 | validation_accuracy: 0.4774\n"
     ]
    }
   ],
   "source": [
    "history += fit_model(epochs, learning_rate, model, training_loader, validation_loader, optimiser_function)"
   ]
  },
  {
   "cell_type": "markdown",
   "metadata": {
    "id": "4H4_FLG0eHcN"
   },
   "source": [
    "Initial results"
   ]
  },
  {
   "cell_type": "code",
   "execution_count": 28,
   "metadata": {
    "colab": {
     "base_uri": "https://localhost:8080/",
     "height": 295
    },
    "id": "MExO2_6ueKL9",
    "outputId": "c00555f1-5ab9-473a-a4e7-5213b49c7c50"
   },
   "outputs": [
    {
     "data": {
      "image/png": "[encoded data removed]",
      "text/plain": [
       "<Figure size 432x288 with 1 Axes>"
      ]
     },
     "metadata": {
      "needs_background": "light"
     },
     "output_type": "display_data"
    }
   ],
   "source": [
    "plot_losses(history)"
   ]
  },
  {
   "cell_type": "code",
   "execution_count": 29,
   "metadata": {
    "colab": {
     "base_uri": "https://localhost:8080/",
     "height": 295
    },
    "id": "43hFIJlqeL39",
    "outputId": "027c8017-c09e-4efa-b47e-46fea996ab13"
   },
   "outputs": [
    {
     "data": {
      "image/png": "[encoded data removed]",
      "text/plain": [
       "<Figure size 432x288 with 1 Axes>"
      ]
     },
     "metadata": {
      "needs_background": "light"
     },
     "output_type": "display_data"
    }
   ],
   "source": [
    "plot_accuracies(history)"
   ]
  },
  {
   "cell_type": "code",
   "execution_count": 30,
   "metadata": {
    "id": "91Z2ZdZeeNzE"
   },
   "outputs": [],
   "source": [
    "learning_rate = 1e-2"
   ]
  },
  {
   "cell_type": "code",
   "execution_count": 31,
   "metadata": {
    "colab": {
     "base_uri": "https://localhost:8080/"
    },
    "id": "V3FanYuieRdC",
    "outputId": "da1f48a8-d081-4e66-e8d5-13b8d650db01"
   },
   "outputs": [
    {
     "name": "stdout",
     "output_type": "stream",
     "text": [
      "Epoch 0 | validation_loss: 1.4102 | validation_accuracy: 0.5022\n",
      "Epoch 1 | validation_loss: 1.4042 | validation_accuracy: 0.5071\n",
      "Epoch 2 | validation_loss: 1.4033 | validation_accuracy: 0.5098\n",
      "Epoch 3 | validation_loss: 1.3987 | validation_accuracy: 0.5100\n",
      "Epoch 4 | validation_loss: 1.3960 | validation_accuracy: 0.5092\n",
      "Epoch 5 | validation_loss: 1.3936 | validation_accuracy: 0.5086\n",
      "Epoch 6 | validation_loss: 1.3916 | validation_accuracy: 0.5109\n",
      "Epoch 7 | validation_loss: 1.3836 | validation_accuracy: 0.5176\n",
      "Epoch 8 | validation_loss: 1.3876 | validation_accuracy: 0.5088\n",
      "Epoch 9 | validation_loss: 1.3819 | validation_accuracy: 0.5151\n"
     ]
    }
   ],
   "source": [
    "history += fit_model(epochs, learning_rate, model, training_loader, validation_loader, optimiser_function)"
   ]
  },
  {
   "cell_type": "code",
   "execution_count": 32,
   "metadata": {
    "id": "_NgEmQPveTRg"
   },
   "outputs": [],
   "source": [
    "learning_rate = 1e-3"
   ]
  },
  {
   "cell_type": "code",
   "execution_count": 33,
   "metadata": {
    "colab": {
     "base_uri": "https://localhost:8080/"
    },
    "id": "USJ2InqQeV4f",
    "outputId": "b58c9aac-5574-4047-b04d-8402097b9497"
   },
   "outputs": [
    {
     "name": "stdout",
     "output_type": "stream",
     "text": [
      "Epoch 0 | validation_loss: 1.3747 | validation_accuracy: 0.5210\n",
      "Epoch 1 | validation_loss: 1.3742 | validation_accuracy: 0.5181\n",
      "Epoch 2 | validation_loss: 1.3736 | validation_accuracy: 0.5181\n",
      "Epoch 3 | validation_loss: 1.3748 | validation_accuracy: 0.5185\n",
      "Epoch 4 | validation_loss: 1.3754 | validation_accuracy: 0.5175\n",
      "Epoch 5 | validation_loss: 1.3742 | validation_accuracy: 0.5205\n",
      "Epoch 6 | validation_loss: 1.3729 | validation_accuracy: 0.5168\n",
      "Epoch 7 | validation_loss: 1.3732 | validation_accuracy: 0.5181\n",
      "Epoch 8 | validation_loss: 1.3729 | validation_accuracy: 0.5178\n",
      "Epoch 9 | validation_loss: 1.3739 | validation_accuracy: 0.5173\n"
     ]
    }
   ],
   "source": [
    "history += fit_model(epochs, learning_rate, model, training_loader, validation_loader, optimiser_function)"
   ]
  },
  {
   "cell_type": "markdown",
   "metadata": {
    "id": "GcdGuz6IecfO"
   },
   "source": [
    "Plotting losses across all epochs"
   ]
  },
  {
   "cell_type": "code",
   "execution_count": 34,
   "metadata": {
    "colab": {
     "base_uri": "https://localhost:8080/",
     "height": 295
    },
    "id": "s3NjDrxheeHI",
    "outputId": "4989a697-9ae5-43ba-9fad-1e2788b18b33"
   },
   "outputs": [
    {
     "data": {
      "image/png": "[encoded data removed]",
      "text/plain": [
       "<Figure size 432x288 with 1 Axes>"
      ]
     },
     "metadata": {
      "needs_background": "light"
     },
     "output_type": "display_data"
    }
   ],
   "source": [
    "plot_losses(history)"
   ]
  },
  {
   "cell_type": "markdown",
   "metadata": {
    "id": "Bj3s6cboeoMA"
   },
   "source": [
    "Plotting accuracies across all epochs"
   ]
  },
  {
   "cell_type": "code",
   "execution_count": 35,
   "metadata": {
    "colab": {
     "base_uri": "https://localhost:8080/",
     "height": 295
    },
    "id": "gwNyUYaseqP0",
    "outputId": "05fe3fc0-b61a-4f70-d6bd-ce36c43f4048"
   },
   "outputs": [
    {
     "data": {
      "image/png": "[encoded data removed]",
      "text/plain": [
       "<Figure size 432x288 with 1 Axes>"
      ]
     },
     "metadata": {
      "needs_background": "light"
     },
     "output_type": "display_data"
    }
   ],
   "source": [
    "plot_accuracies(history)"
   ]
  },
  {
   "cell_type": "markdown",
   "metadata": {
    "id": "Rd72DkuQet4v"
   },
   "source": [
    "Evaluating model using the testing data and validate_model function"
   ]
  },
  {
   "cell_type": "code",
   "execution_count": 36,
   "metadata": {
    "colab": {
     "base_uri": "https://localhost:8080/"
    },
    "id": "EyNILWzMevmb",
    "outputId": "ff3ac10f-a9cb-483a-d0b7-715ff90906df"
   },
   "outputs": [
    {
     "data": {
      "text/plain": [
       "{'validation_accuracy': 0.516406238079071,\n",
       " 'validation_loss': 1.3498432636260986}"
      ]
     },
     "execution_count": 36,
     "metadata": {},
     "output_type": "execute_result"
    }
   ],
   "source": [
    "validate_model(model, testing_loader)"
   ]
  },
  {
   "cell_type": "code",
   "execution_count": 37,
   "metadata": {
    "colab": {
     "base_uri": "https://localhost:8080/"
    },
    "id": "myv0ZAyTex61",
    "outputId": "b6d0c985-2e3d-4f2f-c381-4f70107c3e96"
   },
   "outputs": [
    {
     "data": {
      "text/plain": [
       "Ellipsis"
      ]
     },
     "execution_count": 37,
     "metadata": {},
     "output_type": "execute_result"
    }
   ],
   "source": [
    "..."
   ]
  },
  {
   "cell_type": "code",
   "execution_count": null,
   "metadata": {},
   "outputs": [],
   "source": []
  },
  {
   "cell_type": "code",
   "execution_count": null,
   "metadata": {},
   "outputs": [],
   "source": []
  },
  {
   "cell_type": "code",
   "execution_count": null,
   "metadata": {},
   "outputs": [],
   "source": []
  }
 ],
 "metadata": {
  "colab": {
   "collapsed_sections": [],
   "name": "Task_4_GitHub_1.ipynb",
   "provenance": []
  },
  "kernelspec": {
   "display_name": "Python 3",
   "language": "python",
   "name": "python3"
  },
  "language_info": {
   "codemirror_mode": {
    "name": "ipython",
    "version": 3
   },
   "file_extension": ".py",
   "mimetype": "text/x-python",
   "name": "python",
   "nbconvert_exporter": "python",
   "pygments_lexer": "ipython3",
   "version": "3.8.8"
  },
  "widgets": {
   "application/vnd.jupyter.widget-state+json": {
    "2472d440e1e44c1fa5d755c8fccce32c": {
     "model_module": "@jupyter-widgets/base",
     "model_module_version": "1.2.0",
     "model_name": "LayoutModel",
     "state": {
      "_model_module": "@jupyter-widgets/base",
      "_model_module_version": "1.2.0",
      "_model_name": "LayoutModel",
      "_view_count": null,
      "_view_module": "@jupyter-widgets/base",
      "_view_module_version": "1.2.0",
      "_view_name": "LayoutView",
      "align_content": null,
      "align_items": null,
      "align_self": null,
      "border": null,
      "bottom": null,
      "display": null,
      "flex": null,
      "flex_flow": null,
      "grid_area": null,
      "grid_auto_columns": null,
      "grid_auto_flow": null,
      "grid_auto_rows": null,
      "grid_column": null,
      "grid_gap": null,
      "grid_row": null,
      "grid_template_areas": null,
      "grid_template_columns": null,
      "grid_template_rows": null,
      "height": null,
      "justify_content": null,
      "justify_items": null,
      "left": null,
      "margin": null,
      "max_height": null,
      "max_width": null,
      "min_height": null,
      "min_width": null,
      "object_fit": null,
      "object_position": null,
      "order": null,
      "overflow": null,
      "overflow_x": null,
      "overflow_y": null,
      "padding": null,
      "right": null,
      "top": null,
      "visibility": null,
      "width": null
     }
    },
    "30b934b3b34c4e7cb6c87416718c90aa": {
     "model_module": "@jupyter-widgets/controls",
     "model_module_version": "1.5.0",
     "model_name": "HBoxModel",
     "state": {
      "_dom_classes": [],
      "_model_module": "@jupyter-widgets/controls",
      "_model_module_version": "1.5.0",
      "_model_name": "HBoxModel",
      "_view_count": null,
      "_view_module": "@jupyter-widgets/controls",
      "_view_module_version": "1.5.0",
      "_view_name": "HBoxView",
      "box_style": "",
      "children": [
       "IPY_MODEL_9e0363575f2243ae970667a1c18e3f3b",
       "IPY_MODEL_3198a63ecb0d444a858b229af37bb36f",
       "IPY_MODEL_634a7a3be8cd44168e0ccfb05dc8ea39"
      ],
      "layout": "IPY_MODEL_b7822a7b83964e01a9b5a0eddd037baa"
     }
    },
    "3198a63ecb0d444a858b229af37bb36f": {
     "model_module": "@jupyter-widgets/controls",
     "model_module_version": "1.5.0",
     "model_name": "FloatProgressModel",
     "state": {
      "_dom_classes": [],
      "_model_module": "@jupyter-widgets/controls",
      "_model_module_version": "1.5.0",
      "_model_name": "FloatProgressModel",
      "_view_count": null,
      "_view_module": "@jupyter-widgets/controls",
      "_view_module_version": "1.5.0",
      "_view_name": "ProgressView",
      "bar_style": "success",
      "description": "",
      "description_tooltip": null,
      "layout": "IPY_MODEL_b645dd78adcb499c9e20442ad5e42173",
      "max": 170498071,
      "min": 0,
      "orientation": "horizontal",
      "style": "IPY_MODEL_e8bbc929705248489bee2ca7edc75db5",
      "value": 170498071
     }
    },
    "4374c0dee685498680ed3418f3df872c": {
     "model_module": "@jupyter-widgets/controls",
     "model_module_version": "1.5.0",
     "model_name": "DescriptionStyleModel",
     "state": {
      "_model_module": "@jupyter-widgets/controls",
      "_model_module_version": "1.5.0",
      "_model_name": "DescriptionStyleModel",
      "_view_count": null,
      "_view_module": "@jupyter-widgets/base",
      "_view_module_version": "1.2.0",
      "_view_name": "StyleView",
      "description_width": ""
     }
    },
    "482c34cc32d447abbc6a2bfc5e71159e": {
     "model_module": "@jupyter-widgets/base",
     "model_module_version": "1.2.0",
     "model_name": "LayoutModel",
     "state": {
      "_model_module": "@jupyter-widgets/base",
      "_model_module_version": "1.2.0",
      "_model_name": "LayoutModel",
      "_view_count": null,
      "_view_module": "@jupyter-widgets/base",
      "_view_module_version": "1.2.0",
      "_view_name": "LayoutView",
      "align_content": null,
      "align_items": null,
      "align_self": null,
      "border": null,
      "bottom": null,
      "display": null,
      "flex": null,
      "flex_flow": null,
      "grid_area": null,
      "grid_auto_columns": null,
      "grid_auto_flow": null,
      "grid_auto_rows": null,
      "grid_column": null,
      "grid_gap": null,
      "grid_row": null,
      "grid_template_areas": null,
      "grid_template_columns": null,
      "grid_template_rows": null,
      "height": null,
      "justify_content": null,
      "justify_items": null,
      "left": null,
      "margin": null,
      "max_height": null,
      "max_width": null,
      "min_height": null,
      "min_width": null,
      "object_fit": null,
      "object_position": null,
      "order": null,
      "overflow": null,
      "overflow_x": null,
      "overflow_y": null,
      "padding": null,
      "right": null,
      "top": null,
      "visibility": null,
      "width": null
     }
    },
    "634a7a3be8cd44168e0ccfb05dc8ea39": {
     "model_module": "@jupyter-widgets/controls",
     "model_module_version": "1.5.0",
     "model_name": "HTMLModel",
     "state": {
      "_dom_classes": [],
      "_model_module": "@jupyter-widgets/controls",
      "_model_module_version": "1.5.0",
      "_model_name": "HTMLModel",
      "_view_count": null,
      "_view_module": "@jupyter-widgets/controls",
      "_view_module_version": "1.5.0",
      "_view_name": "HTMLView",
      "description": "",
      "description_tooltip": null,
      "layout": "IPY_MODEL_482c34cc32d447abbc6a2bfc5e71159e",
      "placeholder": "​",
      "style": "IPY_MODEL_85a619d4ebf8429c9f9d55be3e51c217",
      "value": " 170499072/? [00:04&lt;00:00, 47470431.52it/s]"
     }
    },
    "85a619d4ebf8429c9f9d55be3e51c217": {
     "model_module": "@jupyter-widgets/controls",
     "model_module_version": "1.5.0",
     "model_name": "DescriptionStyleModel",
     "state": {
      "_model_module": "@jupyter-widgets/controls",
      "_model_module_version": "1.5.0",
      "_model_name": "DescriptionStyleModel",
      "_view_count": null,
      "_view_module": "@jupyter-widgets/base",
      "_view_module_version": "1.2.0",
      "_view_name": "StyleView",
      "description_width": ""
     }
    },
    "9e0363575f2243ae970667a1c18e3f3b": {
     "model_module": "@jupyter-widgets/controls",
     "model_module_version": "1.5.0",
     "model_name": "HTMLModel",
     "state": {
      "_dom_classes": [],
      "_model_module": "@jupyter-widgets/controls",
      "_model_module_version": "1.5.0",
      "_model_name": "HTMLModel",
      "_view_count": null,
      "_view_module": "@jupyter-widgets/controls",
      "_view_module_version": "1.5.0",
      "_view_name": "HTMLView",
      "description": "",
      "description_tooltip": null,
      "layout": "IPY_MODEL_2472d440e1e44c1fa5d755c8fccce32c",
      "placeholder": "​",
      "style": "IPY_MODEL_4374c0dee685498680ed3418f3df872c",
      "value": ""
     }
    },
    "b645dd78adcb499c9e20442ad5e42173": {
     "model_module": "@jupyter-widgets/base",
     "model_module_version": "1.2.0",
     "model_name": "LayoutModel",
     "state": {
      "_model_module": "@jupyter-widgets/base",
      "_model_module_version": "1.2.0",
      "_model_name": "LayoutModel",
      "_view_count": null,
      "_view_module": "@jupyter-widgets/base",
      "_view_module_version": "1.2.0",
      "_view_name": "LayoutView",
      "align_content": null,
      "align_items": null,
      "align_self": null,
      "border": null,
      "bottom": null,
      "display": null,
      "flex": null,
      "flex_flow": null,
      "grid_area": null,
      "grid_auto_columns": null,
      "grid_auto_flow": null,
      "grid_auto_rows": null,
      "grid_column": null,
      "grid_gap": null,
      "grid_row": null,
      "grid_template_areas": null,
      "grid_template_columns": null,
      "grid_template_rows": null,
      "height": null,
      "justify_content": null,
      "justify_items": null,
      "left": null,
      "margin": null,
      "max_height": null,
      "max_width": null,
      "min_height": null,
      "min_width": null,
      "object_fit": null,
      "object_position": null,
      "order": null,
      "overflow": null,
      "overflow_x": null,
      "overflow_y": null,
      "padding": null,
      "right": null,
      "top": null,
      "visibility": null,
      "width": null
     }
    },
    "b7822a7b83964e01a9b5a0eddd037baa": {
     "model_module": "@jupyter-widgets/base",
     "model_module_version": "1.2.0",
     "model_name": "LayoutModel",
     "state": {
      "_model_module": "@jupyter-widgets/base",
      "_model_module_version": "1.2.0",
      "_model_name": "LayoutModel",
      "_view_count": null,
      "_view_module": "@jupyter-widgets/base",
      "_view_module_version": "1.2.0",
      "_view_name": "LayoutView",
      "align_content": null,
      "align_items": null,
      "align_self": null,
      "border": null,
      "bottom": null,
      "display": null,
      "flex": null,
      "flex_flow": null,
      "grid_area": null,
      "grid_auto_columns": null,
      "grid_auto_flow": null,
      "grid_auto_rows": null,
      "grid_column": null,
      "grid_gap": null,
      "grid_row": null,
      "grid_template_areas": null,
      "grid_template_columns": null,
      "grid_template_rows": null,
      "height": null,
      "justify_content": null,
      "justify_items": null,
      "left": null,
      "margin": null,
      "max_height": null,
      "max_width": null,
      "min_height": null,
      "min_width": null,
      "object_fit": null,
      "object_position": null,
      "order": null,
      "overflow": null,
      "overflow_x": null,
      "overflow_y": null,
      "padding": null,
      "right": null,
      "top": null,
      "visibility": null,
      "width": null
     }
    },
    "e8bbc929705248489bee2ca7edc75db5": {
     "model_module": "@jupyter-widgets/controls",
     "model_module_version": "1.5.0",
     "model_name": "ProgressStyleModel",
     "state": {
      "_model_module": "@jupyter-widgets/controls",
      "_model_module_version": "1.5.0",
      "_model_name": "ProgressStyleModel",
      "_view_count": null,
      "_view_module": "@jupyter-widgets/base",
      "_view_module_version": "1.2.0",
      "_view_name": "StyleView",
      "bar_color": null,
      "description_width": ""
     }
    }
   }
  }
 },
 "nbformat": 4,
 "nbformat_minor": 1
}
