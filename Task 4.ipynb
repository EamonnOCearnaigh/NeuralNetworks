{
  "cells": [
    {
      "cell_type": "markdown",
      "metadata": {
        "id": "2HxnuwTTdCct"
      },
      "source": [
        "# Programming and Mathematics for AI: Task 4"
      ]
    },
    {
      "cell_type": "markdown",
      "metadata": {
        "id": "EQrD08JLdLYs"
      },
      "source": [
        "# Part 1: Implement a Neural Network (Baseline)"
      ]
    },
    {
      "cell_type": "markdown",
      "metadata": {
        "id": "rrcQ3V-Idatm"
      },
      "source": [
        "Imports"
      ]
    },
    {
      "cell_type": "code",
      "execution_count": null,
      "metadata": {
        "id": "75ntbi_7R8aV"
      },
      "outputs": [],
      "source": [
        "# NumPy\n",
        "import numpy as np\n",
        "\n",
        "# PyTorch - Open-source machine learning framework\n",
        "import torch\n",
        "import torch.nn as nn # Neural network\n",
        "import torch.nn.functional as F\n",
        "import torch.optim as optim\n",
        "from torch.utils.data.sampler import SubsetRandomSampler\n",
        "\n",
        "#Torchvision - Package consisting of popular datasets, model architectures, and common image transformations for computer vision\n",
        "import torchvision\n",
        "# from torchvision import datasets # Possibly remove\n",
        "import torchvision.transforms as transforms\n",
        "from torchvision.datasets import CIFAR10 # Dataset\n",
        "from torchvision.transforms import ToTensor\n",
        "from torchvision.utils import make_grid\n",
        "from torch.utils.data.dataloader import DataLoader\n",
        "from torch.utils.data import random_split\n",
        "\n",
        "# Matplotlib - Visualising data\n",
        "import matplotlib.pyplot as plt\n",
        "%matplotlib inline\n"
      ]
    },
    {
      "cell_type": "markdown",
      "metadata": {
        "id": "d1aWvc19dxnj"
      },
      "source": [
        "Downloading CIFAR-10 dataset, and examining its contents. 50,000 images are intended for training, and 10,000 for testing.  We will split this further by including a validation set of 5,000 images from the training set."
      ]
    },
    {
      "cell_type": "code",
      "execution_count": null,
      "metadata": {
        "colab": {
          "base_uri": "https://localhost:8080/"
        },
        "id": "UgDs8fAWSL5T",
        "outputId": "ac66f52d-6274-49a3-a0bc-2f955bc0686e"
      },
      "outputs": [
        {
          "output_type": "stream",
          "name": "stdout",
          "text": [
            "Files already downloaded and verified\n"
          ]
        }
      ],
      "source": [
        "training_data = CIFAR10(root = 'data/', download = True, transform = ToTensor())\n",
        "\n",
        "testing_data = CIFAR10(root = 'data/', train = False, transform = ToTensor())"
      ]
    },
    {
      "cell_type": "code",
      "execution_count": null,
      "metadata": {
        "colab": {
          "base_uri": "https://localhost:8080/"
        },
        "id": "o_Hbp8lFSaob",
        "outputId": "80a9880d-7da0-42b6-eb4f-4573fa78cbe5"
      },
      "outputs": [
        {
          "output_type": "execute_result",
          "data": {
            "text/plain": [
              "['airplane',\n",
              " 'automobile',\n",
              " 'bird',\n",
              " 'cat',\n",
              " 'deer',\n",
              " 'dog',\n",
              " 'frog',\n",
              " 'horse',\n",
              " 'ship',\n",
              " 'truck']"
            ]
          },
          "metadata": {},
          "execution_count": 75
        }
      ],
      "source": [
        "classes = training_data.classes\n",
        "classes"
      ]
    },
    {
      "cell_type": "code",
      "execution_count": null,
      "metadata": {
        "colab": {
          "base_uri": "https://localhost:8080/"
        },
        "id": "di_ijkL7Sah4",
        "outputId": "c0d7e321-070f-4006-8113-10a81bed9f41"
      },
      "outputs": [
        {
          "output_type": "execute_result",
          "data": {
            "text/plain": [
              "50000"
            ]
          },
          "metadata": {},
          "execution_count": 76
        }
      ],
      "source": [
        "training_data_size = len(training_data)\n",
        "training_data_size"
      ]
    },
    {
      "cell_type": "code",
      "execution_count": null,
      "metadata": {
        "colab": {
          "base_uri": "https://localhost:8080/"
        },
        "id": "Y7xM9_cLSalB",
        "outputId": "599ebbbd-42ff-4180-a5a1-48d8bf9ab08d"
      },
      "outputs": [
        {
          "output_type": "execute_result",
          "data": {
            "text/plain": [
              "10000"
            ]
          },
          "metadata": {},
          "execution_count": 77
        }
      ],
      "source": [
        "testing_data_size = len(testing_data)\n",
        "testing_data_size"
      ]
    },
    {
      "cell_type": "code",
      "execution_count": null,
      "metadata": {
        "colab": {
          "base_uri": "https://localhost:8080/"
        },
        "id": "EXucjB9PSarT",
        "outputId": "ec18b108-20ef-4b79-9483-399f6fe786cb"
      },
      "outputs": [
        {
          "output_type": "execute_result",
          "data": {
            "text/plain": [
              "10"
            ]
          },
          "metadata": {},
          "execution_count": 78
        }
      ],
      "source": [
        "classes_count = len(training_data.classes)\n",
        "classes_count"
      ]
    },
    {
      "cell_type": "code",
      "execution_count": null,
      "metadata": {
        "colab": {
          "base_uri": "https://localhost:8080/"
        },
        "id": "NXfH9mOUSauI",
        "outputId": "e4927e8a-7fda-4121-c0e9-99cbe4b1c3ed"
      },
      "outputs": [
        {
          "output_type": "execute_result",
          "data": {
            "text/plain": [
              "torch.Size([3, 32, 32])"
            ]
          },
          "metadata": {},
          "execution_count": 79
        }
      ],
      "source": [
        "# Image shape\n",
        "image, label = training_data[0]\n",
        "image_shape = image.shape\n",
        "image_shape"
      ]
    },
    {
      "cell_type": "markdown",
      "metadata": {
        "id": "sWVkV8yHf9c9"
      },
      "source": [
        "Further splitting data to get a validation set.  Using a seed value to ensure the same validation set is always used."
      ]
    },
    {
      "cell_type": "code",
      "execution_count": null,
      "metadata": {
        "colab": {
          "base_uri": "https://localhost:8080/"
        },
        "id": "u5mwzuivSrdo",
        "outputId": "3253ea04-1aba-47b3-c18d-9323d5485f4a"
      },
      "outputs": [
        {
          "output_type": "execute_result",
          "data": {
            "text/plain": [
              "<torch._C.Generator at 0x7f686a06c570>"
            ]
          },
          "metadata": {},
          "execution_count": 80
        }
      ],
      "source": [
        "# Validation data size\n",
        "validation_size = 5000\n",
        "# New training data size\n",
        "training_size = len(training_data) - validation_size\n",
        "# Random seed for reproducibility\n",
        "torch.manual_seed(25)"
      ]
    },
    {
      "cell_type": "markdown",
      "metadata": {
        "id": "o_qVis0Cl_8p"
      },
      "source": [
        "Using random split on training data to allocate 5,000 images to validation."
      ]
    },
    {
      "cell_type": "code",
      "execution_count": null,
      "metadata": {
        "colab": {
          "base_uri": "https://localhost:8080/"
        },
        "id": "L0DpnmXCSrg9",
        "outputId": "f0090898-a670-4c86-b909-8b7bcf61ae0b"
      },
      "outputs": [
        {
          "output_type": "stream",
          "name": "stdout",
          "text": [
            "45000\n",
            "5000\n",
            "10000\n"
          ]
        }
      ],
      "source": [
        "training_data, validation_data = random_split(training_data, [training_size, validation_size])\n",
        "\n",
        "# Final datasets\n",
        "print(len(training_data)) # Data used to fit the model\n",
        "print(len(validation_data)) # Data used to fine-tune the model hyperparameters\n",
        "print(len(testing_data)) # Data used to provide an unbiased evaluation of a final NN"
      ]
    },
    {
      "cell_type": "markdown",
      "metadata": {
        "id": "55_FIU1RIpmJ"
      },
      "source": [
        "Baseline Parameters"
      ]
    },
    {
      "cell_type": "markdown",
      "metadata": {
        "id": "1Zfx22f4giIR"
      },
      "source": [
        "Batch size defines the number of samples that will be propagated through the neural network, number of epochs determines training times, optimiser function has several options.  Learning rate describes the rate at which the model optimises."
      ]
    },
    {
      "cell_type": "code",
      "execution_count": null,
      "metadata": {
        "id": "khlc74a8Srlv"
      },
      "outputs": [],
      "source": [
        "batch_size = 128 # Number of images loaded into network at once\n",
        "epochs = 10 # Training run time\n",
        "optimiser_function = torch.optim.SGD # Optimiser function - set to Stochastic Gradient Descent\n",
        "learning_rate = 0.1 #1e-1 # Rate of optimisation\n",
        "num_workers = 2 # subprocesses to use for data loading"
      ]
    },
    {
      "cell_type": "markdown",
      "metadata": {
        "id": "dofgHGPHg43B"
      },
      "source": [
        "Data loaders for training, validation, testing sets.  We used shuffle for the training data loader so that batches are different per epoch during training.  This boosts generalisation. 2 workers are used, as recommended by colab."
      ]
    },
    {
      "cell_type": "code",
      "execution_count": null,
      "metadata": {
        "id": "c2T6ZXNjSrp3"
      },
      "outputs": [],
      "source": [
        "training_loader = DataLoader(training_data, batch_size, shuffle=True, num_workers=num_workers, pin_memory=True)\n",
        "\n",
        "validation_loader = DataLoader(validation_data, batch_size*2, num_workers, pin_memory=True)\n",
        "\n",
        "testing_loader = DataLoader(testing_data, batch_size*2, num_workers, pin_memory=True)"
      ]
    },
    {
      "cell_type": "markdown",
      "metadata": {
        "id": "Rhsn4l4QsAeb"
      },
      "source": [
        "# Building the Neural Network"
      ]
    },
    {
      "cell_type": "markdown",
      "metadata": {
        "id": "XxOK8zauI6FP"
      },
      "source": [
        "Function to determine model accuracy"
      ]
    },
    {
      "cell_type": "code",
      "execution_count": null,
      "metadata": {
        "id": "_kTIBoPZSry1"
      },
      "outputs": [],
      "source": [
        "def determine_accuracy(outputs, labels):\n",
        "    \"\"\"Determine accuracy via predictions\"\"\"\n",
        "    _, preds = torch.max(outputs, dim=1)\n",
        "    return torch.tensor(torch.sum(preds == labels).item() / len(preds))"
      ]
    },
    {
      "cell_type": "code",
      "execution_count": null,
      "metadata": {
        "id": "bnpXwRglSr3J"
      },
      "outputs": [],
      "source": [
        "class NeuralNetwork(nn.Module):\n",
        "\n",
        "    def train_batch(self, batch):\n",
        "        \"\"\"Training batch: making predictions and determining loss\"\"\"\n",
        "\n",
        "        batch_images, batch_labels = batch\n",
        "\n",
        "        # Make predictions\n",
        "        out = self(batch_images)\n",
        "\n",
        "        # Determine batch loss\n",
        "        batch_loss = F.cross_entropy(out, batch_labels)\n",
        "        return batch_loss\n",
        "    \n",
        "    def validate_batch(self, batch):\n",
        "        \"\"\"Validating batch: making predictions, determining loss and accuracy\"\"\"\n",
        "\n",
        "        batch_images, batch_labels = batch\n",
        "\n",
        "        # Make predictions\n",
        "        out = self(batch_images)\n",
        "\n",
        "        # Determine loss\n",
        "        batch_loss = F.cross_entropy(out, batch_labels)\n",
        "\n",
        "        # Calculate accuracy\n",
        "        accuracy = determine_accuracy(out, batch_labels)\n",
        "        return {'validation_loss': batch_loss.detach(), 'validation_accuracy': accuracy}\n",
        "        \n",
        "    def validate_epoch(self, outputs):\n",
        "        \"\"\"Validate batches at the end of epoch\"\"\"\n",
        "\n",
        "        # Losses across epochs\n",
        "        epoch_losses = [x['validation_loss'] for x in outputs]\n",
        "\n",
        "        # Combining losses using mean\n",
        "        combined_epoch_loss = torch.stack(epoch_losses).mean()\n",
        "\n",
        "        # Accuracies across epochs\n",
        "        epoch_accs = [x['validation_accuracy'] for x in outputs]\n",
        "\n",
        "        # Combining accuracies using mean\n",
        "        combined_epoch_acc = torch.stack(epoch_accs).mean()\n",
        "\n",
        "        return {'validation_loss': combined_epoch_loss.item(), 'validation_accuracy': combined_epoch_acc.item()}\n",
        "    \n",
        "    def print_epoch(self, epoch, result):\n",
        "        \"\"\"Print epoch number, validation loss and accuracy at the end of each epoch\"\"\"\n",
        "\n",
        "        print(\"Epoch {} | validation_loss: {:.4f} | validation_accuracy: {:.4f}\".format(epoch, result['validation_loss'], result['validation_accuracy']))"
      ]
    },
    {
      "cell_type": "markdown",
      "metadata": {
        "id": "fl2RMr-hsezL"
      },
      "source": [
        "Function to evaluate model using model's internal functions"
      ]
    },
    {
      "cell_type": "code",
      "execution_count": null,
      "metadata": {
        "id": "aKH-sK0KSr6l"
      },
      "outputs": [],
      "source": [
        "def validate_model(model, validation_loader):\n",
        "    \"\"\"Model validation\"\"\"\n",
        "\n",
        "    outputs = [model.validate_batch(batch) for batch in validation_loader]\n",
        "    return model.validate_epoch(outputs)\n"
      ]
    },
    {
      "cell_type": "markdown",
      "metadata": {
        "id": "MQRhjXBzsgSG"
      },
      "source": [
        "Function to train model using evaluation function above, and model's internal training functions."
      ]
    },
    {
      "cell_type": "code",
      "execution_count": null,
      "metadata": {
        "id": "yD-VwfqosX7f"
      },
      "outputs": [],
      "source": [
        "def fit_model(epochs, learning_rate, model, training_loader, validation_loader, optimiser_function):\n",
        "    \"\"\"Model training and validation\"\"\"\n",
        "\n",
        "    # Model history\n",
        "    model_history = []\n",
        "\n",
        "    # Model optimiser\n",
        "    model_optimiser = optimiser_function(model.parameters(), learning_rate)\n",
        "\n",
        "    for epoch in range(epochs):\n",
        "\n",
        "        # Training\n",
        "        for batch in training_loader:\n",
        "\n",
        "            loss = model.train_batch(batch)\n",
        "            loss.backward()\n",
        "\n",
        "            model_optimiser.step()\n",
        "            model_optimiser.zero_grad()\n",
        "\n",
        "        # Validation\n",
        "        result = validate_model(model, validation_loader)\n",
        "        model.print_epoch(epoch, result)\n",
        "        model_history.append(result)\n",
        "\n",
        "    return model_history"
      ]
    },
    {
      "cell_type": "markdown",
      "metadata": {
        "id": "c7hxstU3sk_W"
      },
      "source": [
        "Checking the use of a dedicated GPU: In our case we mostly used CPUs."
      ]
    },
    {
      "cell_type": "code",
      "execution_count": null,
      "metadata": {
        "id": "lFoZLGnES8rB"
      },
      "outputs": [],
      "source": [
        "def get_device():\n",
        "    \"\"\"Use dedicated GPU if available, else use CPU\"\"\"\n",
        "    if torch.cuda.is_available():\n",
        "        return torch.device('cuda')\n",
        "    else:\n",
        "        return torch.device('cpu')"
      ]
    },
    {
      "cell_type": "code",
      "execution_count": null,
      "metadata": {
        "colab": {
          "base_uri": "https://localhost:8080/"
        },
        "id": "1tQECQMJTBjk",
        "outputId": "925e7ee8-09c2-4e2c-a1c9-d210b914feb4"
      },
      "outputs": [
        {
          "output_type": "stream",
          "name": "stdout",
          "text": [
            "cpu\n"
          ]
        }
      ],
      "source": [
        "device = get_device()\n",
        "print(device)"
      ]
    },
    {
      "cell_type": "code",
      "execution_count": null,
      "metadata": {
        "id": "xVauG2rlxDFj"
      },
      "outputs": [],
      "source": [
        "def move_to_device(data, device):\n",
        "    \"\"\"Move data to GPU/CPU\"\"\"\n",
        "    if isinstance(data, (list,tuple)):\n",
        "        # Using recursion if required\n",
        "        return [move_to_device(x, device) for x in data]\n",
        "\n",
        "    return data.to(device, non_blocking=True)\n"
      ]
    },
    {
      "cell_type": "markdown",
      "metadata": {
        "id": "IZbmKoz2xIKQ"
      },
      "source": [
        "Function to plot loss across model history."
      ]
    },
    {
      "cell_type": "code",
      "execution_count": null,
      "metadata": {
        "id": "SQkYXn2uZ13c"
      },
      "outputs": [],
      "source": [
        "def plot_losses(history):\n",
        "    \"\"\"Plot loss across model history\"\"\"\n",
        "\n",
        "    losses = [x['validation_loss'] for x in history]\n",
        "\n",
        "    # Plotting using pyplot\n",
        "    plt.plot(losses, '-x')\n",
        "    plt.xlabel('Epoch')\n",
        "    plt.ylabel('Loss')\n",
        "    plt.title('Loss against epochs');"
      ]
    },
    {
      "cell_type": "markdown",
      "metadata": {
        "id": "biYmlkHsxMEJ"
      },
      "source": [
        "Function to plot accuracy across model history."
      ]
    },
    {
      "cell_type": "code",
      "execution_count": null,
      "metadata": {
        "id": "oK9xo71BTBp-"
      },
      "outputs": [],
      "source": [
        "def plot_accuracies(history):\n",
        "    \"\"\"Plot accuracy across model history\"\"\"\n",
        "\n",
        "    accuracies = [x['validation_accuracy'] for x in history]\n",
        "\n",
        "    # Plotting using pyplot\n",
        "    plt.plot(accuracies, '-x')\n",
        "    plt.xlabel('Epoch')\n",
        "    plt.ylabel('Accuracy')\n",
        "    plt.title('Accuracy against epochs');"
      ]
    },
    {
      "cell_type": "markdown",
      "metadata": {
        "id": "D-MqsOXxxd5o"
      },
      "source": [
        "Data Loaders"
      ]
    },
    {
      "cell_type": "code",
      "execution_count": null,
      "metadata": {
        "id": "X2aPgBRsTBmZ"
      },
      "outputs": [],
      "source": [
        "\n",
        "class DeviceDataLoader():\n",
        "    \"\"\"Move data to a device\"\"\"\n",
        "\n",
        "    def __init__(self, data_loader, device):\n",
        "        self.data_loader = data_loader\n",
        "        self.device = device\n",
        "      \n",
        "    def __len__(self):\n",
        "        \"\"\"Batch count\"\"\"\n",
        "\n",
        "        return len(self.data_loader)\n",
        "        \n",
        "    def __iter__(self):\n",
        "        \"\"\"Yield a batch of data after moving it to device\"\"\"\n",
        "        \n",
        "        for b in self.data_loader: \n",
        "            yield move_to_device(b, self.device)\n",
        "\n",
        "    "
      ]
    },
    {
      "cell_type": "code",
      "execution_count": null,
      "metadata": {
        "id": "0Uw2Y9tHTBtG"
      },
      "outputs": [],
      "source": [
        "training_loader = DeviceDataLoader(training_loader, device)\n",
        "validation_loader = DeviceDataLoader(validation_loader, device)\n",
        "testing_loader = DeviceDataLoader(testing_loader, device)"
      ]
    },
    {
      "cell_type": "markdown",
      "metadata": {
        "id": "QMh-1k0sxfvc"
      },
      "source": [
        "# Training the Neural Network"
      ]
    },
    {
      "cell_type": "code",
      "execution_count": null,
      "metadata": {
        "id": "7sl9kkvfTBwf"
      },
      "outputs": [],
      "source": [
        "# Input and output\n",
        "\n",
        "input_size = 3*32*32\n",
        "\n",
        "output_size = 10"
      ]
    },
    {
      "cell_type": "code",
      "execution_count": null,
      "metadata": {
        "id": "TwCkO891TBzz"
      },
      "outputs": [],
      "source": [
        "class Model_1(NeuralNetwork):\n",
        "    def __init__(self):\n",
        "\n",
        "        super().__init__()\n",
        "        self.linear1 = nn.Linear(input_size, 256)\n",
        "        self.linear2 = nn.Linear(256, 128)\n",
        "        self.linear3 = nn.Linear(128, output_size)\n",
        "        \n",
        "    def forward(self, x):\n",
        "\n",
        "        # Flatten images into vectors\n",
        "        x = x.view(x.size(0), -1)\n",
        "\n",
        "        # Apply layers & activation functions\n",
        "        x = self.linear1(x)\n",
        "        x = F.relu(x)\n",
        "        x = self.linear2(x)\n",
        "        x = F.relu(x)\n",
        "        x = self.linear3(x)\n",
        "        \n",
        "        return x"
      ]
    },
    {
      "cell_type": "markdown",
      "metadata": {
        "id": "p9k-ycYT0DtR"
      },
      "source": [
        "Move model to device"
      ]
    },
    {
      "cell_type": "code",
      "execution_count": null,
      "metadata": {
        "id": "kM8-NQcQTCWw"
      },
      "outputs": [],
      "source": [
        "model = move_to_device(Model_1(), device)"
      ]
    },
    {
      "cell_type": "code",
      "execution_count": null,
      "metadata": {
        "colab": {
          "base_uri": "https://localhost:8080/"
        },
        "id": "J7_6QWkJTCZz",
        "outputId": "5c53c6ab-f1c2-4315-bb4c-136233cd7a54"
      },
      "outputs": [
        {
          "output_type": "stream",
          "name": "stdout",
          "text": [
            "[{'validation_loss': 2.304971694946289, 'validation_accuracy': 0.12934282422065735}]\n"
          ]
        }
      ],
      "source": [
        "history = [validate_model(model, validation_loader)]\n",
        "print(history)"
      ]
    },
    {
      "cell_type": "code",
      "execution_count": null,
      "metadata": {
        "colab": {
          "base_uri": "https://localhost:8080/"
        },
        "id": "8Sfzf7OlTCc0",
        "outputId": "958986e9-d67d-4f42-d737-ecb8198257b5"
      },
      "outputs": [
        {
          "output_type": "stream",
          "name": "stdout",
          "text": [
            "Epoch 0 | validation_loss: 1.9605 | validation_accuracy: 0.2781\n",
            "Epoch 1 | validation_loss: 1.7406 | validation_accuracy: 0.3785\n",
            "Epoch 2 | validation_loss: 1.7545 | validation_accuracy: 0.3676\n",
            "Epoch 3 | validation_loss: 1.7191 | validation_accuracy: 0.3739\n",
            "Epoch 4 | validation_loss: 1.6077 | validation_accuracy: 0.4213\n",
            "Epoch 5 | validation_loss: 1.5913 | validation_accuracy: 0.4380\n",
            "Epoch 6 | validation_loss: 1.5850 | validation_accuracy: 0.4263\n",
            "Epoch 7 | validation_loss: 1.6291 | validation_accuracy: 0.4145\n",
            "Epoch 8 | validation_loss: 1.4978 | validation_accuracy: 0.4650\n",
            "Epoch 9 | validation_loss: 1.5688 | validation_accuracy: 0.4414\n"
          ]
        }
      ],
      "source": [
        "history += fit_model(epochs, learning_rate, model, training_loader, validation_loader, optimiser_function)"
      ]
    },
    {
      "cell_type": "markdown",
      "metadata": {
        "id": "QA8S3o8GZpwb"
      },
      "source": [
        "Initial results"
      ]
    },
    {
      "cell_type": "code",
      "execution_count": null,
      "metadata": {
        "colab": {
          "base_uri": "https://localhost:8080/",
          "height": 295
        },
        "id": "k0xqO92nZO9G",
        "outputId": "ed218a64-b1d5-4051-e6be-ddabc54266cb"
      },
      "outputs": [
        {
          "output_type": "display_data",
          "data": {
            "image/png": "[encoded data removed]",
            "text/plain": [
              "<Figure size 432x288 with 1 Axes>"
            ]
          },
          "metadata": {
            "needs_background": "light"
          }
        }
      ],
      "source": [
        "plot_losses(history)"
      ]
    },
    {
      "cell_type": "code",
      "execution_count": null,
      "metadata": {
        "colab": {
          "base_uri": "https://localhost:8080/",
          "height": 295
        },
        "id": "I_rc6bumZPAi",
        "outputId": "98dac71f-4303-4e47-de10-3838694a3124"
      },
      "outputs": [
        {
          "output_type": "display_data",
          "data": {
            "image/png": "[encoded data removed]",
            "text/plain": [
              "<Figure size 432x288 with 1 Axes>"
            ]
          },
          "metadata": {
            "needs_background": "light"
          }
        }
      ],
      "source": [
        "plot_accuracies(history)"
      ]
    },
    {
      "cell_type": "code",
      "execution_count": null,
      "metadata": {
        "id": "g719rbiMaE4O"
      },
      "outputs": [],
      "source": [
        "learning_rate = 1e-2"
      ]
    },
    {
      "cell_type": "code",
      "execution_count": null,
      "metadata": {
        "colab": {
          "base_uri": "https://localhost:8080/"
        },
        "id": "UNa9wzC3TCf0",
        "outputId": "0b84988a-2ca6-4142-9636-fe171e65ba72"
      },
      "outputs": [
        {
          "output_type": "stream",
          "name": "stdout",
          "text": [
            "Epoch 0 | validation_loss: 1.4103 | validation_accuracy: 0.4965\n",
            "Epoch 1 | validation_loss: 1.4036 | validation_accuracy: 0.5026\n",
            "Epoch 2 | validation_loss: 1.4050 | validation_accuracy: 0.5000\n",
            "Epoch 3 | validation_loss: 1.3969 | validation_accuracy: 0.4999\n",
            "Epoch 4 | validation_loss: 1.3950 | validation_accuracy: 0.5037\n",
            "Epoch 5 | validation_loss: 1.3949 | validation_accuracy: 0.5008\n",
            "Epoch 6 | validation_loss: 1.3830 | validation_accuracy: 0.5082\n",
            "Epoch 7 | validation_loss: 1.3925 | validation_accuracy: 0.5030\n",
            "Epoch 8 | validation_loss: 1.3801 | validation_accuracy: 0.5099\n",
            "Epoch 9 | validation_loss: 1.3848 | validation_accuracy: 0.5050\n"
          ]
        }
      ],
      "source": [
        "history += fit_model(epochs, learning_rate, model, training_loader, validation_loader, optimiser_function)"
      ]
    },
    {
      "cell_type": "code",
      "execution_count": null,
      "metadata": {
        "id": "JsYvQ6nxaAf5"
      },
      "outputs": [],
      "source": [
        "learning_rate = 1e-3"
      ]
    },
    {
      "cell_type": "code",
      "execution_count": null,
      "metadata": {
        "colab": {
          "base_uri": "https://localhost:8080/"
        },
        "id": "vzyN6Si2TCjA",
        "outputId": "29210bb5-5d01-4fae-a3e6-30aecfd402ba"
      },
      "outputs": [
        {
          "output_type": "stream",
          "name": "stdout",
          "text": [
            "Epoch 0 | validation_loss: 1.3705 | validation_accuracy: 0.5099\n",
            "Epoch 1 | validation_loss: 1.3735 | validation_accuracy: 0.5075\n",
            "Epoch 2 | validation_loss: 1.3715 | validation_accuracy: 0.5081\n",
            "Epoch 3 | validation_loss: 1.3688 | validation_accuracy: 0.5124\n",
            "Epoch 4 | validation_loss: 1.3769 | validation_accuracy: 0.5063\n",
            "Epoch 5 | validation_loss: 1.3719 | validation_accuracy: 0.5078\n",
            "Epoch 6 | validation_loss: 1.3693 | validation_accuracy: 0.5083\n",
            "Epoch 7 | validation_loss: 1.3687 | validation_accuracy: 0.5110\n",
            "Epoch 8 | validation_loss: 1.3715 | validation_accuracy: 0.5092\n",
            "Epoch 9 | validation_loss: 1.3679 | validation_accuracy: 0.5104\n"
          ]
        }
      ],
      "source": [
        "history += fit_model(epochs, learning_rate, model, training_loader, validation_loader, optimiser_function)"
      ]
    },
    {
      "cell_type": "markdown",
      "metadata": {
        "id": "szhdIM0iK0zv"
      },
      "source": [
        "Plotting losses across all epochs"
      ]
    },
    {
      "cell_type": "code",
      "execution_count": null,
      "metadata": {
        "colab": {
          "base_uri": "https://localhost:8080/",
          "height": 295
        },
        "id": "WIgrItwwTCoh",
        "outputId": "b0f64c70-9fb3-4265-f344-8e033c610c22"
      },
      "outputs": [
        {
          "output_type": "display_data",
          "data": {
            "image/png": "[encoded data removed]",
            "text/plain": [
              "<Figure size 432x288 with 1 Axes>"
            ]
          },
          "metadata": {
            "needs_background": "light"
          }
        }
      ],
      "source": [
        "plot_losses(history)"
      ]
    },
    {
      "cell_type": "markdown",
      "metadata": {
        "id": "1-4BP9oHKxkg"
      },
      "source": [
        "Plotting accuracies across all epochs"
      ]
    },
    {
      "cell_type": "code",
      "execution_count": null,
      "metadata": {
        "colab": {
          "base_uri": "https://localhost:8080/",
          "height": 295
        },
        "id": "Ove8XH-UTCr3",
        "outputId": "229ee305-6861-4a75-be3d-f4c4fdc374dc"
      },
      "outputs": [
        {
          "output_type": "display_data",
          "data": {
            "image/png": "[encoded data removed]",
            "text/plain": [
              "<Figure size 432x288 with 1 Axes>"
            ]
          },
          "metadata": {
            "needs_background": "light"
          }
        }
      ],
      "source": [
        "plot_accuracies(history)"
      ]
    },
    {
      "cell_type": "markdown",
      "metadata": {
        "id": "YyhvRYrOx5IV"
      },
      "source": [
        "Evaluating model using the testing data and validate_model function"
      ]
    },
    {
      "cell_type": "code",
      "execution_count": null,
      "metadata": {
        "colab": {
          "base_uri": "https://localhost:8080/"
        },
        "id": "B1uLYBgaTCux",
        "outputId": "d514a541-b7ff-4a74-ed38-83a2290cd172"
      },
      "outputs": [
        {
          "output_type": "execute_result",
          "data": {
            "text/plain": [
              "{'validation_accuracy': 0.5194336175918579,\n",
              " 'validation_loss': 1.3510839939117432}"
            ]
          },
          "metadata": {},
          "execution_count": 108
        }
      ],
      "source": [
        "validate_model(model, testing_loader)"
      ]
    },
    {
      "cell_type": "code",
      "execution_count": null,
      "metadata": {
        "id": "0I9x6c74TCyZ"
      },
      "outputs": [],
      "source": [
        "# ..."
      ]
    },
    {
      "cell_type": "markdown",
      "metadata": {
        "id": "S1uRsMXotsCM"
      },
      "source": [
        "# Part 2: Propose Improvements (TO-DO)"
      ]
    },
    {
      "cell_type": "code",
      "execution_count": null,
      "metadata": {
        "id": "JtHim9HHmXJ0"
      },
      "outputs": [],
      "source": [
        ""
      ]
    },
    {
      "cell_type": "markdown",
      "metadata": {
        "id": "n6oKJLff55zf"
      },
      "source": [
        "# Part 3: Tuning Parameters"
      ]
    },
    {
      "cell_type": "markdown",
      "metadata": {
        "id": "Y5lGO9365-YK"
      },
      "source": [
        "Running baseline model while varying number of epochs: 10, 25, 50"
      ]
    },
    {
      "cell_type": "code",
      "execution_count": null,
      "metadata": {
        "id": "OMofR7Qn5_I5",
        "colab": {
          "base_uri": "https://localhost:8080/"
        },
        "outputId": "a316ae3a-9720-4be7-ee56-fe3dda48b161"
      },
      "outputs": [
        {
          "output_type": "stream",
          "name": "stdout",
          "text": [
            "[{'validation_loss': 2.302825927734375, 'validation_accuracy': 0.09605928510427475}]\n",
            "Epoch 0 | validation_loss: 2.0810 | validation_accuracy: 0.2538\n",
            "Epoch 1 | validation_loss: 1.7322 | validation_accuracy: 0.4004\n",
            "Epoch 2 | validation_loss: 1.7733 | validation_accuracy: 0.3687\n",
            "Epoch 3 | validation_loss: 1.6418 | validation_accuracy: 0.4161\n",
            "Epoch 4 | validation_loss: 1.6697 | validation_accuracy: 0.3875\n",
            "Epoch 5 | validation_loss: 1.5580 | validation_accuracy: 0.4399\n",
            "Epoch 6 | validation_loss: 1.5645 | validation_accuracy: 0.4505\n",
            "Epoch 7 | validation_loss: 1.4905 | validation_accuracy: 0.4768\n",
            "Epoch 8 | validation_loss: 1.5185 | validation_accuracy: 0.4611\n",
            "Epoch 9 | validation_loss: 1.5167 | validation_accuracy: 0.4637\n"
          ]
        }
      ],
      "source": [
        "batch_size = 128 # Number of images loaded into network at once\n",
        "epochs = 10 # Training run time\n",
        "optimiser_function = torch.optim.SGD # Optimiser function - set to Stochastic Gradient Descent\n",
        "learning_rate = 0.1 #1e-1 # Rate of optimisation\n",
        "num_workers = 2 # subprocesses to use for data loading\n",
        "\n",
        "model = move_to_device(Model_1(), device)\n",
        "\n",
        "history = [validate_model(model, validation_loader)]\n",
        "print(history)\n",
        "\n",
        "history += fit_model(epochs, learning_rate, model, training_loader, validation_loader, optimiser_function)"
      ]
    },
    {
      "cell_type": "code",
      "source": [
        "plot_losses(history)"
      ],
      "metadata": {
        "colab": {
          "base_uri": "https://localhost:8080/",
          "height": 295
        },
        "id": "ervs2xDwGbEN",
        "outputId": "33df273f-a006-4cc6-f5fd-685d094a5fd0"
      },
      "execution_count": null,
      "outputs": [
        {
          "output_type": "display_data",
          "data": {
            "image/png": "[encoded data removed]",
            "text/plain": [
              "<Figure size 432x288 with 1 Axes>"
            ]
          },
          "metadata": {
            "needs_background": "light"
          }
        }
      ]
    },
    {
      "cell_type": "code",
      "source": [
        "plot_accuracies(history)"
      ],
      "metadata": {
        "colab": {
          "base_uri": "https://localhost:8080/",
          "height": 295
        },
        "id": "rcddxn5NGpBr",
        "outputId": "592cc49c-edc2-4ad6-f15f-179c56c8deaf"
      },
      "execution_count": null,
      "outputs": [
        {
          "output_type": "display_data",
          "data": {
            "image/png": "[encoded data removed]",
            "text/plain": [
              "<Figure size 432x288 with 1 Axes>"
            ]
          },
          "metadata": {
            "needs_background": "light"
          }
        }
      ]
    },
    {
      "cell_type": "code",
      "source": [
        "epochs = 25\n",
        "model = move_to_device(Model_1(), device)\n",
        "\n",
        "history = [validate_model(model, validation_loader)]\n",
        "print(history)\n",
        "\n",
        "history += fit_model(epochs, learning_rate, model, training_loader, validation_loader, optimiser_function)"
      ],
      "metadata": {
        "colab": {
          "base_uri": "https://localhost:8080/"
        },
        "id": "Dmz4UgHYSBc9",
        "outputId": "d2fdb3e0-3740-407c-ec1f-48dbaf2b04e5"
      },
      "execution_count": null,
      "outputs": [
        {
          "output_type": "stream",
          "name": "stdout",
          "text": [
            "[{'validation_loss': 2.306105136871338, 'validation_accuracy': 0.10211397707462311}]\n",
            "Epoch 0 | validation_loss: 1.9309 | validation_accuracy: 0.3076\n",
            "Epoch 1 | validation_loss: 1.7534 | validation_accuracy: 0.3744\n",
            "Epoch 2 | validation_loss: 1.7329 | validation_accuracy: 0.3774\n",
            "Epoch 3 | validation_loss: 1.6365 | validation_accuracy: 0.4231\n",
            "Epoch 4 | validation_loss: 1.6217 | validation_accuracy: 0.4275\n",
            "Epoch 5 | validation_loss: 1.6471 | validation_accuracy: 0.4125\n",
            "Epoch 6 | validation_loss: 1.5389 | validation_accuracy: 0.4542\n",
            "Epoch 7 | validation_loss: 1.5984 | validation_accuracy: 0.4241\n",
            "Epoch 8 | validation_loss: 1.6112 | validation_accuracy: 0.4278\n",
            "Epoch 9 | validation_loss: 1.6000 | validation_accuracy: 0.4298\n",
            "Epoch 10 | validation_loss: 1.5803 | validation_accuracy: 0.4400\n",
            "Epoch 11 | validation_loss: 1.5015 | validation_accuracy: 0.4696\n",
            "Epoch 12 | validation_loss: 1.4754 | validation_accuracy: 0.4771\n",
            "Epoch 13 | validation_loss: 1.6731 | validation_accuracy: 0.4095\n",
            "Epoch 14 | validation_loss: 1.4119 | validation_accuracy: 0.5036\n",
            "Epoch 15 | validation_loss: 1.6625 | validation_accuracy: 0.4285\n",
            "Epoch 16 | validation_loss: 1.4532 | validation_accuracy: 0.4873\n",
            "Epoch 17 | validation_loss: 1.7094 | validation_accuracy: 0.4083\n",
            "Epoch 18 | validation_loss: 1.5180 | validation_accuracy: 0.4708\n",
            "Epoch 19 | validation_loss: 1.4368 | validation_accuracy: 0.4949\n",
            "Epoch 20 | validation_loss: 1.4217 | validation_accuracy: 0.5021\n",
            "Epoch 21 | validation_loss: 1.3715 | validation_accuracy: 0.5235\n",
            "Epoch 22 | validation_loss: 1.4865 | validation_accuracy: 0.4894\n",
            "Epoch 23 | validation_loss: 1.4783 | validation_accuracy: 0.4973\n",
            "Epoch 24 | validation_loss: 1.4468 | validation_accuracy: 0.5025\n"
          ]
        }
      ]
    },
    {
      "cell_type": "code",
      "source": [
        "plot_losses(history)"
      ],
      "metadata": {
        "colab": {
          "base_uri": "https://localhost:8080/",
          "height": 295
        },
        "id": "RYSG90NqGhc0",
        "outputId": "dc35fb8f-ed28-48cc-855e-5e6f693f83bf"
      },
      "execution_count": null,
      "outputs": [
        {
          "output_type": "display_data",
          "data": {
            "image/png": "[encoded data removed]",
            "text/plain": [
              "<Figure size 432x288 with 1 Axes>"
            ]
          },
          "metadata": {
            "needs_background": "light"
          }
        }
      ]
    },
    {
      "cell_type": "code",
      "source": [
        "plot_accuracies(history)"
      ],
      "metadata": {
        "colab": {
          "base_uri": "https://localhost:8080/",
          "height": 295
        },
        "id": "3YjJ54dIGvsv",
        "outputId": "d07af549-b2a6-41d2-ecbf-ea2b22c87f73"
      },
      "execution_count": null,
      "outputs": [
        {
          "output_type": "display_data",
          "data": {
            "image/png": "[encoded data removed]",
            "text/plain": [
              "<Figure size 432x288 with 1 Axes>"
            ]
          },
          "metadata": {
            "needs_background": "light"
          }
        }
      ]
    },
    {
      "cell_type": "code",
      "source": [
        "epochs = 50\n",
        "model = move_to_device(Model_1(), device)\n",
        "\n",
        "history = [validate_model(model, validation_loader)]\n",
        "print(history)\n",
        "\n",
        "history += fit_model(epochs, learning_rate, model, training_loader, validation_loader, optimiser_function)"
      ],
      "metadata": {
        "colab": {
          "base_uri": "https://localhost:8080/"
        },
        "id": "i7LXhgv7SBnb",
        "outputId": "8960bf87-37eb-438c-c3b5-70eacfa33706"
      },
      "execution_count": null,
      "outputs": [
        {
          "output_type": "stream",
          "name": "stdout",
          "text": [
            "[{'validation_loss': 2.304243803024292, 'validation_accuracy': 0.10150505602359772}]\n",
            "Epoch 0 | validation_loss: 1.9093 | validation_accuracy: 0.3227\n",
            "Epoch 1 | validation_loss: 1.7568 | validation_accuracy: 0.3612\n",
            "Epoch 2 | validation_loss: 1.8388 | validation_accuracy: 0.3497\n",
            "Epoch 3 | validation_loss: 1.6821 | validation_accuracy: 0.3978\n",
            "Epoch 4 | validation_loss: 1.7332 | validation_accuracy: 0.3905\n",
            "Epoch 5 | validation_loss: 1.7219 | validation_accuracy: 0.3993\n",
            "Epoch 6 | validation_loss: 1.5143 | validation_accuracy: 0.4587\n",
            "Epoch 7 | validation_loss: 1.6327 | validation_accuracy: 0.4188\n",
            "Epoch 8 | validation_loss: 1.5876 | validation_accuracy: 0.4250\n",
            "Epoch 9 | validation_loss: 1.5311 | validation_accuracy: 0.4478\n",
            "Epoch 10 | validation_loss: 1.4864 | validation_accuracy: 0.4724\n",
            "Epoch 11 | validation_loss: 1.7197 | validation_accuracy: 0.3928\n",
            "Epoch 12 | validation_loss: 1.4575 | validation_accuracy: 0.4757\n",
            "Epoch 13 | validation_loss: 1.5350 | validation_accuracy: 0.4594\n",
            "Epoch 14 | validation_loss: 1.4712 | validation_accuracy: 0.4778\n",
            "Epoch 15 | validation_loss: 1.4446 | validation_accuracy: 0.4872\n",
            "Epoch 16 | validation_loss: 1.4715 | validation_accuracy: 0.4785\n",
            "Epoch 17 | validation_loss: 1.4113 | validation_accuracy: 0.4968\n",
            "Epoch 18 | validation_loss: 1.4525 | validation_accuracy: 0.4826\n",
            "Epoch 19 | validation_loss: 1.6083 | validation_accuracy: 0.4360\n",
            "Epoch 20 | validation_loss: 1.4677 | validation_accuracy: 0.4772\n",
            "Epoch 21 | validation_loss: 1.3859 | validation_accuracy: 0.5121\n",
            "Epoch 22 | validation_loss: 1.4303 | validation_accuracy: 0.5065\n",
            "Epoch 23 | validation_loss: 1.4329 | validation_accuracy: 0.5015\n",
            "Epoch 24 | validation_loss: 1.4491 | validation_accuracy: 0.5044\n",
            "Epoch 25 | validation_loss: 1.3810 | validation_accuracy: 0.5244\n",
            "Epoch 26 | validation_loss: 1.5804 | validation_accuracy: 0.4765\n",
            "Epoch 27 | validation_loss: 1.5593 | validation_accuracy: 0.4782\n",
            "Epoch 28 | validation_loss: 1.4029 | validation_accuracy: 0.5217\n",
            "Epoch 29 | validation_loss: 1.5385 | validation_accuracy: 0.4769\n",
            "Epoch 30 | validation_loss: 1.4831 | validation_accuracy: 0.5004\n",
            "Epoch 31 | validation_loss: 1.4409 | validation_accuracy: 0.5047\n",
            "Epoch 32 | validation_loss: 1.5048 | validation_accuracy: 0.4917\n",
            "Epoch 33 | validation_loss: 1.4383 | validation_accuracy: 0.5145\n",
            "Epoch 34 | validation_loss: 1.4263 | validation_accuracy: 0.5264\n",
            "Epoch 35 | validation_loss: 1.4501 | validation_accuracy: 0.5086\n",
            "Epoch 36 | validation_loss: 1.4688 | validation_accuracy: 0.5223\n",
            "Epoch 37 | validation_loss: 1.4895 | validation_accuracy: 0.5096\n",
            "Epoch 38 | validation_loss: 1.5347 | validation_accuracy: 0.4957\n",
            "Epoch 39 | validation_loss: 1.5717 | validation_accuracy: 0.5052\n",
            "Epoch 40 | validation_loss: 1.4988 | validation_accuracy: 0.5187\n",
            "Epoch 41 | validation_loss: 1.4592 | validation_accuracy: 0.5144\n",
            "Epoch 42 | validation_loss: 1.4831 | validation_accuracy: 0.5260\n",
            "Epoch 43 | validation_loss: 1.4793 | validation_accuracy: 0.5178\n",
            "Epoch 44 | validation_loss: 1.7206 | validation_accuracy: 0.4860\n",
            "Epoch 45 | validation_loss: 1.6034 | validation_accuracy: 0.5018\n",
            "Epoch 46 | validation_loss: 1.5443 | validation_accuracy: 0.5299\n",
            "Epoch 47 | validation_loss: 1.5967 | validation_accuracy: 0.5156\n",
            "Epoch 48 | validation_loss: 1.7273 | validation_accuracy: 0.4907\n",
            "Epoch 49 | validation_loss: 1.5524 | validation_accuracy: 0.5196\n"
          ]
        }
      ]
    },
    {
      "cell_type": "code",
      "source": [
        "plot_losses(history)"
      ],
      "metadata": {
        "colab": {
          "base_uri": "https://localhost:8080/",
          "height": 295
        },
        "id": "LEp8hRaPEW4Z",
        "outputId": "e71d8dd5-e7ac-4026-b402-943f9edc4f73"
      },
      "execution_count": null,
      "outputs": [
        {
          "output_type": "display_data",
          "data": {
            "image/png": "[encoded data removed]",
            "text/plain": [
              "<Figure size 432x288 with 1 Axes>"
            ]
          },
          "metadata": {
            "needs_background": "light"
          }
        }
      ]
    },
    {
      "cell_type": "code",
      "source": [
        "plot_accuracies(history)"
      ],
      "metadata": {
        "colab": {
          "base_uri": "https://localhost:8080/",
          "height": 295
        },
        "id": "uj3JDQUEHKHt",
        "outputId": "651d375a-15a2-4f7d-b6ab-4186fd01baac"
      },
      "execution_count": null,
      "outputs": [
        {
          "output_type": "display_data",
          "data": {
            "image/png": "[encoded data removed]",
            "text/plain": [
              "<Figure size 432x288 with 1 Axes>"
            ]
          },
          "metadata": {
            "needs_background": "light"
          }
        }
      ]
    },
    {
      "cell_type": "markdown",
      "metadata": {
        "id": "VTuPZT5zjfo5"
      },
      "source": [
        "Varying batch size: 64, 128, 256"
      ]
    },
    {
      "cell_type": "code",
      "execution_count": null,
      "metadata": {
        "id": "dib-8hQs5_3W"
      },
      "outputs": [],
      "source": [
        "# Baseline: 128\n",
        "\n",
        "batch_size = 128 # Number of images loaded into network at once\n",
        "epochs = 10 # Training run time\n",
        "optimiser_function = torch.optim.SGD # Optimiser function - set to Stochastic Gradient Descent\n",
        "learning_rate = 0.1 #1e-1 # Rate of optimisation\n",
        "num_workers = 2 # subprocesses to use for data loading"
      ]
    },
    {
      "cell_type": "code",
      "execution_count": null,
      "metadata": {
        "id": "T4bt-CiHjiGM",
        "colab": {
          "base_uri": "https://localhost:8080/"
        },
        "outputId": "8b4f2079-cfd3-474f-8102-6481c844ae57"
      },
      "outputs": [
        {
          "output_type": "stream",
          "name": "stdout",
          "text": [
            "[{'validation_loss': 2.300751209259033, 'validation_accuracy': 0.10597427189350128}]\n",
            "Epoch 0 | validation_loss: 1.8505 | validation_accuracy: 0.3342\n",
            "Epoch 1 | validation_loss: 1.7839 | validation_accuracy: 0.3593\n",
            "Epoch 2 | validation_loss: 1.7534 | validation_accuracy: 0.3621\n",
            "Epoch 3 | validation_loss: 1.7082 | validation_accuracy: 0.3807\n",
            "Epoch 4 | validation_loss: 1.5773 | validation_accuracy: 0.4377\n",
            "Epoch 5 | validation_loss: 1.5562 | validation_accuracy: 0.4449\n",
            "Epoch 6 | validation_loss: 1.6262 | validation_accuracy: 0.4203\n",
            "Epoch 7 | validation_loss: 1.4983 | validation_accuracy: 0.4676\n",
            "Epoch 8 | validation_loss: 1.5994 | validation_accuracy: 0.4288\n",
            "Epoch 9 | validation_loss: 1.5402 | validation_accuracy: 0.4537\n"
          ]
        }
      ],
      "source": [
        "training_loader = DataLoader(training_data, batch_size, shuffle=True, num_workers=num_workers, pin_memory=True)\n",
        "validation_loader = DataLoader(validation_data, batch_size*2, num_workers, pin_memory=True)\n",
        "testing_loader = DataLoader(testing_data, batch_size*2, num_workers, pin_memory=True)\n",
        "\n",
        "model = move_to_device(Model_1(), device)\n",
        "\n",
        "history = [validate_model(model, validation_loader)]\n",
        "print(history)\n",
        "\n",
        "history += fit_model(epochs, learning_rate, model, training_loader, validation_loader, optimiser_function)"
      ]
    },
    {
      "cell_type": "code",
      "source": [
        "plot_losses(history)"
      ],
      "metadata": {
        "colab": {
          "base_uri": "https://localhost:8080/",
          "height": 295
        },
        "id": "Yh2U94nhNwj1",
        "outputId": "53d26e06-ed98-4b3e-dfa6-7fa394124101"
      },
      "execution_count": null,
      "outputs": [
        {
          "output_type": "display_data",
          "data": {
            "image/png": "[encoded data removed]",
            "text/plain": [
              "<Figure size 432x288 with 1 Axes>"
            ]
          },
          "metadata": {
            "needs_background": "light"
          }
        }
      ]
    },
    {
      "cell_type": "code",
      "source": [
        "plot_accuracies(history)"
      ],
      "metadata": {
        "colab": {
          "base_uri": "https://localhost:8080/",
          "height": 295
        },
        "id": "P1XZ1mnsHp9p",
        "outputId": "30e6273e-fc17-433f-b60f-ebbfe2bc2ab4"
      },
      "execution_count": null,
      "outputs": [
        {
          "output_type": "display_data",
          "data": {
            "image/png": "[encoded data removed]",
            "text/plain": [
              "<Figure size 432x288 with 1 Axes>"
            ]
          },
          "metadata": {
            "needs_background": "light"
          }
        }
      ]
    },
    {
      "cell_type": "code",
      "source": [
        "# Lower: 64\n",
        "\n",
        "batch_size = 64\n",
        "\n",
        "training_loader = DataLoader(training_data, batch_size, shuffle=True, num_workers=num_workers, pin_memory=True)\n",
        "validation_loader = DataLoader(validation_data, batch_size*2, num_workers, pin_memory=True)\n",
        "testing_loader = DataLoader(testing_data, batch_size*2, num_workers, pin_memory=True)\n",
        "\n",
        "model = move_to_device(Model_1(), device)\n",
        "\n",
        "history = [validate_model(model, validation_loader)]\n",
        "print(history)\n",
        "\n",
        "history += fit_model(epochs, learning_rate, model, training_loader, validation_loader, optimiser_function)"
      ],
      "metadata": {
        "colab": {
          "base_uri": "https://localhost:8080/"
        },
        "id": "Cph8YBYYN1gP",
        "outputId": "1a7ab33f-41e6-42ce-e6d5-dc67b7764ce7"
      },
      "execution_count": null,
      "outputs": [
        {
          "output_type": "stream",
          "name": "stdout",
          "text": [
            "[{'validation_loss': 2.305284261703491, 'validation_accuracy': 0.09453125298023224}]\n",
            "Epoch 0 | validation_loss: 2.3065 | validation_accuracy: 0.2336\n",
            "Epoch 1 | validation_loss: 2.5506 | validation_accuracy: 0.2525\n",
            "Epoch 2 | validation_loss: 1.7288 | validation_accuracy: 0.3834\n",
            "Epoch 3 | validation_loss: 1.9210 | validation_accuracy: 0.3387\n",
            "Epoch 4 | validation_loss: 2.1148 | validation_accuracy: 0.3355\n",
            "Epoch 5 | validation_loss: 2.0205 | validation_accuracy: 0.3258\n",
            "Epoch 6 | validation_loss: 2.1173 | validation_accuracy: 0.2963\n",
            "Epoch 7 | validation_loss: 1.9918 | validation_accuracy: 0.3623\n",
            "Epoch 8 | validation_loss: 1.5198 | validation_accuracy: 0.4662\n",
            "Epoch 9 | validation_loss: 1.7490 | validation_accuracy: 0.4129\n"
          ]
        }
      ]
    },
    {
      "cell_type": "code",
      "source": [
        "plot_losses(history)"
      ],
      "metadata": {
        "colab": {
          "base_uri": "https://localhost:8080/",
          "height": 295
        },
        "id": "4Uo7T1bDN1ny",
        "outputId": "4e02e07d-49a6-4fab-85dc-3e6f680b91f3"
      },
      "execution_count": null,
      "outputs": [
        {
          "output_type": "display_data",
          "data": {
            "image/png": "[encoded data removed]",
            "text/plain": [
              "<Figure size 432x288 with 1 Axes>"
            ]
          },
          "metadata": {
            "needs_background": "light"
          }
        }
      ]
    },
    {
      "cell_type": "code",
      "source": [
        "plot_accuracies(history)"
      ],
      "metadata": {
        "colab": {
          "base_uri": "https://localhost:8080/",
          "height": 295
        },
        "id": "X71JEwTiN1r9",
        "outputId": "8514aee6-a045-44dd-d56a-5017c2da59e7"
      },
      "execution_count": null,
      "outputs": [
        {
          "output_type": "display_data",
          "data": {
            "image/png": "[encoded data removed]",
            "text/plain": [
              "<Figure size 432x288 with 1 Axes>"
            ]
          },
          "metadata": {
            "needs_background": "light"
          }
        }
      ]
    },
    {
      "cell_type": "code",
      "source": [
        "# Higher: 256\n",
        "\n",
        "batch_size = 256\n",
        "\n",
        "training_loader = DataLoader(training_data, batch_size, shuffle=True, num_workers=num_workers, pin_memory=True)\n",
        "validation_loader = DataLoader(validation_data, batch_size*2, num_workers, pin_memory=True)\n",
        "testing_loader = DataLoader(testing_data, batch_size*2, num_workers, pin_memory=True)\n",
        "\n",
        "model = move_to_device(Model_1(), device)\n",
        "\n",
        "history = [validate_model(model, validation_loader)]\n",
        "print(history)\n",
        "\n",
        "history += fit_model(epochs, learning_rate, model, training_loader, validation_loader, optimiser_function)"
      ],
      "metadata": {
        "colab": {
          "base_uri": "https://localhost:8080/"
        },
        "id": "ZSBC9vZRLw7-",
        "outputId": "d9a8bc00-d2e6-43f0-8203-55dffc8db01a"
      },
      "execution_count": null,
      "outputs": [
        {
          "output_type": "stream",
          "name": "stdout",
          "text": [
            "[{'validation_loss': 2.301886796951294, 'validation_accuracy': 0.10058991611003876}]\n",
            "Epoch 0 | validation_loss: 1.9895 | validation_accuracy: 0.2868\n",
            "Epoch 1 | validation_loss: 1.8186 | validation_accuracy: 0.3485\n",
            "Epoch 2 | validation_loss: 1.7454 | validation_accuracy: 0.3784\n",
            "Epoch 3 | validation_loss: 1.6967 | validation_accuracy: 0.4102\n",
            "Epoch 4 | validation_loss: 1.6603 | validation_accuracy: 0.4168\n",
            "Epoch 5 | validation_loss: 1.7103 | validation_accuracy: 0.3922\n",
            "Epoch 6 | validation_loss: 1.6157 | validation_accuracy: 0.4282\n",
            "Epoch 7 | validation_loss: 1.6379 | validation_accuracy: 0.4261\n",
            "Epoch 8 | validation_loss: 1.5684 | validation_accuracy: 0.4426\n",
            "Epoch 9 | validation_loss: 1.5369 | validation_accuracy: 0.4539\n"
          ]
        }
      ]
    },
    {
      "cell_type": "code",
      "source": [
        "plot_losses(history)"
      ],
      "metadata": {
        "colab": {
          "base_uri": "https://localhost:8080/",
          "height": 295
        },
        "id": "gVqAGNeuLw_T",
        "outputId": "f9f3c526-dbc8-470e-8793-a75ed67fd8fa"
      },
      "execution_count": null,
      "outputs": [
        {
          "output_type": "display_data",
          "data": {
            "image/png": "[encoded data removed]",
            "text/plain": [
              "<Figure size 432x288 with 1 Axes>"
            ]
          },
          "metadata": {
            "needs_background": "light"
          }
        }
      ]
    },
    {
      "cell_type": "code",
      "source": [
        "plot_accuracies(history)"
      ],
      "metadata": {
        "colab": {
          "base_uri": "https://localhost:8080/",
          "height": 295
        },
        "id": "EaxdgsJuLxCT",
        "outputId": "071484cf-447b-4a22-b6eb-cd70f2da440e"
      },
      "execution_count": null,
      "outputs": [
        {
          "output_type": "display_data",
          "data": {
            "image/png": "[encoded data removed]",
            "text/plain": [
              "<Figure size 432x288 with 1 Axes>"
            ]
          },
          "metadata": {
            "needs_background": "light"
          }
        }
      ]
    },
    {
      "cell_type": "markdown",
      "metadata": {
        "id": "iQbbCJoNl_cw"
      },
      "source": [
        "Varying optimisation function: Stochastic Gradient Descent vs Adam"
      ]
    },
    {
      "cell_type": "code",
      "source": [
        "# Baseline: SGD\n",
        "\n",
        "batch_size = 128 # Number of images loaded into network at once\n",
        "epochs = 10 # Training run time\n",
        "optimiser_function = torch.optim.SGD # Optimiser function\n",
        "learning_rate = 0.1 #1e-1 # Rate of optimisation\n",
        "num_workers = 2 # subprocesses to use for data loading\n",
        "\n",
        "model = move_to_device(Model_1(), device)\n",
        "\n",
        "history = [validate_model(model, validation_loader)]\n",
        "print(history)\n",
        "\n",
        "history += fit_model(epochs, learning_rate, model, training_loader, validation_loader, optimiser_function)"
      ],
      "metadata": {
        "colab": {
          "base_uri": "https://localhost:8080/"
        },
        "id": "l4AVEy1NMe2X",
        "outputId": "f00720cb-6ea4-4ab0-edc1-20fcb0b9bb91"
      },
      "execution_count": null,
      "outputs": [
        {
          "output_type": "stream",
          "name": "stdout",
          "text": [
            "[{'validation_loss': 2.304863214492798, 'validation_accuracy': 0.0949537605047226}]\n",
            "Epoch 0 | validation_loss: 1.9439 | validation_accuracy: 0.2855\n",
            "Epoch 1 | validation_loss: 1.9239 | validation_accuracy: 0.2967\n",
            "Epoch 2 | validation_loss: 1.7698 | validation_accuracy: 0.3723\n",
            "Epoch 3 | validation_loss: 1.6878 | validation_accuracy: 0.4017\n",
            "Epoch 4 | validation_loss: 1.7160 | validation_accuracy: 0.3839\n",
            "Epoch 5 | validation_loss: 1.6323 | validation_accuracy: 0.4222\n",
            "Epoch 6 | validation_loss: 1.6125 | validation_accuracy: 0.4254\n",
            "Epoch 7 | validation_loss: 1.6219 | validation_accuracy: 0.4193\n",
            "Epoch 8 | validation_loss: 1.6899 | validation_accuracy: 0.4131\n",
            "Epoch 9 | validation_loss: 1.7918 | validation_accuracy: 0.3974\n"
          ]
        }
      ]
    },
    {
      "cell_type": "code",
      "source": [
        "plot_losses(history)"
      ],
      "metadata": {
        "colab": {
          "base_uri": "https://localhost:8080/",
          "height": 295
        },
        "id": "pvq74hDQMan9",
        "outputId": "9413dbf1-43c1-4780-9d8e-ee5336e1ee6c"
      },
      "execution_count": null,
      "outputs": [
        {
          "output_type": "display_data",
          "data": {
            "image/png": "[encoded data removed]",
            "text/plain": [
              "<Figure size 432x288 with 1 Axes>"
            ]
          },
          "metadata": {
            "needs_background": "light"
          }
        }
      ]
    },
    {
      "cell_type": "code",
      "source": [
        "plot_accuracies(history)"
      ],
      "metadata": {
        "colab": {
          "base_uri": "https://localhost:8080/",
          "height": 295
        },
        "id": "Y8vMPNW-Marm",
        "outputId": "15717103-f3fb-4afd-faa4-fd18f008eefe"
      },
      "execution_count": null,
      "outputs": [
        {
          "output_type": "display_data",
          "data": {
            "image/png": "[encoded data removed]",
            "text/plain": [
              "<Figure size 432x288 with 1 Axes>"
            ]
          },
          "metadata": {
            "needs_background": "light"
          }
        }
      ]
    },
    {
      "cell_type": "code",
      "source": [
        "# Alternative optimiser function: Adam\n",
        "\n",
        "optimiser_function = torch.optim.Adam\n",
        "\n",
        "model = move_to_device(Model_1(), device)\n",
        "\n",
        "history = [validate_model(model, validation_loader)]\n",
        "print(history)\n",
        "\n",
        "history += fit_model(epochs, learning_rate, model, training_loader, validation_loader, optimiser_function)"
      ],
      "metadata": {
        "colab": {
          "base_uri": "https://localhost:8080/"
        },
        "id": "fEYc5R7VMtZl",
        "outputId": "8760ad85-c94d-47e5-b6c1-58a894b53579"
      },
      "execution_count": null,
      "outputs": [
        {
          "output_type": "stream",
          "name": "stdout",
          "text": [
            "[{'validation_loss': 2.3037421703338623, 'validation_accuracy': 0.10213647782802582}]\n",
            "Epoch 0 | validation_loss: 2.6360 | validation_accuracy: 0.1059\n",
            "Epoch 1 | validation_loss: 2.6395 | validation_accuracy: 0.1065\n",
            "Epoch 2 | validation_loss: 2.6380 | validation_accuracy: 0.0930\n",
            "Epoch 3 | validation_loss: 2.7402 | validation_accuracy: 0.1013\n",
            "Epoch 4 | validation_loss: 2.6379 | validation_accuracy: 0.1008\n",
            "Epoch 5 | validation_loss: 2.6378 | validation_accuracy: 0.0997\n",
            "Epoch 6 | validation_loss: 2.6392 | validation_accuracy: 0.1010\n",
            "Epoch 7 | validation_loss: 2.6387 | validation_accuracy: 0.0978\n",
            "Epoch 8 | validation_loss: 2.6429 | validation_accuracy: 0.0899\n",
            "Epoch 9 | validation_loss: 2.6438 | validation_accuracy: 0.0898\n"
          ]
        }
      ]
    },
    {
      "cell_type": "code",
      "source": [
        "plot_losses(history)"
      ],
      "metadata": {
        "colab": {
          "base_uri": "https://localhost:8080/",
          "height": 295
        },
        "id": "knWuJ1gBMDQl",
        "outputId": "afc0fdb5-07d5-44a4-c827-cddba10ad48a"
      },
      "execution_count": null,
      "outputs": [
        {
          "output_type": "display_data",
          "data": {
            "image/png": "[encoded data removed]",
            "text/plain": [
              "<Figure size 432x288 with 1 Axes>"
            ]
          },
          "metadata": {
            "needs_background": "light"
          }
        }
      ]
    },
    {
      "cell_type": "code",
      "source": [
        "plot_accuracies(history)"
      ],
      "metadata": {
        "colab": {
          "base_uri": "https://localhost:8080/",
          "height": 295
        },
        "id": "s8qWj3HvMFWM",
        "outputId": "aeb3eb64-f9f7-4cd1-d7a4-5a9080de555b"
      },
      "execution_count": null,
      "outputs": [
        {
          "output_type": "display_data",
          "data": {
            "image/png": "[encoded data removed]",
            "text/plain": [
              "<Figure size 432x288 with 1 Axes>"
            ]
          },
          "metadata": {
            "needs_background": "light"
          }
        }
      ]
    },
    {
      "cell_type": "markdown",
      "source": [
        "Varying learning rate: 0.1, 0.01, 0.001"
      ],
      "metadata": {
        "id": "7F3x6L4jMioy"
      }
    },
    {
      "cell_type": "code",
      "source": [
        "# Baseline: 0.1\n",
        "\n",
        "batch_size = 128 # Number of images loaded into network at once\n",
        "epochs = 10 # Training run time\n",
        "optimiser_function = torch.optim.SGD # Optimiser function - set to Stochastic Gradient Descent\n",
        "learning_rate = 0.1 #1e-1 # Rate of optimisation\n",
        "num_workers = 2 # subprocesses to use for data loading\n",
        "\n",
        "model = move_to_device(Model_1(), device)\n",
        "\n",
        "history = [validate_model(model, validation_loader)]\n",
        "print(history)\n",
        "\n",
        "history += fit_model(epochs, learning_rate, model, training_loader, validation_loader, optimiser_function)"
      ],
      "metadata": {
        "colab": {
          "base_uri": "https://localhost:8080/"
        },
        "id": "d1V14npoMkpb",
        "outputId": "27a5c44a-536c-4418-9360-7f82dc5e627d"
      },
      "execution_count": null,
      "outputs": [
        {
          "output_type": "stream",
          "name": "stdout",
          "text": [
            "[{'validation_loss': 2.3060407638549805, 'validation_accuracy': 0.09749680757522583}]\n",
            "Epoch 0 | validation_loss: 1.9461 | validation_accuracy: 0.2966\n",
            "Epoch 1 | validation_loss: 1.8330 | validation_accuracy: 0.3433\n",
            "Epoch 2 | validation_loss: 1.8166 | validation_accuracy: 0.3514\n",
            "Epoch 3 | validation_loss: 1.7329 | validation_accuracy: 0.3839\n",
            "Epoch 4 | validation_loss: 1.6718 | validation_accuracy: 0.4125\n",
            "Epoch 5 | validation_loss: 1.6464 | validation_accuracy: 0.4202\n",
            "Epoch 6 | validation_loss: 1.6116 | validation_accuracy: 0.4326\n",
            "Epoch 7 | validation_loss: 1.6462 | validation_accuracy: 0.4167\n",
            "Epoch 8 | validation_loss: 1.6148 | validation_accuracy: 0.4346\n",
            "Epoch 9 | validation_loss: 1.6276 | validation_accuracy: 0.4140\n"
          ]
        }
      ]
    },
    {
      "cell_type": "code",
      "source": [
        "plot_losses(history)"
      ],
      "metadata": {
        "colab": {
          "base_uri": "https://localhost:8080/",
          "height": 295
        },
        "id": "EZhYylN0QrrJ",
        "outputId": "1939d927-9361-44bd-c83f-a43d3473dab1"
      },
      "execution_count": null,
      "outputs": [
        {
          "output_type": "display_data",
          "data": {
            "image/png": "[encoded data removed]",
            "text/plain": [
              "<Figure size 432x288 with 1 Axes>"
            ]
          },
          "metadata": {
            "needs_background": "light"
          }
        }
      ]
    },
    {
      "cell_type": "code",
      "source": [
        "plot_accuracies(history)"
      ],
      "metadata": {
        "colab": {
          "base_uri": "https://localhost:8080/",
          "height": 295
        },
        "id": "JapomXALMs1a",
        "outputId": "ae27d251-2b8b-4ca1-b4da-a850ce50df87"
      },
      "execution_count": null,
      "outputs": [
        {
          "output_type": "display_data",
          "data": {
            "image/png": "[encoded data removed]",
            "text/plain": [
              "<Figure size 432x288 with 1 Axes>"
            ]
          },
          "metadata": {
            "needs_background": "light"
          }
        }
      ]
    },
    {
      "cell_type": "code",
      "source": [
        "# 0.01\n",
        "\n",
        "batch_size = 128 # Number of images loaded into network at once\n",
        "epochs = 10 # Training run time\n",
        "optimiser_function = torch.optim.SGD # Optimiser function - set to Stochastic Gradient Descent\n",
        "learning_rate = 0.01 #1e-1 # Rate of optimisation\n",
        "num_workers = 2 # subprocesses to use for data loading\n",
        "\n",
        "model = move_to_device(Model_1(), device)\n",
        "\n",
        "history = [validate_model(model, validation_loader)]\n",
        "print(history)\n",
        "\n",
        "history += fit_model(epochs, learning_rate, model, training_loader, validation_loader, optimiser_function)"
      ],
      "metadata": {
        "colab": {
          "base_uri": "https://localhost:8080/"
        },
        "id": "JvER9MjvQm77",
        "outputId": "e2ab8e5c-654f-4113-cb3f-46b72b5eae7b"
      },
      "execution_count": null,
      "outputs": [
        {
          "output_type": "stream",
          "name": "stdout",
          "text": [
            "[{'validation_loss': 2.3041253089904785, 'validation_accuracy': 0.11256377398967743}]\n",
            "Epoch 0 | validation_loss: 2.2402 | validation_accuracy: 0.1931\n",
            "Epoch 1 | validation_loss: 2.1294 | validation_accuracy: 0.2456\n",
            "Epoch 2 | validation_loss: 2.0316 | validation_accuracy: 0.2662\n",
            "Epoch 3 | validation_loss: 1.9763 | validation_accuracy: 0.2913\n",
            "Epoch 4 | validation_loss: 1.9402 | validation_accuracy: 0.3073\n",
            "Epoch 5 | validation_loss: 1.9108 | validation_accuracy: 0.3247\n",
            "Epoch 6 | validation_loss: 1.8889 | validation_accuracy: 0.3350\n",
            "Epoch 7 | validation_loss: 1.8774 | validation_accuracy: 0.3394\n",
            "Epoch 8 | validation_loss: 1.8544 | validation_accuracy: 0.3454\n",
            "Epoch 9 | validation_loss: 1.8325 | validation_accuracy: 0.3578\n"
          ]
        }
      ]
    },
    {
      "cell_type": "code",
      "source": [
        "plot_losses(history)"
      ],
      "metadata": {
        "colab": {
          "base_uri": "https://localhost:8080/",
          "height": 295
        },
        "id": "9-Oa3Q0JQnBE",
        "outputId": "ede16648-e8fd-4af1-8418-67bb03aa5c45"
      },
      "execution_count": null,
      "outputs": [
        {
          "output_type": "display_data",
          "data": {
            "image/png": "[encoded data removed]",
            "text/plain": [
              "<Figure size 432x288 with 1 Axes>"
            ]
          },
          "metadata": {
            "needs_background": "light"
          }
        }
      ]
    },
    {
      "cell_type": "code",
      "source": [
        "plot_accuracies(history)"
      ],
      "metadata": {
        "colab": {
          "base_uri": "https://localhost:8080/",
          "height": 295
        },
        "id": "X2DBL-55QnFV",
        "outputId": "9259ec77-46e7-4500-f3a5-711b80d203e0"
      },
      "execution_count": null,
      "outputs": [
        {
          "output_type": "display_data",
          "data": {
            "image/png": "[encoded data removed]",
            "text/plain": [
              "<Figure size 432x288 with 1 Axes>"
            ]
          },
          "metadata": {
            "needs_background": "light"
          }
        }
      ]
    },
    {
      "cell_type": "code",
      "source": [
        "# 0.001\n",
        "\n",
        "batch_size = 128 # Number of images loaded into network at once\n",
        "epochs = 10 # Training run time\n",
        "optimiser_function = torch.optim.SGD # Optimiser function - set to Stochastic Gradient Descent\n",
        "learning_rate = 0.1 #1e-1 # Rate of optimisation\n",
        "num_workers = 2 # subprocesses to use for data loading\n",
        "\n",
        "model = move_to_device(Model_1(), device)\n",
        "\n",
        "history = [validate_model(model, validation_loader)]\n",
        "print(history)\n",
        "\n",
        "history += fit_model(epochs, learning_rate, model, training_loader, validation_loader, optimiser_function)"
      ],
      "metadata": {
        "colab": {
          "base_uri": "https://localhost:8080/"
        },
        "id": "pKF29ipKQnJp",
        "outputId": "cd1b9971-5e58-4264-c268-c993b1608ca3"
      },
      "execution_count": null,
      "outputs": [
        {
          "output_type": "stream",
          "name": "stdout",
          "text": [
            "[{'validation_loss': 2.3038322925567627, 'validation_accuracy': 0.10817523300647736}]\n",
            "Epoch 0 | validation_loss: 1.9622 | validation_accuracy: 0.2843\n",
            "Epoch 1 | validation_loss: 1.8302 | validation_accuracy: 0.3423\n",
            "Epoch 2 | validation_loss: 1.8687 | validation_accuracy: 0.3234\n",
            "Epoch 3 | validation_loss: 1.7747 | validation_accuracy: 0.3714\n",
            "Epoch 4 | validation_loss: 1.6630 | validation_accuracy: 0.4241\n",
            "Epoch 5 | validation_loss: 1.6503 | validation_accuracy: 0.4307\n",
            "Epoch 6 | validation_loss: 1.6016 | validation_accuracy: 0.4358\n",
            "Epoch 7 | validation_loss: 1.5900 | validation_accuracy: 0.4376\n",
            "Epoch 8 | validation_loss: 1.5436 | validation_accuracy: 0.4550\n",
            "Epoch 9 | validation_loss: 1.7348 | validation_accuracy: 0.3912\n"
          ]
        }
      ]
    },
    {
      "cell_type": "code",
      "source": [
        "plot_losses(history)"
      ],
      "metadata": {
        "colab": {
          "base_uri": "https://localhost:8080/",
          "height": 295
        },
        "id": "Wt0wunQISyt3",
        "outputId": "95697b72-c693-4811-f90d-0915179b6ae0"
      },
      "execution_count": null,
      "outputs": [
        {
          "output_type": "display_data",
          "data": {
            "image/png": "[encoded data removed]",
            "text/plain": [
              "<Figure size 432x288 with 1 Axes>"
            ]
          },
          "metadata": {
            "needs_background": "light"
          }
        }
      ]
    },
    {
      "cell_type": "code",
      "source": [
        "plot_accuracies(history)"
      ],
      "metadata": {
        "colab": {
          "base_uri": "https://localhost:8080/",
          "height": 295
        },
        "id": "kI2VGqnBSyy_",
        "outputId": "c39935f3-d2eb-4e28-d66d-3f620082dabd"
      },
      "execution_count": null,
      "outputs": [
        {
          "output_type": "display_data",
          "data": {
            "image/png": "[encoded data removed]",
            "text/plain": [
              "<Figure size 432x288 with 1 Axes>"
            ]
          },
          "metadata": {
            "needs_background": "light"
          }
        }
      ]
    },
    {
      "cell_type": "markdown",
      "metadata": {
        "id": "3etO2DnYjiaS"
      },
      "source": [
        "Varying number of hidden layers: Baseline, two hidden, three hidden"
      ]
    },
    {
      "cell_type": "code",
      "source": [
        "# Baseline\n",
        "\n",
        "batch_size = 128 # Number of images loaded into network at once\n",
        "epochs = 10 # Training run time\n",
        "optimiser_function = torch.optim.SGD # Optimiser function - set to Stochastic Gradient Descent\n",
        "learning_rate = 0.1 #1e-1 # Rate of optimisation\n",
        "num_workers = 2 # subprocesses to use for data loading\n",
        "\n",
        "model = move_to_device(Model_1(), device)\n",
        "\n",
        "history = [validate_model(model, validation_loader)]\n",
        "print(history)\n",
        "\n",
        "history += fit_model(epochs, learning_rate, model, training_loader, validation_loader, optimiser_function)"
      ],
      "metadata": {
        "id": "nbpmalJyS7Xf"
      },
      "execution_count": null,
      "outputs": []
    },
    {
      "cell_type": "code",
      "source": [
        ""
      ],
      "metadata": {
        "id": "RpdIXauPa11F"
      },
      "execution_count": null,
      "outputs": []
    },
    {
      "cell_type": "code",
      "source": [
        ""
      ],
      "metadata": {
        "id": "A3EZv5uda16n"
      },
      "execution_count": null,
      "outputs": []
    },
    {
      "cell_type": "code",
      "source": [
        ""
      ],
      "metadata": {
        "id": "IY4ZMiFBS7c8"
      },
      "execution_count": null,
      "outputs": []
    },
    {
      "cell_type": "code",
      "source": [
        "# Two hidden layers"
      ],
      "metadata": {
        "id": "JSP0laHTaGnV"
      },
      "execution_count": null,
      "outputs": []
    },
    {
      "cell_type": "code",
      "source": [
        "class Model_two_hidden(NeuralNetwork):\n",
        "    def __init__(self):\n",
        "\n",
        "        super().__init__()\n",
        "        self.linear1 = nn.Linear(input_size, 256)\n",
        "        self.linear2 = nn.Linear(256, 128)\n",
        "        self.linear3 = nn.Linear(256, 128)\n",
        "        self.linear4 = nn.Linear(128, output_size)\n",
        "        \n",
        "    def forward(self, x):\n",
        "\n",
        "        # Flatten images into vectors\n",
        "        x = x.view(x.size(0), -1)\n",
        "\n",
        "        # Apply layers & activation functions\n",
        "        x = self.linear1(x)\n",
        "        x = F.relu(x)\n",
        "        x = self.linear2(x)\n",
        "        x = F.relu(x)\n",
        "        x = self.linear3(x)\n",
        "        \n",
        "        return x"
      ],
      "metadata": {
        "id": "6GRbtr8nS738"
      },
      "execution_count": null,
      "outputs": []
    },
    {
      "cell_type": "code",
      "source": [
        ""
      ],
      "metadata": {
        "id": "j5smS7IZS77v"
      },
      "execution_count": null,
      "outputs": []
    },
    {
      "cell_type": "code",
      "source": [
        "plot_losses(history)"
      ],
      "metadata": {
        "id": "nOi0M3VXa0HC"
      },
      "execution_count": null,
      "outputs": []
    },
    {
      "cell_type": "code",
      "source": [
        "plot_accuracies(history)"
      ],
      "metadata": {
        "id": "4iBN3MFLS7_m"
      },
      "execution_count": null,
      "outputs": []
    },
    {
      "cell_type": "code",
      "source": [
        "class Model_three_hidden(NeuralNetwork):\n",
        "    def __init__(self):\n",
        "\n",
        "        super().__init__()\n",
        "        self.linear1 = nn.Linear(input_size, 256)\n",
        "        self.linear2 = nn.Linear(256, 128)\n",
        "        self.linear3 = nn.Linear(256, 128)\n",
        "        self.linear4 = nn.Linear(256, 128)\n",
        "        self.linear5 = nn.Linear(128, output_size)\n",
        "        \n",
        "    def forward(self, x):\n",
        "\n",
        "        # Flatten images into vectors\n",
        "        x = x.view(x.size(0), -1)\n",
        "\n",
        "        # Apply layers & activation functions\n",
        "        x = self.linear1(x)\n",
        "        x = F.relu(x)\n",
        "        x = self.linear2(x)\n",
        "        x = F.relu(x)\n",
        "        x = self.linear3(x)\n",
        "        \n",
        "        return x"
      ],
      "metadata": {
        "id": "o8-h9PNPZpao"
      },
      "execution_count": null,
      "outputs": []
    },
    {
      "cell_type": "code",
      "source": [
        ""
      ],
      "metadata": {
        "id": "6NO3D843aviT"
      },
      "execution_count": null,
      "outputs": []
    },
    {
      "cell_type": "code",
      "source": [
        "plot_losses(history)"
      ],
      "metadata": {
        "id": "Ntz_PEUNauJb"
      },
      "execution_count": null,
      "outputs": []
    },
    {
      "cell_type": "code",
      "source": [
        "plot_accuracies(history)"
      ],
      "metadata": {
        "id": "7YfTauRpawZE"
      },
      "execution_count": null,
      "outputs": []
    },
    {
      "cell_type": "markdown",
      "metadata": {
        "id": "cWWcRWi2jplI"
      },
      "source": [
        "Varying number of nodes in hidden layers"
      ]
    },
    {
      "cell_type": "code",
      "execution_count": null,
      "metadata": {
        "id": "6RU00tYmjpMi"
      },
      "outputs": [],
      "source": [
        "# Baseline: "
      ]
    },
    {
      "cell_type": "code",
      "execution_count": null,
      "metadata": {
        "id": "oL6JH6l1jpJE"
      },
      "outputs": [],
      "source": [
        ""
      ]
    },
    {
      "cell_type": "code",
      "source": [
        "plot_losses(history)"
      ],
      "metadata": {
        "id": "k74sg6HCTEyY"
      },
      "execution_count": null,
      "outputs": []
    },
    {
      "cell_type": "code",
      "source": [
        "plot_accuracies(history)"
      ],
      "metadata": {
        "id": "-k1xndE0TFJC"
      },
      "execution_count": null,
      "outputs": []
    },
    {
      "cell_type": "code",
      "source": [
        "# "
      ],
      "metadata": {
        "id": "G4v911foTFNX"
      },
      "execution_count": null,
      "outputs": []
    },
    {
      "cell_type": "code",
      "source": [
        ""
      ],
      "metadata": {
        "id": "2oDg9R5JTStu"
      },
      "execution_count": null,
      "outputs": []
    },
    {
      "cell_type": "code",
      "source": [
        "plot_losses(history)"
      ],
      "metadata": {
        "id": "pyl-h1noTFRc"
      },
      "execution_count": null,
      "outputs": []
    },
    {
      "cell_type": "code",
      "source": [
        "plot_accuracies(history)"
      ],
      "metadata": {
        "id": "932vm-CuTFhm"
      },
      "execution_count": null,
      "outputs": []
    },
    {
      "cell_type": "code",
      "source": [
        "#"
      ],
      "metadata": {
        "id": "R26phNEBTFmp"
      },
      "execution_count": null,
      "outputs": []
    },
    {
      "cell_type": "code",
      "source": [
        ""
      ],
      "metadata": {
        "id": "yf3kwtRBTFsU"
      },
      "execution_count": null,
      "outputs": []
    },
    {
      "cell_type": "code",
      "source": [
        "plot_losses(history)"
      ],
      "metadata": {
        "id": "G7TvZpzyTVFN"
      },
      "execution_count": null,
      "outputs": []
    },
    {
      "cell_type": "code",
      "source": [
        "plot_accuracies(history)"
      ],
      "metadata": {
        "id": "CPZwU1jFTYeg"
      },
      "execution_count": null,
      "outputs": []
    }
  ],
  "metadata": {
    "colab": {
      "collapsed_sections": [],
      "name": "Task 4 Hui.ipynb",
      "provenance": []
    },
    "kernelspec": {
      "display_name": "Python 3",
      "name": "python3"
    },
    "language_info": {
      "name": "python"
    }
  },
  "nbformat": 4,
  "nbformat_minor": 0
}