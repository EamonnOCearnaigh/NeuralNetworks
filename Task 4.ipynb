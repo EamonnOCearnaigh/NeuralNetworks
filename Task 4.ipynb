{
 "cells": [
  {
   "cell_type": "markdown",
   "metadata": {
    "id": "2HxnuwTTdCct"
   },
   "source": [
    "# Programming and Mathematics for AI: Task 4"
   ]
  },
  {
   "cell_type": "markdown",
   "metadata": {
    "id": "EQrD08JLdLYs"
   },
   "source": [
    "# Part 1: Implement a Neural Network (Baseline)"
   ]
  },
  {
   "cell_type": "markdown",
   "metadata": {
    "id": "rrcQ3V-Idatm"
   },
   "source": [
    "Imports"
   ]
  },
  {
   "cell_type": "code",
   "execution_count": 3,
   "metadata": {
    "id": "75ntbi_7R8aV"
   },
   "outputs": [],
   "source": [
    "# NumPy\n",
    "import numpy as np\n",
    "\n",
    "# PyTorch - Open-source machine learning framework\n",
    "import torch\n",
    "import torch.nn as nn # Neural network\n",
    "import torch.nn.functional as F\n",
    "import torch.optim as optim\n",
    "from torch.utils.data.sampler import SubsetRandomSampler\n",
    "\n",
    "#Torchvision - Package consisting of popular datasets, model architectures, and common image transformations for computer vision\n",
    "import torchvision\n",
    "# from torchvision import datasets # Possibly remove\n",
    "import torchvision.transforms as transforms\n",
    "from torchvision.datasets import CIFAR10 # Dataset\n",
    "from torchvision.transforms import ToTensor\n",
    "from torchvision.utils import make_grid\n",
    "from torch.utils.data.dataloader import DataLoader\n",
    "from torch.utils.data import random_split\n",
    "\n",
    "# Matplotlib - Visualising data\n",
    "import matplotlib.pyplot as plt\n",
    "%matplotlib inline\n"
   ]
  },
  {
   "cell_type": "markdown",
   "metadata": {
    "id": "d1aWvc19dxnj"
   },
   "source": [
    "Downloading CIFAR-10 dataset, and examining its contents. 50,000 images are intended for training, and 10,000 for testing.  We will split this further by including a validation set of 5,000 images from the training set."
   ]
  },
  {
   "cell_type": "code",
   "execution_count": 4,
   "metadata": {
    "colab": {
     "base_uri": "https://localhost:8080/",
     "height": 84,
     "referenced_widgets": [
      "72bb601d605f47d68784502e6ad88c8f",
      "04d013521d4b46b5a5bbe0bd9173b247",
      "450f9bade44b4dffa3c5365eb869b16c",
      "fffb8b15a95e4c558711d5c3a9ce27a5",
      "578b50420fb04fedb119b69d0abcc95f",
      "9b2270310ddf488aae00daecf01e989b",
      "51948efdab4a4f6485d02e763fb4a521",
      "92e130915b8a4588acc5ee70386b9922",
      "92d0c141608147108ae28264af697360",
      "af8eb0ee033445388c22ba7e75c1a5fd",
      "cb7530b1130d46beb96ebce6919b1833"
     ]
    },
    "id": "UgDs8fAWSL5T",
    "outputId": "f4f51c40-bccf-4fe2-d77f-248af204ca6a"
   },
   "outputs": [
    {
     "name": "stdout",
     "output_type": "stream",
     "text": [
      "Downloading https://www.cs.toronto.edu/~kriz/cifar-10-python.tar.gz to data/cifar-10-python.tar.gz\n"
     ]
    },
    {
     "data": {
      "application/vnd.jupyter.widget-view+json": {
       "model_id": "72bb601d605f47d68784502e6ad88c8f",
       "version_major": 2,
       "version_minor": 0
      },
      "text/plain": [
       "  0%|          | 0/170498071 [00:00<?, ?it/s]"
      ]
     },
     "metadata": {},
     "output_type": "display_data"
    },
    {
     "name": "stdout",
     "output_type": "stream",
     "text": [
      "Extracting data/cifar-10-python.tar.gz to data/\n"
     ]
    }
   ],
   "source": [
    "training_data = CIFAR10(root = 'data/', download = True, transform = ToTensor())\n",
    "\n",
    "testing_data = CIFAR10(root = 'data/', train = False, transform = ToTensor())"
   ]
  },
  {
   "cell_type": "code",
   "execution_count": 5,
   "metadata": {
    "colab": {
     "base_uri": "https://localhost:8080/"
    },
    "id": "o_Hbp8lFSaob",
    "outputId": "059eefa5-173d-4961-a5ca-66ef08224e68"
   },
   "outputs": [
    {
     "data": {
      "text/plain": [
       "['airplane',\n",
       " 'automobile',\n",
       " 'bird',\n",
       " 'cat',\n",
       " 'deer',\n",
       " 'dog',\n",
       " 'frog',\n",
       " 'horse',\n",
       " 'ship',\n",
       " 'truck']"
      ]
     },
     "execution_count": 5,
     "metadata": {},
     "output_type": "execute_result"
    }
   ],
   "source": [
    "classes = training_data.classes\n",
    "classes"
   ]
  },
  {
   "cell_type": "code",
   "execution_count": 6,
   "metadata": {
    "colab": {
     "base_uri": "https://localhost:8080/"
    },
    "id": "di_ijkL7Sah4",
    "outputId": "dee0da79-31c5-4df2-8932-ddf364e7cdab"
   },
   "outputs": [
    {
     "data": {
      "text/plain": [
       "50000"
      ]
     },
     "execution_count": 6,
     "metadata": {},
     "output_type": "execute_result"
    }
   ],
   "source": [
    "training_data_size = len(training_data)\n",
    "training_data_size"
   ]
  },
  {
   "cell_type": "code",
   "execution_count": 7,
   "metadata": {
    "colab": {
     "base_uri": "https://localhost:8080/"
    },
    "id": "Y7xM9_cLSalB",
    "outputId": "b593a303-d64d-4418-af58-2ca5b569badc"
   },
   "outputs": [
    {
     "data": {
      "text/plain": [
       "10000"
      ]
     },
     "execution_count": 7,
     "metadata": {},
     "output_type": "execute_result"
    }
   ],
   "source": [
    "testing_data_size = len(testing_data)\n",
    "testing_data_size"
   ]
  },
  {
   "cell_type": "code",
   "execution_count": 8,
   "metadata": {
    "colab": {
     "base_uri": "https://localhost:8080/"
    },
    "id": "EXucjB9PSarT",
    "outputId": "f224d38c-12c9-497b-aa52-23586450bb87"
   },
   "outputs": [
    {
     "data": {
      "text/plain": [
       "10"
      ]
     },
     "execution_count": 8,
     "metadata": {},
     "output_type": "execute_result"
    }
   ],
   "source": [
    "classes_count = len(training_data.classes)\n",
    "classes_count"
   ]
  },
  {
   "cell_type": "code",
   "execution_count": 9,
   "metadata": {
    "colab": {
     "base_uri": "https://localhost:8080/"
    },
    "id": "NXfH9mOUSauI",
    "outputId": "ed9fab8f-8ac3-400a-dcc4-66a04ba8643c"
   },
   "outputs": [
    {
     "data": {
      "text/plain": [
       "torch.Size([3, 32, 32])"
      ]
     },
     "execution_count": 9,
     "metadata": {},
     "output_type": "execute_result"
    }
   ],
   "source": [
    "# Image shape\n",
    "image, label = training_data[0]\n",
    "image_shape = image.shape\n",
    "image_shape"
   ]
  },
  {
   "cell_type": "markdown",
   "metadata": {
    "id": "sWVkV8yHf9c9"
   },
   "source": [
    "Further splitting data to get a validation set.  Using a seed value to ensure the same validation set is always used."
   ]
  },
  {
   "cell_type": "code",
   "execution_count": 10,
   "metadata": {
    "colab": {
     "base_uri": "https://localhost:8080/"
    },
    "id": "u5mwzuivSrdo",
    "outputId": "65a312b3-b2cb-4c81-ccc4-9f1ff46a77b4"
   },
   "outputs": [
    {
     "data": {
      "text/plain": [
       "<torch._C.Generator at 0x7fc5565dda10>"
      ]
     },
     "execution_count": 10,
     "metadata": {},
     "output_type": "execute_result"
    }
   ],
   "source": [
    "# Validation data size\n",
    "validation_size = 5000\n",
    "# New training data size\n",
    "training_size = len(training_data) - validation_size\n",
    "# Random seed for reproducibility\n",
    "torch.manual_seed(25)"
   ]
  },
  {
   "cell_type": "markdown",
   "metadata": {
    "id": "o_qVis0Cl_8p"
   },
   "source": [
    "Using random split on training data to allocate 5,000 images to validation."
   ]
  },
  {
   "cell_type": "code",
   "execution_count": 11,
   "metadata": {
    "colab": {
     "base_uri": "https://localhost:8080/"
    },
    "id": "L0DpnmXCSrg9",
    "outputId": "44488d1c-8cfe-4a7d-a39d-15a22fe5f3c2"
   },
   "outputs": [
    {
     "name": "stdout",
     "output_type": "stream",
     "text": [
      "45000\n",
      "5000\n",
      "10000\n"
     ]
    }
   ],
   "source": [
    "training_data, validation_data = random_split(training_data, [training_size, validation_size])\n",
    "\n",
    "# Final datasets\n",
    "print(len(training_data)) # Data used to fit the model\n",
    "print(len(validation_data)) # Data used to fine-tune the model hyperparameters\n",
    "print(len(testing_data)) # Data used to provide an unbiased evaluation of a final NN"
   ]
  },
  {
   "cell_type": "markdown",
   "metadata": {
    "id": "55_FIU1RIpmJ"
   },
   "source": [
    "Baseline Parameters"
   ]
  },
  {
   "cell_type": "markdown",
   "metadata": {
    "id": "1Zfx22f4giIR"
   },
   "source": [
    "Batch size defines the number of samples that will be propagated through the neural network, number of epochs determines training times, optimiser function has several options.  Learning rate describes the rate at which the model optimises."
   ]
  },
  {
   "cell_type": "code",
   "execution_count": 12,
   "metadata": {
    "id": "khlc74a8Srlv"
   },
   "outputs": [],
   "source": [
    "batch_size = 128 # Number of images loaded into network at once\n",
    "epochs = 10 # Training run time\n",
    "optimiser_function = torch.optim.SGD # Optimiser function - set to Stochastic Gradient Descent\n",
    "learning_rate = 0.1 #1e-1 # Rate of optimisation\n",
    "num_workers = 2 # subprocesses to use for data loading"
   ]
  },
  {
   "cell_type": "markdown",
   "metadata": {
    "id": "dofgHGPHg43B"
   },
   "source": [
    "Data loaders for training, validation, testing sets.  We used shuffle for the training data loader so that batches are different per epoch during training.  This boosts generalisation. 2 workers are used, as recommended by colab."
   ]
  },
  {
   "cell_type": "code",
   "execution_count": 13,
   "metadata": {
    "id": "c2T6ZXNjSrp3"
   },
   "outputs": [],
   "source": [
    "training_loader = DataLoader(training_data, batch_size, shuffle=True, num_workers=num_workers, pin_memory=True)\n",
    "\n",
    "validation_loader = DataLoader(validation_data, batch_size*2, num_workers, pin_memory=True)\n",
    "\n",
    "testing_loader = DataLoader(testing_data, batch_size*2, num_workers, pin_memory=True)"
   ]
  },
  {
   "cell_type": "markdown",
   "metadata": {
    "id": "Rhsn4l4QsAeb"
   },
   "source": [
    "# Building the Neural Network"
   ]
  },
  {
   "cell_type": "markdown",
   "metadata": {
    "id": "XxOK8zauI6FP"
   },
   "source": [
    "Function to determine model accuracy"
   ]
  },
  {
   "cell_type": "code",
   "execution_count": 14,
   "metadata": {
    "id": "_kTIBoPZSry1"
   },
   "outputs": [],
   "source": [
    "def determine_accuracy(outputs, labels):\n",
    "    \"\"\"Determine accuracy via predictions\"\"\"\n",
    "    _, preds = torch.max(outputs, dim=1)\n",
    "    return torch.tensor(torch.sum(preds == labels).item() / len(preds))"
   ]
  },
  {
   "cell_type": "code",
   "execution_count": 15,
   "metadata": {
    "id": "bnpXwRglSr3J"
   },
   "outputs": [],
   "source": [
    "class NeuralNetwork(nn.Module):\n",
    "\n",
    "    def train_batch(self, batch):\n",
    "        \"\"\"Training batch: making predictions and determining loss\"\"\"\n",
    "\n",
    "        batch_images, batch_labels = batch\n",
    "\n",
    "        # Make predictions\n",
    "        out = self(batch_images)\n",
    "\n",
    "        # Determine batch loss\n",
    "        batch_loss = F.cross_entropy(out, batch_labels)\n",
    "        return batch_loss\n",
    "    \n",
    "    def validate_batch(self, batch):\n",
    "        \"\"\"Validating batch: making predictions, determining loss and accuracy\"\"\"\n",
    "\n",
    "        batch_images, batch_labels = batch\n",
    "\n",
    "        # Make predictions\n",
    "        out = self(batch_images)\n",
    "\n",
    "        # Determine loss\n",
    "        batch_loss = F.cross_entropy(out, batch_labels)\n",
    "\n",
    "        # Calculate accuracy\n",
    "        accuracy = determine_accuracy(out, batch_labels)\n",
    "        return {'validation_loss': batch_loss.detach(), 'validation_accuracy': accuracy}\n",
    "        \n",
    "    def validate_epoch(self, outputs):\n",
    "        \"\"\"Validate batches at the end of epoch\"\"\"\n",
    "\n",
    "        # Losses across epochs\n",
    "        epoch_losses = [x['validation_loss'] for x in outputs]\n",
    "\n",
    "        # Combining losses using mean\n",
    "        combined_epoch_loss = torch.stack(epoch_losses).mean()\n",
    "\n",
    "        # Accuracies across epochs\n",
    "        epoch_accs = [x['validation_accuracy'] for x in outputs]\n",
    "\n",
    "        # Combining accuracies using mean\n",
    "        combined_epoch_acc = torch.stack(epoch_accs).mean()\n",
    "\n",
    "        return {'validation_loss': combined_epoch_loss.item(), 'validation_accuracy': combined_epoch_acc.item()}\n",
    "    \n",
    "    def print_epoch(self, epoch, result):\n",
    "        \"\"\"Print epoch number, validation loss and accuracy at the end of each epoch\"\"\"\n",
    "\n",
    "        print(\"Epoch {} | validation_loss: {:.4f} | validation_accuracy: {:.4f}\".format(epoch, result['validation_loss'], result['validation_accuracy']))"
   ]
  },
  {
   "cell_type": "markdown",
   "metadata": {
    "id": "fl2RMr-hsezL"
   },
   "source": [
    "Function to evaluate model using model's internal functions"
   ]
  },
  {
   "cell_type": "code",
   "execution_count": 16,
   "metadata": {
    "id": "aKH-sK0KSr6l"
   },
   "outputs": [],
   "source": [
    "def validate_model(model, validation_loader):\n",
    "    \"\"\"Model validation\"\"\"\n",
    "\n",
    "    outputs = [model.validate_batch(batch) for batch in validation_loader]\n",
    "    return model.validate_epoch(outputs)\n"
   ]
  },
  {
   "cell_type": "markdown",
   "metadata": {
    "id": "MQRhjXBzsgSG"
   },
   "source": [
    "Function to train model using evaluation function above, and model's internal training functions."
   ]
  },
  {
   "cell_type": "code",
   "execution_count": 17,
   "metadata": {
    "id": "yD-VwfqosX7f"
   },
   "outputs": [],
   "source": [
    "def fit_model(epochs, learning_rate, model, training_loader, validation_loader, optimiser_function):\n",
    "    \"\"\"Model training and validation\"\"\"\n",
    "\n",
    "    # Model history\n",
    "    model_history = []\n",
    "\n",
    "    # Model optimiser\n",
    "    model_optimiser = optimiser_function(model.parameters(), learning_rate)\n",
    "\n",
    "    for epoch in range(epochs):\n",
    "\n",
    "        # Training\n",
    "        for batch in training_loader:\n",
    "\n",
    "            loss = model.train_batch(batch)\n",
    "            loss.backward()\n",
    "\n",
    "            model_optimiser.step()\n",
    "            model_optimiser.zero_grad()\n",
    "\n",
    "        # Validation\n",
    "        result = validate_model(model, validation_loader)\n",
    "        model.print_epoch(epoch, result)\n",
    "        model_history.append(result)\n",
    "\n",
    "    return model_history"
   ]
  },
  {
   "cell_type": "markdown",
   "metadata": {
    "id": "c7hxstU3sk_W"
   },
   "source": [
    "Checking the use of a dedicated GPU: In our case we mostly used CPUs."
   ]
  },
  {
   "cell_type": "code",
   "execution_count": 18,
   "metadata": {
    "id": "lFoZLGnES8rB"
   },
   "outputs": [],
   "source": [
    "def get_device():\n",
    "    \"\"\"Use dedicated GPU if available, else use CPU\"\"\"\n",
    "    if torch.cuda.is_available():\n",
    "        return torch.device('cuda')\n",
    "    else:\n",
    "        return torch.device('cpu')"
   ]
  },
  {
   "cell_type": "code",
   "execution_count": 19,
   "metadata": {
    "colab": {
     "base_uri": "https://localhost:8080/"
    },
    "id": "1tQECQMJTBjk",
    "outputId": "99c9f175-1ec1-4be2-fbfb-1b735121b0cd"
   },
   "outputs": [
    {
     "name": "stdout",
     "output_type": "stream",
     "text": [
      "cpu\n"
     ]
    }
   ],
   "source": [
    "device = get_device()\n",
    "print(device)"
   ]
  },
  {
   "cell_type": "code",
   "execution_count": 20,
   "metadata": {
    "id": "xVauG2rlxDFj"
   },
   "outputs": [],
   "source": [
    "def move_to_device(data, device):\n",
    "    \"\"\"Move data to GPU/CPU\"\"\"\n",
    "    if isinstance(data, (list,tuple)):\n",
    "        # Using recursion if required\n",
    "        return [move_to_device(x, device) for x in data]\n",
    "\n",
    "    return data.to(device, non_blocking=True)\n"
   ]
  },
  {
   "cell_type": "markdown",
   "metadata": {
    "id": "IZbmKoz2xIKQ"
   },
   "source": [
    "Function to plot loss across model history."
   ]
  },
  {
   "cell_type": "code",
   "execution_count": 21,
   "metadata": {
    "id": "SQkYXn2uZ13c"
   },
   "outputs": [],
   "source": [
    "def plot_losses(history):\n",
    "    \"\"\"Plot loss across model history\"\"\"\n",
    "\n",
    "    losses = [x['validation_loss'] for x in history]\n",
    "\n",
    "    # Plotting using pyplot\n",
    "    plt.plot(losses, '-x')\n",
    "    plt.xlabel('Epoch')\n",
    "    plt.ylabel('Loss')\n",
    "    plt.title('Loss against epochs');"
   ]
  },
  {
   "cell_type": "markdown",
   "metadata": {
    "id": "biYmlkHsxMEJ"
   },
   "source": [
    "Function to plot accuracy across model history."
   ]
  },
  {
   "cell_type": "code",
   "execution_count": 22,
   "metadata": {
    "id": "oK9xo71BTBp-"
   },
   "outputs": [],
   "source": [
    "def plot_accuracies(history):\n",
    "    \"\"\"Plot accuracy across model history\"\"\"\n",
    "\n",
    "    accuracies = [x['validation_accuracy'] for x in history]\n",
    "\n",
    "    # Plotting using pyplot\n",
    "    plt.plot(accuracies, '-x')\n",
    "    plt.xlabel('Epoch')\n",
    "    plt.ylabel('Accuracy')\n",
    "    plt.title('Accuracy against epochs');"
   ]
  },
  {
   "cell_type": "markdown",
   "metadata": {
    "id": "D-MqsOXxxd5o"
   },
   "source": [
    "Data Loaders"
   ]
  },
  {
   "cell_type": "code",
   "execution_count": 23,
   "metadata": {
    "id": "X2aPgBRsTBmZ"
   },
   "outputs": [],
   "source": [
    "\n",
    "class DeviceDataLoader():\n",
    "    \"\"\"Move data to a device\"\"\"\n",
    "\n",
    "    def __init__(self, data_loader, device):\n",
    "        self.data_loader = data_loader\n",
    "        self.device = device\n",
    "      \n",
    "    def __len__(self):\n",
    "        \"\"\"Batch count\"\"\"\n",
    "\n",
    "        return len(self.data_loader)\n",
    "        \n",
    "    def __iter__(self):\n",
    "        \"\"\"Yield a batch of data after moving it to device\"\"\"\n",
    "        \n",
    "        for b in self.data_loader: \n",
    "            yield move_to_device(b, self.device)\n",
    "\n",
    "    "
   ]
  },
  {
   "cell_type": "code",
   "execution_count": 24,
   "metadata": {
    "id": "0Uw2Y9tHTBtG"
   },
   "outputs": [],
   "source": [
    "training_loader = DeviceDataLoader(training_loader, device)\n",
    "validation_loader = DeviceDataLoader(validation_loader, device)\n",
    "testing_loader = DeviceDataLoader(testing_loader, device)"
   ]
  },
  {
   "cell_type": "markdown",
   "metadata": {
    "id": "QMh-1k0sxfvc"
   },
   "source": [
    "# Training the Neural Network"
   ]
  },
  {
   "cell_type": "code",
   "execution_count": 25,
   "metadata": {
    "id": "7sl9kkvfTBwf"
   },
   "outputs": [],
   "source": [
    "# Input and output\n",
    "\n",
    "input_size = 3*32*32\n",
    "\n",
    "output_size = 10"
   ]
  },
  {
   "cell_type": "code",
   "execution_count": 26,
   "metadata": {
    "id": "TwCkO891TBzz"
   },
   "outputs": [],
   "source": [
    "class Model_1(NeuralNetwork):\n",
    "    def __init__(self):\n",
    "\n",
    "        super().__init__()\n",
    "        self.linear1 = nn.Linear(input_size, 256)\n",
    "        self.linear2 = nn.Linear(256, 128)\n",
    "        self.linear3 = nn.Linear(128, output_size)\n",
    "        \n",
    "    def forward(self, x):\n",
    "\n",
    "        # Flatten images into vectors\n",
    "        x = x.view(x.size(0), -1)\n",
    "\n",
    "        # Apply layers & activation functions\n",
    "        x = self.linear1(x)\n",
    "        x = F.relu(x)\n",
    "        x = self.linear2(x)\n",
    "        x = F.relu(x)\n",
    "        x = self.linear3(x)\n",
    "        \n",
    "        return x"
   ]
  },
  {
   "cell_type": "markdown",
   "metadata": {
    "id": "p9k-ycYT0DtR"
   },
   "source": [
    "Move model to device"
   ]
  },
  {
   "cell_type": "code",
   "execution_count": 27,
   "metadata": {
    "id": "kM8-NQcQTCWw"
   },
   "outputs": [],
   "source": [
    "model = move_to_device(Model_1(), device)"
   ]
  },
  {
   "cell_type": "code",
   "execution_count": 28,
   "metadata": {
    "colab": {
     "base_uri": "https://localhost:8080/"
    },
    "id": "J7_6QWkJTCZz",
    "outputId": "93ac3070-b04b-4835-f732-5ca173a80750"
   },
   "outputs": [
    {
     "name": "stdout",
     "output_type": "stream",
     "text": [
      "[{'validation_loss': 2.304971694946289, 'validation_accuracy': 0.12934282422065735}]\n"
     ]
    }
   ],
   "source": [
    "history = [validate_model(model, validation_loader)]\n",
    "print(history)"
   ]
  },
  {
   "cell_type": "code",
   "execution_count": 29,
   "metadata": {
    "colab": {
     "base_uri": "https://localhost:8080/"
    },
    "id": "8Sfzf7OlTCc0",
    "outputId": "aa980331-3dde-49c0-876a-3ccba0d623fa"
   },
   "outputs": [
    {
     "name": "stdout",
     "output_type": "stream",
     "text": [
      "Epoch 0 | validation_loss: 1.9605 | validation_accuracy: 0.2781\n",
      "Epoch 1 | validation_loss: 1.7406 | validation_accuracy: 0.3785\n",
      "Epoch 2 | validation_loss: 1.7545 | validation_accuracy: 0.3676\n",
      "Epoch 3 | validation_loss: 1.7191 | validation_accuracy: 0.3739\n",
      "Epoch 4 | validation_loss: 1.6077 | validation_accuracy: 0.4213\n",
      "Epoch 5 | validation_loss: 1.5913 | validation_accuracy: 0.4380\n",
      "Epoch 6 | validation_loss: 1.5850 | validation_accuracy: 0.4263\n",
      "Epoch 7 | validation_loss: 1.6291 | validation_accuracy: 0.4145\n",
      "Epoch 8 | validation_loss: 1.4978 | validation_accuracy: 0.4650\n",
      "Epoch 9 | validation_loss: 1.5688 | validation_accuracy: 0.4414\n"
     ]
    }
   ],
   "source": [
    "history += fit_model(epochs, learning_rate, model, training_loader, validation_loader, optimiser_function)"
   ]
  },
  {
   "cell_type": "markdown",
   "metadata": {
    "id": "QA8S3o8GZpwb"
   },
   "source": [
    "Initial results"
   ]
  },
  {
   "cell_type": "code",
   "execution_count": 30,
   "metadata": {
    "colab": {
     "base_uri": "https://localhost:8080/",
     "height": 295
    },
    "id": "k0xqO92nZO9G",
    "outputId": "84692135-f480-43a5-b4bb-241c37f12a75"
   },
   "outputs": [
    {
     "data": {
      "image/png": "[encoded data removed]",
      "text/plain": [
       "<Figure size 432x288 with 1 Axes>"
      ]
     },
     "metadata": {
      "needs_background": "light"
     },
     "output_type": "display_data"
    }
   ],
   "source": [
    "plot_losses(history)"
   ]
  },
  {
   "cell_type": "code",
   "execution_count": 31,
   "metadata": {
    "colab": {
     "base_uri": "https://localhost:8080/",
     "height": 295
    },
    "id": "I_rc6bumZPAi",
    "outputId": "08350c79-50f8-4bfe-f6ee-c41ad49df562"
   },
   "outputs": [
    {
     "data": {
      "image/png": "[encoded data removed]",
      "text/plain": [
       "<Figure size 432x288 with 1 Axes>"
      ]
     },
     "metadata": {
      "needs_background": "light"
     },
     "output_type": "display_data"
    }
   ],
   "source": [
    "plot_accuracies(history)"
   ]
  },
  {
   "cell_type": "code",
   "execution_count": 32,
   "metadata": {
    "id": "g719rbiMaE4O"
   },
   "outputs": [],
   "source": [
    "learning_rate = 1e-2"
   ]
  },
  {
   "cell_type": "code",
   "execution_count": 33,
   "metadata": {
    "colab": {
     "base_uri": "https://localhost:8080/"
    },
    "id": "UNa9wzC3TCf0",
    "outputId": "bf86103d-6dc3-4215-f765-932734331ffc"
   },
   "outputs": [
    {
     "name": "stdout",
     "output_type": "stream",
     "text": [
      "Epoch 0 | validation_loss: 1.4103 | validation_accuracy: 0.4965\n",
      "Epoch 1 | validation_loss: 1.4036 | validation_accuracy: 0.5026\n",
      "Epoch 2 | validation_loss: 1.4050 | validation_accuracy: 0.5000\n",
      "Epoch 3 | validation_loss: 1.3969 | validation_accuracy: 0.4999\n",
      "Epoch 4 | validation_loss: 1.3950 | validation_accuracy: 0.5037\n",
      "Epoch 5 | validation_loss: 1.3949 | validation_accuracy: 0.5008\n",
      "Epoch 6 | validation_loss: 1.3830 | validation_accuracy: 0.5082\n",
      "Epoch 7 | validation_loss: 1.3925 | validation_accuracy: 0.5030\n",
      "Epoch 8 | validation_loss: 1.3801 | validation_accuracy: 0.5099\n",
      "Epoch 9 | validation_loss: 1.3848 | validation_accuracy: 0.5050\n"
     ]
    }
   ],
   "source": [
    "history += fit_model(epochs, learning_rate, model, training_loader, validation_loader, optimiser_function)"
   ]
  },
  {
   "cell_type": "code",
   "execution_count": 34,
   "metadata": {
    "id": "JsYvQ6nxaAf5"
   },
   "outputs": [],
   "source": [
    "learning_rate = 1e-3"
   ]
  },
  {
   "cell_type": "code",
   "execution_count": 35,
   "metadata": {
    "colab": {
     "base_uri": "https://localhost:8080/"
    },
    "id": "vzyN6Si2TCjA",
    "outputId": "133af069-487e-4595-ff90-c0acfc55a820"
   },
   "outputs": [
    {
     "name": "stdout",
     "output_type": "stream",
     "text": [
      "Epoch 0 | validation_loss: 1.3705 | validation_accuracy: 0.5099\n",
      "Epoch 1 | validation_loss: 1.3735 | validation_accuracy: 0.5075\n",
      "Epoch 2 | validation_loss: 1.3715 | validation_accuracy: 0.5081\n",
      "Epoch 3 | validation_loss: 1.3688 | validation_accuracy: 0.5124\n",
      "Epoch 4 | validation_loss: 1.3769 | validation_accuracy: 0.5063\n",
      "Epoch 5 | validation_loss: 1.3719 | validation_accuracy: 0.5078\n",
      "Epoch 6 | validation_loss: 1.3693 | validation_accuracy: 0.5083\n",
      "Epoch 7 | validation_loss: 1.3687 | validation_accuracy: 0.5110\n",
      "Epoch 8 | validation_loss: 1.3715 | validation_accuracy: 0.5092\n",
      "Epoch 9 | validation_loss: 1.3679 | validation_accuracy: 0.5104\n"
     ]
    }
   ],
   "source": [
    "history += fit_model(epochs, learning_rate, model, training_loader, validation_loader, optimiser_function)"
   ]
  },
  {
   "cell_type": "markdown",
   "metadata": {
    "id": "szhdIM0iK0zv"
   },
   "source": [
    "Plotting losses across all epochs"
   ]
  },
  {
   "cell_type": "code",
   "execution_count": 36,
   "metadata": {
    "colab": {
     "base_uri": "https://localhost:8080/",
     "height": 295
    },
    "id": "WIgrItwwTCoh",
    "outputId": "bea43377-960b-4073-c795-e7a8feaacf31"
   },
   "outputs": [
    {
     "data": {
      "image/png": "[encoded data removed]",
      "text/plain": [
       "<Figure size 432x288 with 1 Axes>"
      ]
     },
     "metadata": {
      "needs_background": "light"
     },
     "output_type": "display_data"
    }
   ],
   "source": [
    "plot_losses(history)"
   ]
  },
  {
   "cell_type": "markdown",
   "metadata": {
    "id": "1-4BP9oHKxkg"
   },
   "source": [
    "Plotting accuracies across all epochs"
   ]
  },
  {
   "cell_type": "code",
   "execution_count": 37,
   "metadata": {
    "colab": {
     "base_uri": "https://localhost:8080/",
     "height": 295
    },
    "id": "Ove8XH-UTCr3",
    "outputId": "d1402b6b-4612-4572-80bb-22e65bf7ae60"
   },
   "outputs": [
    {
     "data": {
      "image/png": "[encoded data removed]",
      "text/plain": [
       "<Figure size 432x288 with 1 Axes>"
      ]
     },
     "metadata": {
      "needs_background": "light"
     },
     "output_type": "display_data"
    }
   ],
   "source": [
    "plot_accuracies(history)"
   ]
  },
  {
   "cell_type": "markdown",
   "metadata": {
    "id": "YyhvRYrOx5IV"
   },
   "source": [
    "Evaluating model using the testing data and validate_model function"
   ]
  },
  {
   "cell_type": "code",
   "execution_count": 38,
   "metadata": {
    "colab": {
     "base_uri": "https://localhost:8080/"
    },
    "id": "B1uLYBgaTCux",
    "outputId": "4df948d5-f3cb-4b0e-9825-4eb5bd1d522a"
   },
   "outputs": [
    {
     "data": {
      "text/plain": [
       "{'validation_accuracy': 0.5194336175918579,\n",
       " 'validation_loss': 1.3510839939117432}"
      ]
     },
     "execution_count": 38,
     "metadata": {},
     "output_type": "execute_result"
    }
   ],
   "source": [
    "validate_model(model, testing_loader)"
   ]
  },
  {
   "cell_type": "code",
   "execution_count": 39,
   "metadata": {
    "id": "0I9x6c74TCyZ"
   },
   "outputs": [],
   "source": [
    "# ..."
   ]
  },
  {
   "cell_type": "markdown",
   "metadata": {
    "id": "S1uRsMXotsCM"
   },
   "source": [
    "# Part 2: Propose Improvements"
   ]
  },
  {
   "cell_type": "markdown",
   "metadata": {
    "id": "HFCbojLStwLv"
   },
   "source": [
    "# Improvement Attempt 1: Convolutional Neural Network - TODO"
   ]
  },
  {
   "cell_type": "code",
   "execution_count": 41,
   "metadata": {
    "colab": {
     "base_uri": "https://localhost:8080/"
    },
    "id": "Uu7UgWm7wKBP",
    "outputId": "a36f5d5c-5948-403e-fd2c-62f2ac05d8af"
   },
   "outputs": [
    {
     "data": {
      "text/plain": [
       "Ellipsis"
      ]
     },
     "execution_count": 41,
     "metadata": {},
     "output_type": "execute_result"
    }
   ],
   "source": [
    "..."
   ]
  },
  {
   "cell_type": "markdown",
   "metadata": {
    "id": "DqOhqjXsmSJp"
   },
   "source": [
    "# Improvement Attempt 2: Adding a dropout layer"
   ]
  },
  {
   "cell_type": "code",
   "execution_count": 44,
   "metadata": {
    "id": "SDcEcQqhmWbW"
   },
   "outputs": [],
   "source": [
    "class Model_dropout(NeuralNetwork):\n",
    "    def __init__(self):\n",
    "\n",
    "        super().__init__()\n",
    "        self.linear1 = nn.Linear(input_size, 256)\n",
    "        self.linear2 = nn.Linear(256, 128)\n",
    "        self.linear3 = nn.Linear(128, output_size)\n",
    "\n",
    "        # Dropout layer: probability set to 0.25\n",
    "        self.dropout = nn.Dropout(0.25)\n",
    "        \n",
    "    def forward(self, x):\n",
    "\n",
    "        # Flatten images into vectors\n",
    "        x = x.view(x.size(0), -1)\n",
    "\n",
    "        # Apply layers & activation functions\n",
    "        x = self.linear1(x)\n",
    "        x = F.relu(x)\n",
    "        x = self.linear2(x)\n",
    "        x = F.relu(x)\n",
    "        # Applying dropout\n",
    "        x = self.dropout(x)\n",
    "        x = self.linear3(x)\n",
    "        \n",
    "        return x"
   ]
  },
  {
   "cell_type": "code",
   "execution_count": 45,
   "metadata": {
    "colab": {
     "base_uri": "https://localhost:8080/"
    },
    "id": "g7m3ZwsfJ2x9",
    "outputId": "40c96034-de76-487b-ba73-d176a2f60fe8"
   },
   "outputs": [
    {
     "name": "stdout",
     "output_type": "stream",
     "text": [
      "[{'validation_loss': 2.302995443344116, 'validation_accuracy': 0.0985523909330368}]\n",
      "Epoch 0 | validation_loss: 1.9705 | validation_accuracy: 0.2702\n",
      "Epoch 1 | validation_loss: 1.7612 | validation_accuracy: 0.3788\n",
      "Epoch 2 | validation_loss: 1.7111 | validation_accuracy: 0.3904\n",
      "Epoch 3 | validation_loss: 1.7071 | validation_accuracy: 0.3907\n",
      "Epoch 4 | validation_loss: 1.7006 | validation_accuracy: 0.4073\n",
      "Epoch 5 | validation_loss: 1.6786 | validation_accuracy: 0.3978\n",
      "Epoch 6 | validation_loss: 1.7054 | validation_accuracy: 0.3989\n",
      "Epoch 7 | validation_loss: 1.5876 | validation_accuracy: 0.4345\n",
      "Epoch 8 | validation_loss: 1.5562 | validation_accuracy: 0.4383\n",
      "Epoch 9 | validation_loss: 1.5456 | validation_accuracy: 0.4413\n"
     ]
    }
   ],
   "source": [
    "batch_size = 128 # Number of images loaded into network at once\n",
    "epochs = 10 # Training run time\n",
    "optimiser_function = torch.optim.SGD # Optimiser function - set to Stochastic Gradient Descent\n",
    "learning_rate = 0.1 #1e-1 # Rate of optimisation\n",
    "num_workers = 2 # subprocesses to use for data loading\n",
    "\n",
    "model = move_to_device(Model_dropout(), device)\n",
    "\n",
    "history = [validate_model(model, validation_loader)]\n",
    "print(history)\n",
    "\n",
    "history += fit_model(epochs, learning_rate, model, training_loader, validation_loader, optimiser_function)"
   ]
  },
  {
   "cell_type": "code",
   "execution_count": 46,
   "metadata": {
    "colab": {
     "base_uri": "https://localhost:8080/",
     "height": 295
    },
    "id": "t5um04PMKEAU",
    "outputId": "f2684fb5-3356-433d-dfcd-9f0c5f88e6b8"
   },
   "outputs": [
    {
     "data": {
      "image/png": "[encoded data removed]",
      "text/plain": [
       "<Figure size 432x288 with 1 Axes>"
      ]
     },
     "metadata": {
      "needs_background": "light"
     },
     "output_type": "display_data"
    }
   ],
   "source": [
    "plot_losses(history)"
   ]
  },
  {
   "cell_type": "code",
   "execution_count": 47,
   "metadata": {
    "colab": {
     "base_uri": "https://localhost:8080/",
     "height": 295
    },
    "id": "NaYHLFdXKEFL",
    "outputId": "d0dd6909-e7f5-4c8b-82fe-7760f6bd148e"
   },
   "outputs": [
    {
     "data": {
      "image/png": "[encoded data removed]",
      "text/plain": [
       "<Figure size 432x288 with 1 Axes>"
      ]
     },
     "metadata": {
      "needs_background": "light"
     },
     "output_type": "display_data"
    }
   ],
   "source": [
    "plot_accuracies(history)"
   ]
  },
  {
   "cell_type": "markdown",
   "metadata": {
    "id": "4BDU6Rpt384s"
   },
   "source": [
    "Trying a different dropout probability of 0.15:"
   ]
  },
  {
   "cell_type": "code",
   "execution_count": 48,
   "metadata": {
    "id": "UFb4yUDc4Q0O"
   },
   "outputs": [],
   "source": [
    "class Model_dropout(NeuralNetwork):\n",
    "    def __init__(self):\n",
    "\n",
    "        super().__init__()\n",
    "        self.linear1 = nn.Linear(input_size, 256)\n",
    "        self.linear2 = nn.Linear(256, 128)\n",
    "        self.linear3 = nn.Linear(128, output_size)\n",
    "\n",
    "        # Dropout layer: probability set to 0.15\n",
    "        self.dropout = nn.Dropout(0.15)\n",
    "        \n",
    "    def forward(self, x):\n",
    "\n",
    "        # Flatten images into vectors\n",
    "        x = x.view(x.size(0), -1)\n",
    "\n",
    "        # Apply layers & activation functions\n",
    "        x = self.linear1(x)\n",
    "        x = F.relu(x)\n",
    "        x = self.linear2(x)\n",
    "        x = F.relu(x)\n",
    "        # Applying dropout\n",
    "        x = self.dropout(x)\n",
    "        x = self.linear3(x)\n",
    "        \n",
    "        return x"
   ]
  },
  {
   "cell_type": "code",
   "execution_count": 49,
   "metadata": {
    "colab": {
     "base_uri": "https://localhost:8080/"
    },
    "id": "vwu6zEJJ37JX",
    "outputId": "f85ac11a-3491-4b53-8e1e-cd9f0a9bc40f"
   },
   "outputs": [
    {
     "name": "stdout",
     "output_type": "stream",
     "text": [
      "[{'validation_loss': 2.3033838272094727, 'validation_accuracy': 0.09025735408067703}]\n",
      "Epoch 0 | validation_loss: 1.8439 | validation_accuracy: 0.3345\n",
      "Epoch 1 | validation_loss: 1.7454 | validation_accuracy: 0.3809\n",
      "Epoch 2 | validation_loss: 1.7994 | validation_accuracy: 0.3500\n",
      "Epoch 3 | validation_loss: 1.7479 | validation_accuracy: 0.3719\n",
      "Epoch 4 | validation_loss: 1.7138 | validation_accuracy: 0.3911\n",
      "Epoch 5 | validation_loss: 1.5920 | validation_accuracy: 0.4248\n",
      "Epoch 6 | validation_loss: 1.6770 | validation_accuracy: 0.4091\n",
      "Epoch 7 | validation_loss: 1.5560 | validation_accuracy: 0.4479\n",
      "Epoch 8 | validation_loss: 1.5412 | validation_accuracy: 0.4451\n",
      "Epoch 9 | validation_loss: 1.5502 | validation_accuracy: 0.4513\n"
     ]
    }
   ],
   "source": [
    "batch_size = 128 # Number of images loaded into network at once\n",
    "epochs = 10 # Training run time\n",
    "optimiser_function = torch.optim.SGD # Optimiser function - set to Stochastic Gradient Descent\n",
    "learning_rate = 0.1 #1e-1 # Rate of optimisation\n",
    "num_workers = 2 # subprocesses to use for data loading\n",
    "\n",
    "model = move_to_device(Model_dropout(), device)\n",
    "\n",
    "history = [validate_model(model, validation_loader)]\n",
    "print(history)\n",
    "\n",
    "history += fit_model(epochs, learning_rate, model, training_loader, validation_loader, optimiser_function)"
   ]
  },
  {
   "cell_type": "code",
   "execution_count": 50,
   "metadata": {
    "colab": {
     "base_uri": "https://localhost:8080/",
     "height": 295
    },
    "id": "Qhurlp3d38ai",
    "outputId": "c507d7e8-7022-4fcf-b505-7a37ad55d32e"
   },
   "outputs": [
    {
     "data": {
      "image/png": "[encoded data removed]",
      "text/plain": [
       "<Figure size 432x288 with 1 Axes>"
      ]
     },
     "metadata": {
      "needs_background": "light"
     },
     "output_type": "display_data"
    }
   ],
   "source": [
    "plot_losses(history)"
   ]
  },
  {
   "cell_type": "code",
   "execution_count": 51,
   "metadata": {
    "colab": {
     "base_uri": "https://localhost:8080/",
     "height": 295
    },
    "id": "IVnUW_JD38eF",
    "outputId": "cc7fe562-6fc1-429d-91ed-be488d8ae3de"
   },
   "outputs": [
    {
     "data": {
      "image/png": "[encoded data removed]",
      "text/plain": [
       "<Figure size 432x288 with 1 Axes>"
      ]
     },
     "metadata": {
      "needs_background": "light"
     },
     "output_type": "display_data"
    }
   ],
   "source": [
    "plot_accuracies(history)"
   ]
  },
  {
   "cell_type": "markdown",
   "metadata": {
    "id": "FHeDmywAmFhX"
   },
   "source": [
    "# Improvement Attempt 3: Regularisation"
   ]
  },
  {
   "cell_type": "markdown",
   "metadata": {
    "id": "8H12Hk6GaVvZ"
   },
   "source": [
    "L2 regularisation reduces overfitting by shrinking parameter estimates, which simplifies the model.  This can be done via the weight_decay parameter in the optimiser function."
   ]
  },
  {
   "cell_type": "code",
   "execution_count": 70,
   "metadata": {
    "id": "yQLVlSEoeMt3"
   },
   "outputs": [],
   "source": [
    "# Edited fit_model function to include L2 (weight_decay)\n",
    "\n",
    "def fit_model_L2(epochs, learning_rate, model, training_loader, validation_loader, optimiser_function, weight_decay):\n",
    "    \"\"\"Model training and validation\"\"\"\n",
    "\n",
    "    # Model history\n",
    "    model_history = []\n",
    "\n",
    "    # Model optimiser\n",
    "    model_optimiser = optimiser_function(model.parameters(), learning_rate, weight_decay) # Edited here to include weight_decay\n",
    "\n",
    "    for epoch in range(epochs):\n",
    "\n",
    "        # Training\n",
    "        for batch in training_loader:\n",
    "\n",
    "            loss = model.train_batch(batch)\n",
    "            loss.backward()\n",
    "\n",
    "            model_optimiser.step()\n",
    "            model_optimiser.zero_grad()\n",
    "\n",
    "        # Validation\n",
    "        result = validate_model(model, validation_loader) \n",
    "        model.print_epoch(epoch, result)\n",
    "        model_history.append(result)\n",
    "\n",
    "    return model_history"
   ]
  },
  {
   "cell_type": "markdown",
   "metadata": {
    "id": "6dPwrgSHkE72"
   },
   "source": [
    "Running with weight decay = 1e-5"
   ]
  },
  {
   "cell_type": "code",
   "execution_count": 71,
   "metadata": {
    "colab": {
     "base_uri": "https://localhost:8080/"
    },
    "id": "Vg8PZQ1NmXFb",
    "outputId": "4f0dbf6f-5a21-4244-ca38-a78a9afdb8e3"
   },
   "outputs": [
    {
     "name": "stdout",
     "output_type": "stream",
     "text": [
      "[{'validation_loss': 2.3033387660980225, 'validation_accuracy': 0.10214843600988388}]\n",
      "Epoch 0 | validation_loss: 1.9150 | validation_accuracy: 0.3097\n",
      "Epoch 1 | validation_loss: 1.8097 | validation_accuracy: 0.3509\n",
      "Epoch 2 | validation_loss: 1.7007 | validation_accuracy: 0.3852\n",
      "Epoch 3 | validation_loss: 1.6414 | validation_accuracy: 0.4185\n",
      "Epoch 4 | validation_loss: 1.6389 | validation_accuracy: 0.4066\n",
      "Epoch 5 | validation_loss: 1.6277 | validation_accuracy: 0.4115\n",
      "Epoch 6 | validation_loss: 1.5495 | validation_accuracy: 0.4528\n",
      "Epoch 7 | validation_loss: 1.6803 | validation_accuracy: 0.3974\n",
      "Epoch 8 | validation_loss: 1.5419 | validation_accuracy: 0.4526\n",
      "Epoch 9 | validation_loss: 1.6323 | validation_accuracy: 0.4235\n"
     ]
    }
   ],
   "source": [
    "# Running baseline with weight decay added to optimiser.\n",
    "\n",
    "weight_decay = 1e-5\n",
    "\n",
    "batch_size = 128 # Number of images loaded into network at once\n",
    "epochs = 10 # Training run time\n",
    "optimiser_function = torch.optim.SGD\n",
    "learning_rate = 0.1 #1e-1 # Rate of optimisation\n",
    "num_workers = 2 # subprocesses to use for data loading\n",
    "\n",
    "model = move_to_device(Model_1(), device)\n",
    "\n",
    "history = [validate_model(model, validation_loader)]\n",
    "print(history)\n",
    "\n",
    "history += fit_model_L2(epochs, learning_rate, model, training_loader, validation_loader, optimiser_function, weight_decay)"
   ]
  },
  {
   "cell_type": "code",
   "execution_count": 72,
   "metadata": {
    "colab": {
     "base_uri": "https://localhost:8080/",
     "height": 295
    },
    "id": "_ttpb7SHkYFs",
    "outputId": "1d11e1ea-b310-40e2-818c-171e63132b15"
   },
   "outputs": [
    {
     "data": {
      "image/png": "[encoded data removed]",
      "text/plain": [
       "<Figure size 432x288 with 1 Axes>"
      ]
     },
     "metadata": {
      "needs_background": "light"
     },
     "output_type": "display_data"
    }
   ],
   "source": [
    "plot_losses(history)"
   ]
  },
  {
   "cell_type": "code",
   "execution_count": 73,
   "metadata": {
    "colab": {
     "base_uri": "https://localhost:8080/",
     "height": 295
    },
    "id": "HLQicPzskYJW",
    "outputId": "abfb7157-ff71-482d-86c3-92247b1602ab"
   },
   "outputs": [
    {
     "data": {
      "image/png": "[encoded data removed]",
      "text/plain": [
       "<Figure size 432x288 with 1 Axes>"
      ]
     },
     "metadata": {
      "needs_background": "light"
     },
     "output_type": "display_data"
    }
   ],
   "source": [
    "plot_accuracies(history)"
   ]
  },
  {
   "cell_type": "markdown",
   "metadata": {
    "id": "slpjVaMskKZd"
   },
   "source": [
    "Running with weight decay = 1e-4"
   ]
  },
  {
   "cell_type": "code",
   "execution_count": 74,
   "metadata": {
    "colab": {
     "base_uri": "https://localhost:8080/"
    },
    "id": "ZdK3bg3GkJ03",
    "outputId": "4e55f007-cd8b-4c17-dcca-bdffed1f5827"
   },
   "outputs": [
    {
     "name": "stdout",
     "output_type": "stream",
     "text": [
      "[{'validation_loss': 2.30415415763855, 'validation_accuracy': 0.08223805576562881}]\n",
      "Epoch 0 | validation_loss: 1.8716 | validation_accuracy: 0.3355\n",
      "Epoch 1 | validation_loss: 1.8773 | validation_accuracy: 0.3157\n",
      "Epoch 2 | validation_loss: 1.7010 | validation_accuracy: 0.4036\n",
      "Epoch 3 | validation_loss: 1.6280 | validation_accuracy: 0.4221\n",
      "Epoch 4 | validation_loss: 1.6249 | validation_accuracy: 0.4275\n",
      "Epoch 5 | validation_loss: 1.6304 | validation_accuracy: 0.4275\n",
      "Epoch 6 | validation_loss: 1.6383 | validation_accuracy: 0.4157\n",
      "Epoch 7 | validation_loss: 1.5518 | validation_accuracy: 0.4487\n",
      "Epoch 8 | validation_loss: 1.5321 | validation_accuracy: 0.4475\n",
      "Epoch 9 | validation_loss: 1.5737 | validation_accuracy: 0.4382\n"
     ]
    }
   ],
   "source": [
    "# Running baseline with weight decay added to optimiser.\n",
    "\n",
    "weight_decay = 1e-4\n",
    "\n",
    "batch_size = 128 # Number of images loaded into network at once\n",
    "epochs = 10 # Training run time\n",
    "optimiser_function = torch.optim.SGD\n",
    "learning_rate = 0.1 #1e-1 # Rate of optimisation\n",
    "num_workers = 2 # subprocesses to use for data loading\n",
    "\n",
    "model = move_to_device(Model_1(), device)\n",
    "\n",
    "history = [validate_model(model, validation_loader)]\n",
    "print(history)\n",
    "\n",
    "history += fit_model_L2(epochs, learning_rate, model, training_loader, validation_loader, optimiser_function, weight_decay)"
   ]
  },
  {
   "cell_type": "code",
   "execution_count": 75,
   "metadata": {
    "colab": {
     "base_uri": "https://localhost:8080/",
     "height": 295
    },
    "id": "_QbqghfwkZAw",
    "outputId": "ca9c934e-13d0-469a-bd57-dd283a78c018"
   },
   "outputs": [
    {
     "data": {
      "image/png": "[encoded data removed]",
      "text/plain": [
       "<Figure size 432x288 with 1 Axes>"
      ]
     },
     "metadata": {
      "needs_background": "light"
     },
     "output_type": "display_data"
    }
   ],
   "source": [
    "plot_losses(history)"
   ]
  },
  {
   "cell_type": "code",
   "execution_count": 76,
   "metadata": {
    "colab": {
     "base_uri": "https://localhost:8080/",
     "height": 295
    },
    "id": "eV-6-63ikZGH",
    "outputId": "65098924-fb3b-4d38-8222-232a53bc1e19"
   },
   "outputs": [
    {
     "data": {
      "image/png": "[encoded data removed]",
      "text/plain": [
       "<Figure size 432x288 with 1 Axes>"
      ]
     },
     "metadata": {
      "needs_background": "light"
     },
     "output_type": "display_data"
    }
   ],
   "source": [
    "plot_accuracies(history)"
   ]
  },
  {
   "cell_type": "markdown",
   "metadata": {
    "id": "n6oKJLff55zf"
   },
   "source": [
    "# Part 3: Evaluating Parameters"
   ]
  },
  {
   "cell_type": "markdown",
   "metadata": {
    "id": "Y5lGO9365-YK"
   },
   "source": [
    "Running baseline model while varying number of epochs: 10, 25, 50"
   ]
  },
  {
   "cell_type": "code",
   "execution_count": 52,
   "metadata": {
    "colab": {
     "base_uri": "https://localhost:8080/"
    },
    "id": "OMofR7Qn5_I5",
    "outputId": "77802dd2-319c-4b1d-b878-861fb4527c09"
   },
   "outputs": [
    {
     "name": "stdout",
     "output_type": "stream",
     "text": [
      "[{'validation_loss': 2.3031325340270996, 'validation_accuracy': 0.10367647558450699}]\n",
      "Epoch 0 | validation_loss: 1.9513 | validation_accuracy: 0.2986\n",
      "Epoch 1 | validation_loss: 1.8549 | validation_accuracy: 0.3423\n",
      "Epoch 2 | validation_loss: 1.6901 | validation_accuracy: 0.4016\n",
      "Epoch 3 | validation_loss: 1.7217 | validation_accuracy: 0.3885\n",
      "Epoch 4 | validation_loss: 1.6195 | validation_accuracy: 0.4319\n",
      "Epoch 5 | validation_loss: 1.5900 | validation_accuracy: 0.4265\n",
      "Epoch 6 | validation_loss: 1.5510 | validation_accuracy: 0.4403\n",
      "Epoch 7 | validation_loss: 1.9099 | validation_accuracy: 0.3381\n",
      "Epoch 8 | validation_loss: 1.5144 | validation_accuracy: 0.4589\n",
      "Epoch 9 | validation_loss: 1.6206 | validation_accuracy: 0.4236\n"
     ]
    }
   ],
   "source": [
    "batch_size = 128 # Number of images loaded into network at once\n",
    "epochs = 10 # Training run time\n",
    "optimiser_function = torch.optim.SGD # Optimiser function - set to Stochastic Gradient Descent\n",
    "learning_rate = 0.1 #1e-1 # Rate of optimisation\n",
    "num_workers = 2 # subprocesses to use for data loading\n",
    "\n",
    "model = move_to_device(Model_1(), device)\n",
    "\n",
    "history = [validate_model(model, validation_loader)]\n",
    "print(history)\n",
    "\n",
    "history += fit_model(epochs, learning_rate, model, training_loader, validation_loader, optimiser_function)"
   ]
  },
  {
   "cell_type": "code",
   "execution_count": 53,
   "metadata": {
    "colab": {
     "base_uri": "https://localhost:8080/",
     "height": 295
    },
    "id": "ervs2xDwGbEN",
    "outputId": "20088371-3996-4719-c0fa-b4c2b9fc735d"
   },
   "outputs": [
    {
     "data": {
      "image/png": "[encoded data removed]",
      "text/plain": [
       "<Figure size 432x288 with 1 Axes>"
      ]
     },
     "metadata": {
      "needs_background": "light"
     },
     "output_type": "display_data"
    }
   ],
   "source": [
    "plot_losses(history)"
   ]
  },
  {
   "cell_type": "code",
   "execution_count": 54,
   "metadata": {
    "colab": {
     "base_uri": "https://localhost:8080/",
     "height": 295
    },
    "id": "rcddxn5NGpBr",
    "outputId": "fbf5c148-7bc4-4300-ce56-282658f3678a"
   },
   "outputs": [
    {
     "data": {
      "image/png": "[encoded data removed]",
      "text/plain": [
       "<Figure size 432x288 with 1 Axes>"
      ]
     },
     "metadata": {
      "needs_background": "light"
     },
     "output_type": "display_data"
    }
   ],
   "source": [
    "plot_accuracies(history)"
   ]
  },
  {
   "cell_type": "code",
   "execution_count": 55,
   "metadata": {
    "colab": {
     "base_uri": "https://localhost:8080/"
    },
    "id": "Dmz4UgHYSBc9",
    "outputId": "ebfff1f0-c0cd-4dcf-bcd0-74a0a19c9857"
   },
   "outputs": [
    {
     "name": "stdout",
     "output_type": "stream",
     "text": [
      "[{'validation_loss': 2.3026347160339355, 'validation_accuracy': 0.0851447582244873}]\n",
      "Epoch 0 | validation_loss: 1.8476 | validation_accuracy: 0.3467\n",
      "Epoch 1 | validation_loss: 1.7347 | validation_accuracy: 0.3946\n",
      "Epoch 2 | validation_loss: 1.6823 | validation_accuracy: 0.4021\n",
      "Epoch 3 | validation_loss: 2.0341 | validation_accuracy: 0.3051\n",
      "Epoch 4 | validation_loss: 1.6538 | validation_accuracy: 0.4219\n",
      "Epoch 5 | validation_loss: 1.6184 | validation_accuracy: 0.4159\n",
      "Epoch 6 | validation_loss: 1.6090 | validation_accuracy: 0.4236\n",
      "Epoch 7 | validation_loss: 1.5723 | validation_accuracy: 0.4403\n",
      "Epoch 8 | validation_loss: 1.4973 | validation_accuracy: 0.4628\n",
      "Epoch 9 | validation_loss: 1.5418 | validation_accuracy: 0.4523\n",
      "Epoch 10 | validation_loss: 1.5620 | validation_accuracy: 0.4445\n",
      "Epoch 11 | validation_loss: 1.5601 | validation_accuracy: 0.4479\n",
      "Epoch 12 | validation_loss: 1.5391 | validation_accuracy: 0.4550\n",
      "Epoch 13 | validation_loss: 1.5594 | validation_accuracy: 0.4505\n",
      "Epoch 14 | validation_loss: 1.4604 | validation_accuracy: 0.4857\n",
      "Epoch 15 | validation_loss: 1.6092 | validation_accuracy: 0.4198\n",
      "Epoch 16 | validation_loss: 1.4787 | validation_accuracy: 0.4719\n",
      "Epoch 17 | validation_loss: 1.7422 | validation_accuracy: 0.4121\n",
      "Epoch 18 | validation_loss: 1.5465 | validation_accuracy: 0.4767\n",
      "Epoch 19 | validation_loss: 1.4970 | validation_accuracy: 0.4758\n",
      "Epoch 20 | validation_loss: 1.4353 | validation_accuracy: 0.4990\n",
      "Epoch 21 | validation_loss: 1.4745 | validation_accuracy: 0.4748\n",
      "Epoch 22 | validation_loss: 1.4619 | validation_accuracy: 0.4852\n",
      "Epoch 23 | validation_loss: 1.4756 | validation_accuracy: 0.4968\n",
      "Epoch 24 | validation_loss: 1.4755 | validation_accuracy: 0.5020\n"
     ]
    }
   ],
   "source": [
    "epochs = 25\n",
    "model = move_to_device(Model_1(), device)\n",
    "\n",
    "history = [validate_model(model, validation_loader)]\n",
    "print(history)\n",
    "\n",
    "history += fit_model(epochs, learning_rate, model, training_loader, validation_loader, optimiser_function)"
   ]
  },
  {
   "cell_type": "code",
   "execution_count": 56,
   "metadata": {
    "colab": {
     "base_uri": "https://localhost:8080/",
     "height": 295
    },
    "id": "RYSG90NqGhc0",
    "outputId": "defe718b-eb47-4821-b555-36cef7c17840"
   },
   "outputs": [
    {
     "data": {
      "image/png": "[encoded data removed]",
      "text/plain": [
       "<Figure size 432x288 with 1 Axes>"
      ]
     },
     "metadata": {
      "needs_background": "light"
     },
     "output_type": "display_data"
    }
   ],
   "source": [
    "plot_losses(history)"
   ]
  },
  {
   "cell_type": "code",
   "execution_count": 57,
   "metadata": {
    "colab": {
     "base_uri": "https://localhost:8080/",
     "height": 295
    },
    "id": "3YjJ54dIGvsv",
    "outputId": "adf3a6de-cb59-49fc-febe-2e4d00459a1d"
   },
   "outputs": [
    {
     "data": {
      "image/png": "[encoded data removed]",
      "text/plain": [
       "<Figure size 432x288 with 1 Axes>"
      ]
     },
     "metadata": {
      "needs_background": "light"
     },
     "output_type": "display_data"
    }
   ],
   "source": [
    "plot_accuracies(history)"
   ]
  },
  {
   "cell_type": "code",
   "execution_count": 58,
   "metadata": {
    "colab": {
     "base_uri": "https://localhost:8080/",
     "height": 363
    },
    "id": "i7LXhgv7SBnb",
    "outputId": "6f1a2c3b-0e34-4b32-bac1-76a95c4375f9"
   },
   "outputs": [
    {
     "name": "stdout",
     "output_type": "stream",
     "text": [
      "[{'validation_loss': 2.3015236854553223, 'validation_accuracy': 0.14441636204719543}]\n"
     ]
    },
    {
     "ename": "KeyboardInterrupt",
     "evalue": "ignored",
     "output_type": "error",
     "traceback": [
      "\u001b[0;31m---------------------------------------------------------------------------\u001b[0m",
      "\u001b[0;31mKeyboardInterrupt\u001b[0m                         Traceback (most recent call last)",
      "\u001b[0;32m<ipython-input-58-2e9992d030b2>\u001b[0m in \u001b[0;36m<module>\u001b[0;34m()\u001b[0m\n\u001b[1;32m      5\u001b[0m \u001b[0mprint\u001b[0m\u001b[0;34m(\u001b[0m\u001b[0mhistory\u001b[0m\u001b[0;34m)\u001b[0m\u001b[0;34m\u001b[0m\u001b[0;34m\u001b[0m\u001b[0m\n\u001b[1;32m      6\u001b[0m \u001b[0;34m\u001b[0m\u001b[0m\n\u001b[0;32m----> 7\u001b[0;31m \u001b[0mhistory\u001b[0m \u001b[0;34m+=\u001b[0m \u001b[0mfit_model\u001b[0m\u001b[0;34m(\u001b[0m\u001b[0mepochs\u001b[0m\u001b[0;34m,\u001b[0m \u001b[0mlearning_rate\u001b[0m\u001b[0;34m,\u001b[0m \u001b[0mmodel\u001b[0m\u001b[0;34m,\u001b[0m \u001b[0mtraining_loader\u001b[0m\u001b[0;34m,\u001b[0m \u001b[0mvalidation_loader\u001b[0m\u001b[0;34m,\u001b[0m \u001b[0moptimiser_function\u001b[0m\u001b[0;34m)\u001b[0m\u001b[0;34m\u001b[0m\u001b[0;34m\u001b[0m\u001b[0m\n\u001b[0m",
      "\u001b[0;32m<ipython-input-17-224412c3ebc5>\u001b[0m in \u001b[0;36mfit_model\u001b[0;34m(epochs, learning_rate, model, training_loader, validation_loader, optimiser_function)\u001b[0m\n\u001b[1;32m     20\u001b[0m \u001b[0;34m\u001b[0m\u001b[0m\n\u001b[1;32m     21\u001b[0m         \u001b[0;31m# Validation\u001b[0m\u001b[0;34m\u001b[0m\u001b[0;34m\u001b[0m\u001b[0;34m\u001b[0m\u001b[0m\n\u001b[0;32m---> 22\u001b[0;31m         \u001b[0mresult\u001b[0m \u001b[0;34m=\u001b[0m \u001b[0mvalidate_model\u001b[0m\u001b[0;34m(\u001b[0m\u001b[0mmodel\u001b[0m\u001b[0;34m,\u001b[0m \u001b[0mvalidation_loader\u001b[0m\u001b[0;34m)\u001b[0m\u001b[0;34m\u001b[0m\u001b[0;34m\u001b[0m\u001b[0m\n\u001b[0m\u001b[1;32m     23\u001b[0m         \u001b[0mmodel\u001b[0m\u001b[0;34m.\u001b[0m\u001b[0mprint_epoch\u001b[0m\u001b[0;34m(\u001b[0m\u001b[0mepoch\u001b[0m\u001b[0;34m,\u001b[0m \u001b[0mresult\u001b[0m\u001b[0;34m)\u001b[0m\u001b[0;34m\u001b[0m\u001b[0;34m\u001b[0m\u001b[0m\n\u001b[1;32m     24\u001b[0m         \u001b[0mmodel_history\u001b[0m\u001b[0;34m.\u001b[0m\u001b[0mappend\u001b[0m\u001b[0;34m(\u001b[0m\u001b[0mresult\u001b[0m\u001b[0;34m)\u001b[0m\u001b[0;34m\u001b[0m\u001b[0;34m\u001b[0m\u001b[0m\n",
      "\u001b[0;32m<ipython-input-16-41cebe473b92>\u001b[0m in \u001b[0;36mvalidate_model\u001b[0;34m(model, validation_loader)\u001b[0m\n\u001b[1;32m      2\u001b[0m     \u001b[0;34m\"\"\"Model validation\"\"\"\u001b[0m\u001b[0;34m\u001b[0m\u001b[0;34m\u001b[0m\u001b[0m\n\u001b[1;32m      3\u001b[0m \u001b[0;34m\u001b[0m\u001b[0m\n\u001b[0;32m----> 4\u001b[0;31m     \u001b[0moutputs\u001b[0m \u001b[0;34m=\u001b[0m \u001b[0;34m[\u001b[0m\u001b[0mmodel\u001b[0m\u001b[0;34m.\u001b[0m\u001b[0mvalidate_batch\u001b[0m\u001b[0;34m(\u001b[0m\u001b[0mbatch\u001b[0m\u001b[0;34m)\u001b[0m \u001b[0;32mfor\u001b[0m \u001b[0mbatch\u001b[0m \u001b[0;32min\u001b[0m \u001b[0mvalidation_loader\u001b[0m\u001b[0;34m]\u001b[0m\u001b[0;34m\u001b[0m\u001b[0;34m\u001b[0m\u001b[0m\n\u001b[0m\u001b[1;32m      5\u001b[0m     \u001b[0;32mreturn\u001b[0m \u001b[0mmodel\u001b[0m\u001b[0;34m.\u001b[0m\u001b[0mvalidate_epoch\u001b[0m\u001b[0;34m(\u001b[0m\u001b[0moutputs\u001b[0m\u001b[0;34m)\u001b[0m\u001b[0;34m\u001b[0m\u001b[0;34m\u001b[0m\u001b[0m\n",
      "\u001b[0;32m<ipython-input-16-41cebe473b92>\u001b[0m in \u001b[0;36m<listcomp>\u001b[0;34m(.0)\u001b[0m\n\u001b[1;32m      2\u001b[0m     \u001b[0;34m\"\"\"Model validation\"\"\"\u001b[0m\u001b[0;34m\u001b[0m\u001b[0;34m\u001b[0m\u001b[0m\n\u001b[1;32m      3\u001b[0m \u001b[0;34m\u001b[0m\u001b[0m\n\u001b[0;32m----> 4\u001b[0;31m     \u001b[0moutputs\u001b[0m \u001b[0;34m=\u001b[0m \u001b[0;34m[\u001b[0m\u001b[0mmodel\u001b[0m\u001b[0;34m.\u001b[0m\u001b[0mvalidate_batch\u001b[0m\u001b[0;34m(\u001b[0m\u001b[0mbatch\u001b[0m\u001b[0;34m)\u001b[0m \u001b[0;32mfor\u001b[0m \u001b[0mbatch\u001b[0m \u001b[0;32min\u001b[0m \u001b[0mvalidation_loader\u001b[0m\u001b[0;34m]\u001b[0m\u001b[0;34m\u001b[0m\u001b[0;34m\u001b[0m\u001b[0m\n\u001b[0m\u001b[1;32m      5\u001b[0m     \u001b[0;32mreturn\u001b[0m \u001b[0mmodel\u001b[0m\u001b[0;34m.\u001b[0m\u001b[0mvalidate_epoch\u001b[0m\u001b[0;34m(\u001b[0m\u001b[0moutputs\u001b[0m\u001b[0;34m)\u001b[0m\u001b[0;34m\u001b[0m\u001b[0;34m\u001b[0m\u001b[0m\n",
      "\u001b[0;32m<ipython-input-23-dfab5188446e>\u001b[0m in \u001b[0;36m__iter__\u001b[0;34m(self)\u001b[0m\n\u001b[1;32m     15\u001b[0m         \u001b[0;34m\"\"\"Yield a batch of data after moving it to device\"\"\"\u001b[0m\u001b[0;34m\u001b[0m\u001b[0;34m\u001b[0m\u001b[0m\n\u001b[1;32m     16\u001b[0m \u001b[0;34m\u001b[0m\u001b[0m\n\u001b[0;32m---> 17\u001b[0;31m         \u001b[0;32mfor\u001b[0m \u001b[0mb\u001b[0m \u001b[0;32min\u001b[0m \u001b[0mself\u001b[0m\u001b[0;34m.\u001b[0m\u001b[0mdata_loader\u001b[0m\u001b[0;34m:\u001b[0m\u001b[0;34m\u001b[0m\u001b[0;34m\u001b[0m\u001b[0m\n\u001b[0m\u001b[1;32m     18\u001b[0m             \u001b[0;32myield\u001b[0m \u001b[0mmove_to_device\u001b[0m\u001b[0;34m(\u001b[0m\u001b[0mb\u001b[0m\u001b[0;34m,\u001b[0m \u001b[0mself\u001b[0m\u001b[0;34m.\u001b[0m\u001b[0mdevice\u001b[0m\u001b[0;34m)\u001b[0m\u001b[0;34m\u001b[0m\u001b[0;34m\u001b[0m\u001b[0m\n\u001b[1;32m     19\u001b[0m \u001b[0;34m\u001b[0m\u001b[0m\n",
      "\u001b[0;32m/usr/local/lib/python3.7/dist-packages/torch/utils/data/dataloader.py\u001b[0m in \u001b[0;36m__next__\u001b[0;34m(self)\u001b[0m\n\u001b[1;32m    519\u001b[0m             \u001b[0;32mif\u001b[0m \u001b[0mself\u001b[0m\u001b[0;34m.\u001b[0m\u001b[0m_sampler_iter\u001b[0m \u001b[0;32mis\u001b[0m \u001b[0;32mNone\u001b[0m\u001b[0;34m:\u001b[0m\u001b[0;34m\u001b[0m\u001b[0;34m\u001b[0m\u001b[0m\n\u001b[1;32m    520\u001b[0m                 \u001b[0mself\u001b[0m\u001b[0;34m.\u001b[0m\u001b[0m_reset\u001b[0m\u001b[0;34m(\u001b[0m\u001b[0;34m)\u001b[0m\u001b[0;34m\u001b[0m\u001b[0;34m\u001b[0m\u001b[0m\n\u001b[0;32m--> 521\u001b[0;31m             \u001b[0mdata\u001b[0m \u001b[0;34m=\u001b[0m \u001b[0mself\u001b[0m\u001b[0;34m.\u001b[0m\u001b[0m_next_data\u001b[0m\u001b[0;34m(\u001b[0m\u001b[0;34m)\u001b[0m\u001b[0;34m\u001b[0m\u001b[0;34m\u001b[0m\u001b[0m\n\u001b[0m\u001b[1;32m    522\u001b[0m             \u001b[0mself\u001b[0m\u001b[0;34m.\u001b[0m\u001b[0m_num_yielded\u001b[0m \u001b[0;34m+=\u001b[0m \u001b[0;36m1\u001b[0m\u001b[0;34m\u001b[0m\u001b[0;34m\u001b[0m\u001b[0m\n\u001b[1;32m    523\u001b[0m             \u001b[0;32mif\u001b[0m \u001b[0mself\u001b[0m\u001b[0;34m.\u001b[0m\u001b[0m_dataset_kind\u001b[0m \u001b[0;34m==\u001b[0m \u001b[0m_DatasetKind\u001b[0m\u001b[0;34m.\u001b[0m\u001b[0mIterable\u001b[0m \u001b[0;32mand\u001b[0m\u001b[0;31m \u001b[0m\u001b[0;31m\\\u001b[0m\u001b[0;34m\u001b[0m\u001b[0;34m\u001b[0m\u001b[0m\n",
      "\u001b[0;32m/usr/local/lib/python3.7/dist-packages/torch/utils/data/dataloader.py\u001b[0m in \u001b[0;36m_next_data\u001b[0;34m(self)\u001b[0m\n\u001b[1;32m    559\u001b[0m     \u001b[0;32mdef\u001b[0m \u001b[0m_next_data\u001b[0m\u001b[0;34m(\u001b[0m\u001b[0mself\u001b[0m\u001b[0;34m)\u001b[0m\u001b[0;34m:\u001b[0m\u001b[0;34m\u001b[0m\u001b[0;34m\u001b[0m\u001b[0m\n\u001b[1;32m    560\u001b[0m         \u001b[0mindex\u001b[0m \u001b[0;34m=\u001b[0m \u001b[0mself\u001b[0m\u001b[0;34m.\u001b[0m\u001b[0m_next_index\u001b[0m\u001b[0;34m(\u001b[0m\u001b[0;34m)\u001b[0m  \u001b[0;31m# may raise StopIteration\u001b[0m\u001b[0;34m\u001b[0m\u001b[0;34m\u001b[0m\u001b[0m\n\u001b[0;32m--> 561\u001b[0;31m         \u001b[0mdata\u001b[0m \u001b[0;34m=\u001b[0m \u001b[0mself\u001b[0m\u001b[0;34m.\u001b[0m\u001b[0m_dataset_fetcher\u001b[0m\u001b[0;34m.\u001b[0m\u001b[0mfetch\u001b[0m\u001b[0;34m(\u001b[0m\u001b[0mindex\u001b[0m\u001b[0;34m)\u001b[0m  \u001b[0;31m# may raise StopIteration\u001b[0m\u001b[0;34m\u001b[0m\u001b[0;34m\u001b[0m\u001b[0m\n\u001b[0m\u001b[1;32m    562\u001b[0m         \u001b[0;32mif\u001b[0m \u001b[0mself\u001b[0m\u001b[0;34m.\u001b[0m\u001b[0m_pin_memory\u001b[0m\u001b[0;34m:\u001b[0m\u001b[0;34m\u001b[0m\u001b[0;34m\u001b[0m\u001b[0m\n\u001b[1;32m    563\u001b[0m             \u001b[0mdata\u001b[0m \u001b[0;34m=\u001b[0m \u001b[0m_utils\u001b[0m\u001b[0;34m.\u001b[0m\u001b[0mpin_memory\u001b[0m\u001b[0;34m.\u001b[0m\u001b[0mpin_memory\u001b[0m\u001b[0;34m(\u001b[0m\u001b[0mdata\u001b[0m\u001b[0;34m)\u001b[0m\u001b[0;34m\u001b[0m\u001b[0;34m\u001b[0m\u001b[0m\n",
      "\u001b[0;32m/usr/local/lib/python3.7/dist-packages/torch/utils/data/_utils/fetch.py\u001b[0m in \u001b[0;36mfetch\u001b[0;34m(self, possibly_batched_index)\u001b[0m\n\u001b[1;32m     47\u001b[0m     \u001b[0;32mdef\u001b[0m \u001b[0mfetch\u001b[0m\u001b[0;34m(\u001b[0m\u001b[0mself\u001b[0m\u001b[0;34m,\u001b[0m \u001b[0mpossibly_batched_index\u001b[0m\u001b[0;34m)\u001b[0m\u001b[0;34m:\u001b[0m\u001b[0;34m\u001b[0m\u001b[0;34m\u001b[0m\u001b[0m\n\u001b[1;32m     48\u001b[0m         \u001b[0;32mif\u001b[0m \u001b[0mself\u001b[0m\u001b[0;34m.\u001b[0m\u001b[0mauto_collation\u001b[0m\u001b[0;34m:\u001b[0m\u001b[0;34m\u001b[0m\u001b[0;34m\u001b[0m\u001b[0m\n\u001b[0;32m---> 49\u001b[0;31m             \u001b[0mdata\u001b[0m \u001b[0;34m=\u001b[0m \u001b[0;34m[\u001b[0m\u001b[0mself\u001b[0m\u001b[0;34m.\u001b[0m\u001b[0mdataset\u001b[0m\u001b[0;34m[\u001b[0m\u001b[0midx\u001b[0m\u001b[0;34m]\u001b[0m \u001b[0;32mfor\u001b[0m \u001b[0midx\u001b[0m \u001b[0;32min\u001b[0m \u001b[0mpossibly_batched_index\u001b[0m\u001b[0;34m]\u001b[0m\u001b[0;34m\u001b[0m\u001b[0;34m\u001b[0m\u001b[0m\n\u001b[0m\u001b[1;32m     50\u001b[0m         \u001b[0;32melse\u001b[0m\u001b[0;34m:\u001b[0m\u001b[0;34m\u001b[0m\u001b[0;34m\u001b[0m\u001b[0m\n\u001b[1;32m     51\u001b[0m             \u001b[0mdata\u001b[0m \u001b[0;34m=\u001b[0m \u001b[0mself\u001b[0m\u001b[0;34m.\u001b[0m\u001b[0mdataset\u001b[0m\u001b[0;34m[\u001b[0m\u001b[0mpossibly_batched_index\u001b[0m\u001b[0;34m]\u001b[0m\u001b[0;34m\u001b[0m\u001b[0;34m\u001b[0m\u001b[0m\n",
      "\u001b[0;32m/usr/local/lib/python3.7/dist-packages/torch/utils/data/_utils/fetch.py\u001b[0m in \u001b[0;36m<listcomp>\u001b[0;34m(.0)\u001b[0m\n\u001b[1;32m     47\u001b[0m     \u001b[0;32mdef\u001b[0m \u001b[0mfetch\u001b[0m\u001b[0;34m(\u001b[0m\u001b[0mself\u001b[0m\u001b[0;34m,\u001b[0m \u001b[0mpossibly_batched_index\u001b[0m\u001b[0;34m)\u001b[0m\u001b[0;34m:\u001b[0m\u001b[0;34m\u001b[0m\u001b[0;34m\u001b[0m\u001b[0m\n\u001b[1;32m     48\u001b[0m         \u001b[0;32mif\u001b[0m \u001b[0mself\u001b[0m\u001b[0;34m.\u001b[0m\u001b[0mauto_collation\u001b[0m\u001b[0;34m:\u001b[0m\u001b[0;34m\u001b[0m\u001b[0;34m\u001b[0m\u001b[0m\n\u001b[0;32m---> 49\u001b[0;31m             \u001b[0mdata\u001b[0m \u001b[0;34m=\u001b[0m \u001b[0;34m[\u001b[0m\u001b[0mself\u001b[0m\u001b[0;34m.\u001b[0m\u001b[0mdataset\u001b[0m\u001b[0;34m[\u001b[0m\u001b[0midx\u001b[0m\u001b[0;34m]\u001b[0m \u001b[0;32mfor\u001b[0m \u001b[0midx\u001b[0m \u001b[0;32min\u001b[0m \u001b[0mpossibly_batched_index\u001b[0m\u001b[0;34m]\u001b[0m\u001b[0;34m\u001b[0m\u001b[0;34m\u001b[0m\u001b[0m\n\u001b[0m\u001b[1;32m     50\u001b[0m         \u001b[0;32melse\u001b[0m\u001b[0;34m:\u001b[0m\u001b[0;34m\u001b[0m\u001b[0;34m\u001b[0m\u001b[0m\n\u001b[1;32m     51\u001b[0m             \u001b[0mdata\u001b[0m \u001b[0;34m=\u001b[0m \u001b[0mself\u001b[0m\u001b[0;34m.\u001b[0m\u001b[0mdataset\u001b[0m\u001b[0;34m[\u001b[0m\u001b[0mpossibly_batched_index\u001b[0m\u001b[0;34m]\u001b[0m\u001b[0;34m\u001b[0m\u001b[0;34m\u001b[0m\u001b[0m\n",
      "\u001b[0;32m/usr/local/lib/python3.7/dist-packages/torch/utils/data/dataset.py\u001b[0m in \u001b[0;36m__getitem__\u001b[0;34m(self, idx)\u001b[0m\n\u001b[1;32m    361\u001b[0m         \u001b[0;32mif\u001b[0m \u001b[0misinstance\u001b[0m\u001b[0;34m(\u001b[0m\u001b[0midx\u001b[0m\u001b[0;34m,\u001b[0m \u001b[0mlist\u001b[0m\u001b[0;34m)\u001b[0m\u001b[0;34m:\u001b[0m\u001b[0;34m\u001b[0m\u001b[0;34m\u001b[0m\u001b[0m\n\u001b[1;32m    362\u001b[0m             \u001b[0;32mreturn\u001b[0m \u001b[0mself\u001b[0m\u001b[0;34m.\u001b[0m\u001b[0mdataset\u001b[0m\u001b[0;34m[\u001b[0m\u001b[0;34m[\u001b[0m\u001b[0mself\u001b[0m\u001b[0;34m.\u001b[0m\u001b[0mindices\u001b[0m\u001b[0;34m[\u001b[0m\u001b[0mi\u001b[0m\u001b[0;34m]\u001b[0m \u001b[0;32mfor\u001b[0m \u001b[0mi\u001b[0m \u001b[0;32min\u001b[0m \u001b[0midx\u001b[0m\u001b[0;34m]\u001b[0m\u001b[0;34m]\u001b[0m\u001b[0;34m\u001b[0m\u001b[0;34m\u001b[0m\u001b[0m\n\u001b[0;32m--> 363\u001b[0;31m         \u001b[0;32mreturn\u001b[0m \u001b[0mself\u001b[0m\u001b[0;34m.\u001b[0m\u001b[0mdataset\u001b[0m\u001b[0;34m[\u001b[0m\u001b[0mself\u001b[0m\u001b[0;34m.\u001b[0m\u001b[0mindices\u001b[0m\u001b[0;34m[\u001b[0m\u001b[0midx\u001b[0m\u001b[0;34m]\u001b[0m\u001b[0;34m]\u001b[0m\u001b[0;34m\u001b[0m\u001b[0;34m\u001b[0m\u001b[0m\n\u001b[0m\u001b[1;32m    364\u001b[0m \u001b[0;34m\u001b[0m\u001b[0m\n\u001b[1;32m    365\u001b[0m     \u001b[0;32mdef\u001b[0m \u001b[0m__len__\u001b[0m\u001b[0;34m(\u001b[0m\u001b[0mself\u001b[0m\u001b[0;34m)\u001b[0m\u001b[0;34m:\u001b[0m\u001b[0;34m\u001b[0m\u001b[0;34m\u001b[0m\u001b[0m\n",
      "\u001b[0;32m/usr/local/lib/python3.7/dist-packages/torchvision/datasets/cifar.py\u001b[0m in \u001b[0;36m__getitem__\u001b[0;34m(self, index)\u001b[0m\n\u001b[1;32m    119\u001b[0m \u001b[0;34m\u001b[0m\u001b[0m\n\u001b[1;32m    120\u001b[0m         \u001b[0;32mif\u001b[0m \u001b[0mself\u001b[0m\u001b[0;34m.\u001b[0m\u001b[0mtransform\u001b[0m \u001b[0;32mis\u001b[0m \u001b[0;32mnot\u001b[0m \u001b[0;32mNone\u001b[0m\u001b[0;34m:\u001b[0m\u001b[0;34m\u001b[0m\u001b[0;34m\u001b[0m\u001b[0m\n\u001b[0;32m--> 121\u001b[0;31m             \u001b[0mimg\u001b[0m \u001b[0;34m=\u001b[0m \u001b[0mself\u001b[0m\u001b[0;34m.\u001b[0m\u001b[0mtransform\u001b[0m\u001b[0;34m(\u001b[0m\u001b[0mimg\u001b[0m\u001b[0;34m)\u001b[0m\u001b[0;34m\u001b[0m\u001b[0;34m\u001b[0m\u001b[0m\n\u001b[0m\u001b[1;32m    122\u001b[0m \u001b[0;34m\u001b[0m\u001b[0m\n\u001b[1;32m    123\u001b[0m         \u001b[0;32mif\u001b[0m \u001b[0mself\u001b[0m\u001b[0;34m.\u001b[0m\u001b[0mtarget_transform\u001b[0m \u001b[0;32mis\u001b[0m \u001b[0;32mnot\u001b[0m \u001b[0;32mNone\u001b[0m\u001b[0;34m:\u001b[0m\u001b[0;34m\u001b[0m\u001b[0;34m\u001b[0m\u001b[0m\n",
      "\u001b[0;32m/usr/local/lib/python3.7/dist-packages/torchvision/transforms/transforms.py\u001b[0m in \u001b[0;36m__call__\u001b[0;34m(self, pic)\u001b[0m\n\u001b[1;32m     96\u001b[0m             \u001b[0mTensor\u001b[0m\u001b[0;34m:\u001b[0m \u001b[0mConverted\u001b[0m \u001b[0mimage\u001b[0m\u001b[0;34m.\u001b[0m\u001b[0;34m\u001b[0m\u001b[0;34m\u001b[0m\u001b[0m\n\u001b[1;32m     97\u001b[0m         \"\"\"\n\u001b[0;32m---> 98\u001b[0;31m         \u001b[0;32mreturn\u001b[0m \u001b[0mF\u001b[0m\u001b[0;34m.\u001b[0m\u001b[0mto_tensor\u001b[0m\u001b[0;34m(\u001b[0m\u001b[0mpic\u001b[0m\u001b[0;34m)\u001b[0m\u001b[0;34m\u001b[0m\u001b[0;34m\u001b[0m\u001b[0m\n\u001b[0m\u001b[1;32m     99\u001b[0m \u001b[0;34m\u001b[0m\u001b[0m\n\u001b[1;32m    100\u001b[0m     \u001b[0;32mdef\u001b[0m \u001b[0m__repr__\u001b[0m\u001b[0;34m(\u001b[0m\u001b[0mself\u001b[0m\u001b[0;34m)\u001b[0m\u001b[0;34m:\u001b[0m\u001b[0;34m\u001b[0m\u001b[0;34m\u001b[0m\u001b[0m\n",
      "\u001b[0;32m/usr/local/lib/python3.7/dist-packages/torchvision/transforms/functional.py\u001b[0m in \u001b[0;36mto_tensor\u001b[0;34m(pic)\u001b[0m\n\u001b[1;32m    146\u001b[0m     \u001b[0mimg\u001b[0m \u001b[0;34m=\u001b[0m \u001b[0mimg\u001b[0m\u001b[0;34m.\u001b[0m\u001b[0mview\u001b[0m\u001b[0;34m(\u001b[0m\u001b[0mpic\u001b[0m\u001b[0;34m.\u001b[0m\u001b[0msize\u001b[0m\u001b[0;34m[\u001b[0m\u001b[0;36m1\u001b[0m\u001b[0;34m]\u001b[0m\u001b[0;34m,\u001b[0m \u001b[0mpic\u001b[0m\u001b[0;34m.\u001b[0m\u001b[0msize\u001b[0m\u001b[0;34m[\u001b[0m\u001b[0;36m0\u001b[0m\u001b[0;34m]\u001b[0m\u001b[0;34m,\u001b[0m \u001b[0mlen\u001b[0m\u001b[0;34m(\u001b[0m\u001b[0mpic\u001b[0m\u001b[0;34m.\u001b[0m\u001b[0mgetbands\u001b[0m\u001b[0;34m(\u001b[0m\u001b[0;34m)\u001b[0m\u001b[0;34m)\u001b[0m\u001b[0;34m)\u001b[0m\u001b[0;34m\u001b[0m\u001b[0;34m\u001b[0m\u001b[0m\n\u001b[1;32m    147\u001b[0m     \u001b[0;31m# put it from HWC to CHW format\u001b[0m\u001b[0;34m\u001b[0m\u001b[0;34m\u001b[0m\u001b[0;34m\u001b[0m\u001b[0m\n\u001b[0;32m--> 148\u001b[0;31m     \u001b[0mimg\u001b[0m \u001b[0;34m=\u001b[0m \u001b[0mimg\u001b[0m\u001b[0;34m.\u001b[0m\u001b[0mpermute\u001b[0m\u001b[0;34m(\u001b[0m\u001b[0;34m(\u001b[0m\u001b[0;36m2\u001b[0m\u001b[0;34m,\u001b[0m \u001b[0;36m0\u001b[0m\u001b[0;34m,\u001b[0m \u001b[0;36m1\u001b[0m\u001b[0;34m)\u001b[0m\u001b[0;34m)\u001b[0m\u001b[0;34m.\u001b[0m\u001b[0mcontiguous\u001b[0m\u001b[0;34m(\u001b[0m\u001b[0;34m)\u001b[0m\u001b[0;34m\u001b[0m\u001b[0;34m\u001b[0m\u001b[0m\n\u001b[0m\u001b[1;32m    149\u001b[0m     \u001b[0;32mif\u001b[0m \u001b[0misinstance\u001b[0m\u001b[0;34m(\u001b[0m\u001b[0mimg\u001b[0m\u001b[0;34m,\u001b[0m \u001b[0mtorch\u001b[0m\u001b[0;34m.\u001b[0m\u001b[0mByteTensor\u001b[0m\u001b[0;34m)\u001b[0m\u001b[0;34m:\u001b[0m\u001b[0;34m\u001b[0m\u001b[0;34m\u001b[0m\u001b[0m\n\u001b[1;32m    150\u001b[0m         \u001b[0;32mreturn\u001b[0m \u001b[0mimg\u001b[0m\u001b[0;34m.\u001b[0m\u001b[0mto\u001b[0m\u001b[0;34m(\u001b[0m\u001b[0mdtype\u001b[0m\u001b[0;34m=\u001b[0m\u001b[0mdefault_float_dtype\u001b[0m\u001b[0;34m)\u001b[0m\u001b[0;34m.\u001b[0m\u001b[0mdiv\u001b[0m\u001b[0;34m(\u001b[0m\u001b[0;36m255\u001b[0m\u001b[0;34m)\u001b[0m\u001b[0;34m\u001b[0m\u001b[0;34m\u001b[0m\u001b[0m\n",
      "\u001b[0;31mKeyboardInterrupt\u001b[0m: "
     ]
    }
   ],
   "source": [
    "epochs = 50\n",
    "model = move_to_device(Model_1(), device)\n",
    "\n",
    "history = [validate_model(model, validation_loader)]\n",
    "print(history)\n",
    "\n",
    "history += fit_model(epochs, learning_rate, model, training_loader, validation_loader, optimiser_function)"
   ]
  },
  {
   "cell_type": "code",
   "execution_count": null,
   "metadata": {
    "id": "LEp8hRaPEW4Z"
   },
   "outputs": [],
   "source": [
    "plot_losses(history)"
   ]
  },
  {
   "cell_type": "code",
   "execution_count": null,
   "metadata": {
    "id": "uj3JDQUEHKHt"
   },
   "outputs": [],
   "source": [
    "plot_accuracies(history)"
   ]
  },
  {
   "cell_type": "markdown",
   "metadata": {
    "id": "VTuPZT5zjfo5"
   },
   "source": [
    "Varying batch size: 64, 128, 256"
   ]
  },
  {
   "cell_type": "code",
   "execution_count": null,
   "metadata": {
    "id": "dib-8hQs5_3W"
   },
   "outputs": [],
   "source": [
    "# Baseline: 128\n",
    "\n",
    "batch_size = 128 # Number of images loaded into network at once\n",
    "epochs = 10 # Training run time\n",
    "optimiser_function = torch.optim.SGD # Optimiser function - set to Stochastic Gradient Descent\n",
    "learning_rate = 0.1 #1e-1 # Rate of optimisation\n",
    "num_workers = 2 # subprocesses to use for data loading"
   ]
  },
  {
   "cell_type": "code",
   "execution_count": null,
   "metadata": {
    "id": "T4bt-CiHjiGM"
   },
   "outputs": [],
   "source": [
    "training_loader = DataLoader(training_data, batch_size, shuffle=True, num_workers=num_workers, pin_memory=True)\n",
    "validation_loader = DataLoader(validation_data, batch_size*2, num_workers, pin_memory=True)\n",
    "testing_loader = DataLoader(testing_data, batch_size*2, num_workers, pin_memory=True)\n",
    "\n",
    "model = move_to_device(Model_1(), device)\n",
    "\n",
    "history = [validate_model(model, validation_loader)]\n",
    "print(history)\n",
    "\n",
    "history += fit_model(epochs, learning_rate, model, training_loader, validation_loader, optimiser_function)"
   ]
  },
  {
   "cell_type": "code",
   "execution_count": null,
   "metadata": {
    "id": "Yh2U94nhNwj1"
   },
   "outputs": [],
   "source": [
    "plot_losses(history)"
   ]
  },
  {
   "cell_type": "code",
   "execution_count": null,
   "metadata": {
    "id": "P1XZ1mnsHp9p"
   },
   "outputs": [],
   "source": [
    "plot_accuracies(history)"
   ]
  },
  {
   "cell_type": "code",
   "execution_count": null,
   "metadata": {
    "id": "Cph8YBYYN1gP"
   },
   "outputs": [],
   "source": [
    "# Lower: 64\n",
    "\n",
    "batch_size = 64\n",
    "\n",
    "training_loader = DataLoader(training_data, batch_size, shuffle=True, num_workers=num_workers, pin_memory=True)\n",
    "validation_loader = DataLoader(validation_data, batch_size*2, num_workers, pin_memory=True)\n",
    "testing_loader = DataLoader(testing_data, batch_size*2, num_workers, pin_memory=True)\n",
    "\n",
    "model = move_to_device(Model_1(), device)\n",
    "\n",
    "history = [validate_model(model, validation_loader)]\n",
    "print(history)\n",
    "\n",
    "history += fit_model(epochs, learning_rate, model, training_loader, validation_loader, optimiser_function)"
   ]
  },
  {
   "cell_type": "code",
   "execution_count": null,
   "metadata": {
    "id": "4Uo7T1bDN1ny"
   },
   "outputs": [],
   "source": [
    "plot_losses(history)"
   ]
  },
  {
   "cell_type": "code",
   "execution_count": null,
   "metadata": {
    "id": "X71JEwTiN1r9"
   },
   "outputs": [],
   "source": [
    "plot_accuracies(history)"
   ]
  },
  {
   "cell_type": "code",
   "execution_count": null,
   "metadata": {
    "id": "ZSBC9vZRLw7-"
   },
   "outputs": [],
   "source": [
    "# Higher: 256\n",
    "\n",
    "batch_size = 256\n",
    "\n",
    "training_loader = DataLoader(training_data, batch_size, shuffle=True, num_workers=num_workers, pin_memory=True)\n",
    "validation_loader = DataLoader(validation_data, batch_size*2, num_workers, pin_memory=True)\n",
    "testing_loader = DataLoader(testing_data, batch_size*2, num_workers, pin_memory=True)\n",
    "\n",
    "model = move_to_device(Model_1(), device)\n",
    "\n",
    "history = [validate_model(model, validation_loader)]\n",
    "print(history)\n",
    "\n",
    "history += fit_model(epochs, learning_rate, model, training_loader, validation_loader, optimiser_function)"
   ]
  },
  {
   "cell_type": "code",
   "execution_count": null,
   "metadata": {
    "id": "gVqAGNeuLw_T"
   },
   "outputs": [],
   "source": [
    "plot_losses(history)"
   ]
  },
  {
   "cell_type": "code",
   "execution_count": null,
   "metadata": {
    "id": "EaxdgsJuLxCT"
   },
   "outputs": [],
   "source": [
    "plot_accuracies(history)"
   ]
  },
  {
   "cell_type": "markdown",
   "metadata": {
    "id": "iQbbCJoNl_cw"
   },
   "source": [
    "Varying optimisation function: Stochastic Gradient Descent vs Adam"
   ]
  },
  {
   "cell_type": "code",
   "execution_count": null,
   "metadata": {
    "id": "l4AVEy1NMe2X"
   },
   "outputs": [],
   "source": [
    "# Baseline: SGD\n",
    "\n",
    "batch_size = 128 # Number of images loaded into network at once\n",
    "epochs = 10 # Training run time\n",
    "optimiser_function = torch.optim.SGD # Optimiser function\n",
    "learning_rate = 0.1 #1e-1 # Rate of optimisation\n",
    "num_workers = 2 # subprocesses to use for data loading\n",
    "\n",
    "model = move_to_device(Model_1(), device)\n",
    "\n",
    "history = [validate_model(model, validation_loader)]\n",
    "print(history)\n",
    "\n",
    "history += fit_model(epochs, learning_rate, model, training_loader, validation_loader, optimiser_function)"
   ]
  },
  {
   "cell_type": "code",
   "execution_count": null,
   "metadata": {
    "id": "pvq74hDQMan9"
   },
   "outputs": [],
   "source": [
    "plot_losses(history)"
   ]
  },
  {
   "cell_type": "code",
   "execution_count": null,
   "metadata": {
    "id": "Y8vMPNW-Marm"
   },
   "outputs": [],
   "source": [
    "plot_accuracies(history)"
   ]
  },
  {
   "cell_type": "code",
   "execution_count": null,
   "metadata": {
    "id": "fEYc5R7VMtZl"
   },
   "outputs": [],
   "source": [
    "# Alternative optimiser function: Adam\n",
    "\n",
    "optimiser_function = torch.optim.Adam\n",
    "\n",
    "model = move_to_device(Model_1(), device)\n",
    "\n",
    "history = [validate_model(model, validation_loader)]\n",
    "print(history)\n",
    "\n",
    "history += fit_model(epochs, learning_rate, model, training_loader, validation_loader, optimiser_function)"
   ]
  },
  {
   "cell_type": "code",
   "execution_count": null,
   "metadata": {
    "id": "knWuJ1gBMDQl"
   },
   "outputs": [],
   "source": [
    "plot_losses(history)"
   ]
  },
  {
   "cell_type": "code",
   "execution_count": null,
   "metadata": {
    "id": "s8qWj3HvMFWM"
   },
   "outputs": [],
   "source": [
    "plot_accuracies(history)"
   ]
  },
  {
   "cell_type": "markdown",
   "metadata": {
    "id": "7F3x6L4jMioy"
   },
   "source": [
    "Varying learning rate: 0.1, 0.01, 0.001"
   ]
  },
  {
   "cell_type": "code",
   "execution_count": null,
   "metadata": {
    "id": "d1V14npoMkpb"
   },
   "outputs": [],
   "source": [
    "# Baseline: 0.1\n",
    "\n",
    "batch_size = 128 # Number of images loaded into network at once\n",
    "epochs = 10 # Training run time\n",
    "optimiser_function = torch.optim.SGD # Optimiser function - set to Stochastic Gradient Descent\n",
    "learning_rate = 0.1 #1e-1 # Rate of optimisation\n",
    "num_workers = 2 # subprocesses to use for data loading\n",
    "\n",
    "model = move_to_device(Model_1(), device)\n",
    "\n",
    "history = [validate_model(model, validation_loader)]\n",
    "print(history)\n",
    "\n",
    "history += fit_model(epochs, learning_rate, model, training_loader, validation_loader, optimiser_function)"
   ]
  },
  {
   "cell_type": "code",
   "execution_count": null,
   "metadata": {
    "id": "EZhYylN0QrrJ"
   },
   "outputs": [],
   "source": [
    "plot_losses(history)"
   ]
  },
  {
   "cell_type": "code",
   "execution_count": null,
   "metadata": {
    "id": "JapomXALMs1a"
   },
   "outputs": [],
   "source": [
    "plot_accuracies(history)"
   ]
  },
  {
   "cell_type": "code",
   "execution_count": null,
   "metadata": {
    "id": "JvER9MjvQm77"
   },
   "outputs": [],
   "source": [
    "# 0.01\n",
    "\n",
    "batch_size = 128 # Number of images loaded into network at once\n",
    "epochs = 10 # Training run time\n",
    "optimiser_function = torch.optim.SGD # Optimiser function - set to Stochastic Gradient Descent\n",
    "learning_rate = 0.01 #1e-1 # Rate of optimisation\n",
    "num_workers = 2 # subprocesses to use for data loading\n",
    "\n",
    "model = move_to_device(Model_1(), device)\n",
    "\n",
    "history = [validate_model(model, validation_loader)]\n",
    "print(history)\n",
    "\n",
    "history += fit_model(epochs, learning_rate, model, training_loader, validation_loader, optimiser_function)"
   ]
  },
  {
   "cell_type": "code",
   "execution_count": null,
   "metadata": {
    "id": "9-Oa3Q0JQnBE"
   },
   "outputs": [],
   "source": [
    "plot_losses(history)"
   ]
  },
  {
   "cell_type": "code",
   "execution_count": null,
   "metadata": {
    "id": "X2DBL-55QnFV"
   },
   "outputs": [],
   "source": [
    "plot_accuracies(history)"
   ]
  },
  {
   "cell_type": "code",
   "execution_count": null,
   "metadata": {
    "id": "pKF29ipKQnJp"
   },
   "outputs": [],
   "source": [
    "# 0.001\n",
    "\n",
    "batch_size = 128 # Number of images loaded into network at once\n",
    "epochs = 10 # Training run time\n",
    "optimiser_function = torch.optim.SGD # Optimiser function - set to Stochastic Gradient Descent\n",
    "learning_rate = 0.1 #1e-1 # Rate of optimisation\n",
    "num_workers = 2 # subprocesses to use for data loading\n",
    "\n",
    "model = move_to_device(Model_1(), device)\n",
    "\n",
    "history = [validate_model(model, validation_loader)]\n",
    "print(history)\n",
    "\n",
    "history += fit_model(epochs, learning_rate, model, training_loader, validation_loader, optimiser_function)"
   ]
  },
  {
   "cell_type": "code",
   "execution_count": null,
   "metadata": {
    "id": "Wt0wunQISyt3"
   },
   "outputs": [],
   "source": [
    "plot_losses(history)"
   ]
  },
  {
   "cell_type": "code",
   "execution_count": null,
   "metadata": {
    "id": "kI2VGqnBSyy_"
   },
   "outputs": [],
   "source": [
    "plot_accuracies(history)"
   ]
  },
  {
   "cell_type": "markdown",
   "metadata": {
    "id": "3etO2DnYjiaS"
   },
   "source": [
    "Varying number of hidden layers: Baseline (two hidden), three hidden, four hidden"
   ]
  },
  {
   "cell_type": "code",
   "execution_count": null,
   "metadata": {
    "id": "nbpmalJyS7Xf"
   },
   "outputs": [],
   "source": [
    "# Baseline - two hidden\n",
    "\n",
    "batch_size = 128 # Number of images loaded into network at once\n",
    "epochs = 10 # Training run time\n",
    "optimiser_function = torch.optim.SGD # Optimiser function - set to Stochastic Gradient Descent\n",
    "learning_rate = 0.1 #1e-1 # Rate of optimisation\n",
    "num_workers = 2 # subprocesses to use for data loading\n",
    "\n",
    "model = move_to_device(Model_1(), device)\n",
    "\n",
    "history = [validate_model(model, validation_loader)]\n",
    "print(history)\n",
    "\n",
    "history += fit_model(epochs, learning_rate, model, training_loader, validation_loader, optimiser_function)"
   ]
  },
  {
   "cell_type": "code",
   "execution_count": null,
   "metadata": {
    "id": "RpdIXauPa11F"
   },
   "outputs": [],
   "source": [
    "plot_losses(history)"
   ]
  },
  {
   "cell_type": "code",
   "execution_count": null,
   "metadata": {
    "id": "A3EZv5uda16n"
   },
   "outputs": [],
   "source": [
    "plot_accuracies(history)"
   ]
  },
  {
   "cell_type": "code",
   "execution_count": null,
   "metadata": {
    "id": "JSP0laHTaGnV"
   },
   "outputs": [],
   "source": [
    "# Three hidden layers"
   ]
  },
  {
   "cell_type": "code",
   "execution_count": null,
   "metadata": {
    "id": "6GRbtr8nS738"
   },
   "outputs": [],
   "source": [
    "class Model_three_hidden(NeuralNetwork):\n",
    "    def __init__(self):\n",
    "\n",
    "        super().__init__()\n",
    "        self.linear1 = nn.Linear(input_size, 256)\n",
    "        self.linear2 = nn.Linear(256, 128)\n",
    "        self.linear3 = nn.Linear(128, 128)\n",
    "        self.linear4 = nn.Linear(128, output_size)\n",
    "        \n",
    "    def forward(self, x):\n",
    "\n",
    "        # Flatten images into vectors\n",
    "        x = x.view(x.size(0), -1)\n",
    "\n",
    "        # Apply layers & activation functions\n",
    "        x = self.linear1(x)\n",
    "        x = F.relu(x)\n",
    "        x = self.linear2(x)\n",
    "        x = F.relu(x)\n",
    "        x = self.linear3(x)\n",
    "        x = F.relu(x)\n",
    "        x = self.linear4(x)\n",
    "        \n",
    "        return x"
   ]
  },
  {
   "cell_type": "code",
   "execution_count": null,
   "metadata": {
    "id": "j5smS7IZS77v"
   },
   "outputs": [],
   "source": [
    "model = move_to_device(Model_two_hidden(), device)\n",
    "\n",
    "history = [validate_model(model, validation_loader)]\n",
    "print(history)\n",
    "\n",
    "history += fit_model(epochs, learning_rate, model, training_loader, validation_loader, optimiser_function)"
   ]
  },
  {
   "cell_type": "code",
   "execution_count": null,
   "metadata": {
    "id": "nOi0M3VXa0HC"
   },
   "outputs": [],
   "source": [
    "plot_losses(history)"
   ]
  },
  {
   "cell_type": "code",
   "execution_count": null,
   "metadata": {
    "id": "4iBN3MFLS7_m"
   },
   "outputs": [],
   "source": [
    "plot_accuracies(history)"
   ]
  },
  {
   "cell_type": "code",
   "execution_count": null,
   "metadata": {
    "id": "o8-h9PNPZpao"
   },
   "outputs": [],
   "source": [
    "class Model_four_hidden(NeuralNetwork):\n",
    "    def __init__(self):\n",
    "\n",
    "        super().__init__()\n",
    "        self.linear1 = nn.Linear(input_size, 256)\n",
    "        self.linear2 = nn.Linear(256, 256)\n",
    "        self.linear3 = nn.Linear(256, 128)\n",
    "        self.linear4 = nn.Linear(128, 128)\n",
    "        self.linear5 = nn.Linear(128, output_size)\n",
    "        \n",
    "    def forward(self, x):\n",
    "\n",
    "        # Flatten images into vectors\n",
    "        x = x.view(x.size(0), -1)\n",
    "\n",
    "        # Apply layers & activation functions\n",
    "        x = self.linear1(x)\n",
    "        x = F.relu(x)\n",
    "        x = self.linear2(x)\n",
    "        x = F.relu(x)\n",
    "        x = self.linear3(x)\n",
    "        \n",
    "        return x"
   ]
  },
  {
   "cell_type": "code",
   "execution_count": null,
   "metadata": {
    "id": "6NO3D843aviT"
   },
   "outputs": [],
   "source": [
    "model = move_to_device(Model_three_hidden(), device) \n",
    "\n",
    "history = [validate_model(model, validation_loader)]\n",
    "print(history)\n",
    "\n",
    "history += fit_model(epochs, learning_rate, model, training_loader, validation_loader, optimiser_function)"
   ]
  },
  {
   "cell_type": "code",
   "execution_count": null,
   "metadata": {
    "id": "Ntz_PEUNauJb"
   },
   "outputs": [],
   "source": [
    "plot_losses(history)"
   ]
  },
  {
   "cell_type": "code",
   "execution_count": null,
   "metadata": {
    "id": "7YfTauRpawZE"
   },
   "outputs": [],
   "source": [
    "plot_accuracies(history)"
   ]
  },
  {
   "cell_type": "markdown",
   "metadata": {
    "id": "cWWcRWi2jplI"
   },
   "source": [
    "Varying number of nodes in hidden layers"
   ]
  },
  {
   "cell_type": "code",
   "execution_count": null,
   "metadata": {
    "id": "oL6JH6l1jpJE"
   },
   "outputs": [],
   "source": [
    "# Baseline\n",
    "\n",
    "batch_size = 128 # Number of images loaded into network at once\n",
    "epochs = 10 # Training run time\n",
    "optimiser_function = torch.optim.SGD # Optimiser function - set to Stochastic Gradient Descent\n",
    "learning_rate = 0.1 #1e-1 # Rate of optimisation\n",
    "num_workers = 2 # subprocesses to use for data loading\n",
    "\n",
    "model = move_to_device(Model_1(), device)\n",
    "\n",
    "history = [validate_model(model, validation_loader)]\n",
    "print(history)\n",
    "\n",
    "history += fit_model(epochs, learning_rate, model, training_loader, validation_loader, optimiser_function)"
   ]
  },
  {
   "cell_type": "code",
   "execution_count": null,
   "metadata": {
    "id": "k74sg6HCTEyY"
   },
   "outputs": [],
   "source": [
    "plot_losses(history)"
   ]
  },
  {
   "cell_type": "code",
   "execution_count": null,
   "metadata": {
    "id": "-k1xndE0TFJC"
   },
   "outputs": [],
   "source": [
    "plot_accuracies(history)"
   ]
  },
  {
   "cell_type": "code",
   "execution_count": null,
   "metadata": {
    "id": "G4v911foTFNX"
   },
   "outputs": [],
   "source": [
    "# Fewer nodes"
   ]
  },
  {
   "cell_type": "code",
   "execution_count": null,
   "metadata": {
    "id": "2oDg9R5JTStu"
   },
   "outputs": [],
   "source": [
    "class Model_fewer_nodes(NeuralNetwork):\n",
    "    def __init__(self):\n",
    "\n",
    "        super().__init__()\n",
    "        self.linear1 = nn.Linear(input_size, 128)\n",
    "        self.linear2 = nn.Linear(128, 64)\n",
    "        self.linear3 = nn.Linear(64, output_size)\n",
    "        \n",
    "    def forward(self, x):\n",
    "\n",
    "        # Flatten images into vectors\n",
    "        x = x.view(x.size(0), -1)\n",
    "\n",
    "        # Apply layers & activation functions\n",
    "        x = self.linear1(x)\n",
    "        x = F.relu(x)\n",
    "        x = self.linear2(x)\n",
    "        x = F.relu(x)\n",
    "        x = self.linear3(x)\n",
    "        \n",
    "        return x"
   ]
  },
  {
   "cell_type": "code",
   "execution_count": null,
   "metadata": {
    "id": "_WQZiRy0Bh90"
   },
   "outputs": [],
   "source": [
    "model = move_to_device(Model_fewer_nodes(), device) \n",
    "\n",
    "history = [validate_model(model, validation_loader)]\n",
    "print(history)\n",
    "\n",
    "history += fit_model(epochs, learning_rate, model, training_loader, validation_loader, optimiser_function)"
   ]
  },
  {
   "cell_type": "code",
   "execution_count": null,
   "metadata": {
    "id": "pyl-h1noTFRc"
   },
   "outputs": [],
   "source": [
    "plot_losses(history)"
   ]
  },
  {
   "cell_type": "code",
   "execution_count": null,
   "metadata": {
    "id": "932vm-CuTFhm"
   },
   "outputs": [],
   "source": [
    "plot_accuracies(history)"
   ]
  },
  {
   "cell_type": "code",
   "execution_count": null,
   "metadata": {
    "id": "R26phNEBTFmp"
   },
   "outputs": [],
   "source": [
    "# More nodes"
   ]
  },
  {
   "cell_type": "code",
   "execution_count": null,
   "metadata": {
    "id": "yf3kwtRBTFsU"
   },
   "outputs": [],
   "source": [
    "class Model_more_nodes(NeuralNetwork):\n",
    "    def __init__(self):\n",
    "\n",
    "        super().__init__()\n",
    "        self.linear1 = nn.Linear(input_size, 512)\n",
    "        self.linear2 = nn.Linear(512, 256)\n",
    "        self.linear3 = nn.Linear(256, output_size)\n",
    "        \n",
    "    def forward(self, x):\n",
    "\n",
    "        # Flatten images into vectors\n",
    "        x = x.view(x.size(0), -1)\n",
    "\n",
    "        # Apply layers & activation functions\n",
    "        x = self.linear1(x)\n",
    "        x = F.relu(x)\n",
    "        x = self.linear2(x)\n",
    "        x = F.relu(x)\n",
    "        x = self.linear3(x)\n",
    "        \n",
    "        return x"
   ]
  },
  {
   "cell_type": "code",
   "execution_count": null,
   "metadata": {
    "id": "8yN2_NSgEzPN"
   },
   "outputs": [],
   "source": [
    "model = move_to_device(Model_more_nodes(), device) \n",
    "\n",
    "history = [validate_model(model, validation_loader)]\n",
    "print(history)\n",
    "\n",
    "history += fit_model(epochs, learning_rate, model, training_loader, validation_loader, optimiser_function)"
   ]
  },
  {
   "cell_type": "code",
   "execution_count": null,
   "metadata": {
    "id": "G7TvZpzyTVFN"
   },
   "outputs": [],
   "source": [
    "plot_losses(history)"
   ]
  },
  {
   "cell_type": "code",
   "execution_count": null,
   "metadata": {
    "id": "CPZwU1jFTYeg"
   },
   "outputs": [],
   "source": [
    "plot_accuracies(history)"
   ]
  }
 ],
 "metadata": {
  "colab": {
   "collapsed_sections": [],
   "name": "Task 4.ipynb",
   "provenance": []
  },
  "kernelspec": {
   "display_name": "Python 3",
   "language": "python",
   "name": "python3"
  },
  "language_info": {
   "codemirror_mode": {
    "name": "ipython",
    "version": 3
   },
   "file_extension": ".py",
   "mimetype": "text/x-python",
   "name": "python",
   "nbconvert_exporter": "python",
   "pygments_lexer": "ipython3",
   "version": "3.8.8"
  },
  "widgets": {
   "application/vnd.jupyter.widget-state+json": {
    "04d013521d4b46b5a5bbe0bd9173b247": {
     "model_module": "@jupyter-widgets/base",
     "model_module_version": "1.2.0",
     "model_name": "LayoutModel",
     "state": {
      "_model_module": "@jupyter-widgets/base",
      "_model_module_version": "1.2.0",
      "_model_name": "LayoutModel",
      "_view_count": null,
      "_view_module": "@jupyter-widgets/base",
      "_view_module_version": "1.2.0",
      "_view_name": "LayoutView",
      "align_content": null,
      "align_items": null,
      "align_self": null,
      "border": null,
      "bottom": null,
      "display": null,
      "flex": null,
      "flex_flow": null,
      "grid_area": null,
      "grid_auto_columns": null,
      "grid_auto_flow": null,
      "grid_auto_rows": null,
      "grid_column": null,
      "grid_gap": null,
      "grid_row": null,
      "grid_template_areas": null,
      "grid_template_columns": null,
      "grid_template_rows": null,
      "height": null,
      "justify_content": null,
      "justify_items": null,
      "left": null,
      "margin": null,
      "max_height": null,
      "max_width": null,
      "min_height": null,
      "min_width": null,
      "object_fit": null,
      "object_position": null,
      "order": null,
      "overflow": null,
      "overflow_x": null,
      "overflow_y": null,
      "padding": null,
      "right": null,
      "top": null,
      "visibility": null,
      "width": null
     }
    },
    "450f9bade44b4dffa3c5365eb869b16c": {
     "model_module": "@jupyter-widgets/controls",
     "model_module_version": "1.5.0",
     "model_name": "HTMLModel",
     "state": {
      "_dom_classes": [],
      "_model_module": "@jupyter-widgets/controls",
      "_model_module_version": "1.5.0",
      "_model_name": "HTMLModel",
      "_view_count": null,
      "_view_module": "@jupyter-widgets/controls",
      "_view_module_version": "1.5.0",
      "_view_name": "HTMLView",
      "description": "",
      "description_tooltip": null,
      "layout": "IPY_MODEL_51948efdab4a4f6485d02e763fb4a521",
      "placeholder": "​",
      "style": "IPY_MODEL_9b2270310ddf488aae00daecf01e989b",
      "value": ""
     }
    },
    "51948efdab4a4f6485d02e763fb4a521": {
     "model_module": "@jupyter-widgets/base",
     "model_module_version": "1.2.0",
     "model_name": "LayoutModel",
     "state": {
      "_model_module": "@jupyter-widgets/base",
      "_model_module_version": "1.2.0",
      "_model_name": "LayoutModel",
      "_view_count": null,
      "_view_module": "@jupyter-widgets/base",
      "_view_module_version": "1.2.0",
      "_view_name": "LayoutView",
      "align_content": null,
      "align_items": null,
      "align_self": null,
      "border": null,
      "bottom": null,
      "display": null,
      "flex": null,
      "flex_flow": null,
      "grid_area": null,
      "grid_auto_columns": null,
      "grid_auto_flow": null,
      "grid_auto_rows": null,
      "grid_column": null,
      "grid_gap": null,
      "grid_row": null,
      "grid_template_areas": null,
      "grid_template_columns": null,
      "grid_template_rows": null,
      "height": null,
      "justify_content": null,
      "justify_items": null,
      "left": null,
      "margin": null,
      "max_height": null,
      "max_width": null,
      "min_height": null,
      "min_width": null,
      "object_fit": null,
      "object_position": null,
      "order": null,
      "overflow": null,
      "overflow_x": null,
      "overflow_y": null,
      "padding": null,
      "right": null,
      "top": null,
      "visibility": null,
      "width": null
     }
    },
    "578b50420fb04fedb119b69d0abcc95f": {
     "model_module": "@jupyter-widgets/controls",
     "model_module_version": "1.5.0",
     "model_name": "HTMLModel",
     "state": {
      "_dom_classes": [],
      "_model_module": "@jupyter-widgets/controls",
      "_model_module_version": "1.5.0",
      "_model_name": "HTMLModel",
      "_view_count": null,
      "_view_module": "@jupyter-widgets/controls",
      "_view_module_version": "1.5.0",
      "_view_name": "HTMLView",
      "description": "",
      "description_tooltip": null,
      "layout": "IPY_MODEL_cb7530b1130d46beb96ebce6919b1833",
      "placeholder": "​",
      "style": "IPY_MODEL_af8eb0ee033445388c22ba7e75c1a5fd",
      "value": " 170499072/? [00:01&lt;00:00, 88763308.24it/s]"
     }
    },
    "72bb601d605f47d68784502e6ad88c8f": {
     "model_module": "@jupyter-widgets/controls",
     "model_module_version": "1.5.0",
     "model_name": "HBoxModel",
     "state": {
      "_dom_classes": [],
      "_model_module": "@jupyter-widgets/controls",
      "_model_module_version": "1.5.0",
      "_model_name": "HBoxModel",
      "_view_count": null,
      "_view_module": "@jupyter-widgets/controls",
      "_view_module_version": "1.5.0",
      "_view_name": "HBoxView",
      "box_style": "",
      "children": [
       "IPY_MODEL_450f9bade44b4dffa3c5365eb869b16c",
       "IPY_MODEL_fffb8b15a95e4c558711d5c3a9ce27a5",
       "IPY_MODEL_578b50420fb04fedb119b69d0abcc95f"
      ],
      "layout": "IPY_MODEL_04d013521d4b46b5a5bbe0bd9173b247"
     }
    },
    "92d0c141608147108ae28264af697360": {
     "model_module": "@jupyter-widgets/base",
     "model_module_version": "1.2.0",
     "model_name": "LayoutModel",
     "state": {
      "_model_module": "@jupyter-widgets/base",
      "_model_module_version": "1.2.0",
      "_model_name": "LayoutModel",
      "_view_count": null,
      "_view_module": "@jupyter-widgets/base",
      "_view_module_version": "1.2.0",
      "_view_name": "LayoutView",
      "align_content": null,
      "align_items": null,
      "align_self": null,
      "border": null,
      "bottom": null,
      "display": null,
      "flex": null,
      "flex_flow": null,
      "grid_area": null,
      "grid_auto_columns": null,
      "grid_auto_flow": null,
      "grid_auto_rows": null,
      "grid_column": null,
      "grid_gap": null,
      "grid_row": null,
      "grid_template_areas": null,
      "grid_template_columns": null,
      "grid_template_rows": null,
      "height": null,
      "justify_content": null,
      "justify_items": null,
      "left": null,
      "margin": null,
      "max_height": null,
      "max_width": null,
      "min_height": null,
      "min_width": null,
      "object_fit": null,
      "object_position": null,
      "order": null,
      "overflow": null,
      "overflow_x": null,
      "overflow_y": null,
      "padding": null,
      "right": null,
      "top": null,
      "visibility": null,
      "width": null
     }
    },
    "92e130915b8a4588acc5ee70386b9922": {
     "model_module": "@jupyter-widgets/controls",
     "model_module_version": "1.5.0",
     "model_name": "ProgressStyleModel",
     "state": {
      "_model_module": "@jupyter-widgets/controls",
      "_model_module_version": "1.5.0",
      "_model_name": "ProgressStyleModel",
      "_view_count": null,
      "_view_module": "@jupyter-widgets/base",
      "_view_module_version": "1.2.0",
      "_view_name": "StyleView",
      "bar_color": null,
      "description_width": ""
     }
    },
    "9b2270310ddf488aae00daecf01e989b": {
     "model_module": "@jupyter-widgets/controls",
     "model_module_version": "1.5.0",
     "model_name": "DescriptionStyleModel",
     "state": {
      "_model_module": "@jupyter-widgets/controls",
      "_model_module_version": "1.5.0",
      "_model_name": "DescriptionStyleModel",
      "_view_count": null,
      "_view_module": "@jupyter-widgets/base",
      "_view_module_version": "1.2.0",
      "_view_name": "StyleView",
      "description_width": ""
     }
    },
    "af8eb0ee033445388c22ba7e75c1a5fd": {
     "model_module": "@jupyter-widgets/controls",
     "model_module_version": "1.5.0",
     "model_name": "DescriptionStyleModel",
     "state": {
      "_model_module": "@jupyter-widgets/controls",
      "_model_module_version": "1.5.0",
      "_model_name": "DescriptionStyleModel",
      "_view_count": null,
      "_view_module": "@jupyter-widgets/base",
      "_view_module_version": "1.2.0",
      "_view_name": "StyleView",
      "description_width": ""
     }
    },
    "cb7530b1130d46beb96ebce6919b1833": {
     "model_module": "@jupyter-widgets/base",
     "model_module_version": "1.2.0",
     "model_name": "LayoutModel",
     "state": {
      "_model_module": "@jupyter-widgets/base",
      "_model_module_version": "1.2.0",
      "_model_name": "LayoutModel",
      "_view_count": null,
      "_view_module": "@jupyter-widgets/base",
      "_view_module_version": "1.2.0",
      "_view_name": "LayoutView",
      "align_content": null,
      "align_items": null,
      "align_self": null,
      "border": null,
      "bottom": null,
      "display": null,
      "flex": null,
      "flex_flow": null,
      "grid_area": null,
      "grid_auto_columns": null,
      "grid_auto_flow": null,
      "grid_auto_rows": null,
      "grid_column": null,
      "grid_gap": null,
      "grid_row": null,
      "grid_template_areas": null,
      "grid_template_columns": null,
      "grid_template_rows": null,
      "height": null,
      "justify_content": null,
      "justify_items": null,
      "left": null,
      "margin": null,
      "max_height": null,
      "max_width": null,
      "min_height": null,
      "min_width": null,
      "object_fit": null,
      "object_position": null,
      "order": null,
      "overflow": null,
      "overflow_x": null,
      "overflow_y": null,
      "padding": null,
      "right": null,
      "top": null,
      "visibility": null,
      "width": null
     }
    },
    "fffb8b15a95e4c558711d5c3a9ce27a5": {
     "model_module": "@jupyter-widgets/controls",
     "model_module_version": "1.5.0",
     "model_name": "FloatProgressModel",
     "state": {
      "_dom_classes": [],
      "_model_module": "@jupyter-widgets/controls",
      "_model_module_version": "1.5.0",
      "_model_name": "FloatProgressModel",
      "_view_count": null,
      "_view_module": "@jupyter-widgets/controls",
      "_view_module_version": "1.5.0",
      "_view_name": "ProgressView",
      "bar_style": "success",
      "description": "",
      "description_tooltip": null,
      "layout": "IPY_MODEL_92d0c141608147108ae28264af697360",
      "max": 170498071,
      "min": 0,
      "orientation": "horizontal",
      "style": "IPY_MODEL_92e130915b8a4588acc5ee70386b9922",
      "value": 170498071
     }
    }
   }
  }
 },
 "nbformat": 4,
 "nbformat_minor": 1
}
